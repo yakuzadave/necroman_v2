{
 "cells": [
  {
   "cell_type": "markdown",
   "metadata": {},
   "source": [
    "# Necromunda Data Modeling and Working with LlamaIndex/CrewAI"
   ]
  },
  {
   "cell_type": "markdown",
   "metadata": {},
   "source": [
    "# Config"
   ]
  },
  {
   "cell_type": "markdown",
   "metadata": {},
   "source": [
    "## Installs"
   ]
  },
  {
   "cell_type": "code",
   "execution_count": null,
   "metadata": {},
   "outputs": [],
   "source": [
    "!python -m venv venv\n",
    "%pip install scipy --quiet\n",
    "%pip install tenacity --quiet\n",
    "%pip install tiktoken --quiet\n",
    "%pip install termcolor --quiet\n",
    "%pip install openai\n",
    "%pip install rich\n",
    "%pip install pip --upgrade\n",
    "%pip install python-dotenv\n",
    "%pip install pydantic --upgrade"
   ]
  },
  {
   "cell_type": "markdown",
   "metadata": {},
   "source": [
    "## Virtual Environment"
   ]
  },
  {
   "cell_type": "code",
   "execution_count": null,
   "metadata": {},
   "outputs": [],
   "source": [
    "! venv\\Scripts\\activate.bat"
   ]
  },
  {
   "cell_type": "markdown",
   "metadata": {},
   "source": [
    "## Imports"
   ]
  },
  {
   "cell_type": "code",
   "execution_count": 2,
   "metadata": {},
   "outputs": [],
   "source": [
    "import asyncio  # noqa: F401\n",
    "import enum\n",
    "import json\n",
    "import os\n",
    "from typing import Annotated  # noqa: F401\n",
    "from dotenv import load_dotenv\n",
    "from openai import OpenAI\n",
    "from tenacity import retry, stop_after_attempt, wait_random_exponential\n",
    "from termcolor import colored\n",
    "\n",
    "load_dotenv()\n",
    "\n",
    "\n",
    "os.environ['OPENAI_API_KEY'] = os.getenv('OPENAI_API_KEY')\n",
    "GPT_MODEL = \"gpt-3.5-turbo\"\n",
    "client = OpenAI()"
   ]
  },
  {
   "cell_type": "markdown",
   "metadata": {},
   "source": [
    "# Adding in the Necromunda Details"
   ]
  },
  {
   "cell_type": "markdown",
   "metadata": {},
   "source": [
    "## Pydantic Models"
   ]
  },
  {
   "cell_type": "markdown",
   "metadata": {},
   "source": [
    "#### Pydantic Gang Faction Model"
   ]
  },
  {
   "cell_type": "code",
   "execution_count": 3,
   "metadata": {},
   "outputs": [],
   "source": [
    "class GangFaction(enum.Enum):\n",
    "    ESCHER = \"House Escher\"\n",
    "    ORLOCK = \"House Orlock\"\n",
    "    DELAQUE = \"House Delaque\"\n",
    "    GOLIATH = \"House Goliath\"\n",
    "    CAWDOR = \"House Cawdor\"\n",
    "    VANSAAR = \"House Van Saar\"\n",
    "    VENATORS = \"Venators\"\n",
    "    PALANITE = \"Palanite Enforcers\"\n",
    "    BADZONE = \"Badzone Enforcers\"\n",
    "    GENESTEALERS = \"Genestealer Cult\"\n",
    "    HELOT = \"Helot Chaos Cult\"\n",
    "    CORPSEGRINDER = \"Corpse Grinder Cult\"\n",
    "    OGRYNS = \"Slave Ogryns\"\n",
    "    OUTCASTS = \"Outcasts\"\n",
    "    NOMADS = \"Ash Waste Nomads\"\n",
    "    SQUATS = \"Ironhead Squat Prospectors\"\n"
   ]
  },
  {
   "cell_type": "code",
   "execution_count": null,
   "metadata": {},
   "outputs": [],
   "source": [
    "\n",
    "\n",
    "from typing import List\n",
    "\n",
    "from pydantic import BaseModel, Field, ValidationError, field_validator\n",
    "\n",
    "\n",
    "class Stats(BaseModel):\n",
    "    M: str\n",
    "    WS: str\n",
    "    BS: str\n",
    "    S: str\n",
    "    T: str\n",
    "    W: str\n",
    "    I: str\n",
    "    A: str\n",
    "    Ld: str\n",
    "    Cl: str\n",
    "    Wil: str\n",
    "    Int: str\n",
    "\n",
    "class Ganger(BaseModel):\n",
    "    faction: GangFaction = Field(..., description=\"The faction to which the gang belongs\")\n",
    "    points: int = Field(..., le=400)  # 'le' means \"less than or equal to 400\"\n",
    "    name: str\n",
    "    type: str\n",
    "    stats: Stats\n",
    "    skills: List[str]\n",
    "    restrictions: str\n",
    "    special_rules: List[str]\n",
    "    description: str\n",
    "\n",
    "    @field_validator('points')\n",
    "    def points_must_not_exceed_limit(cls, v):\n",
    "        if v > 400:\n",
    "            raise ValueError('points must not exceed 400')\n",
    "        return v\n",
    "\n",
    "def generate_ganger(\n",
    "        ganger_data: Annotated[dict, AIParam(desc=\"The data for the ganger to be created\")]) -> str:  # noqa: E501\n",
    "    try:\n",
    "        # Create a Ganger object which will validate the data\n",
    "        ganger = Ganger(**ganger_data)\n",
    "        print(\"Ganger created successfully:\", ganger)\n",
    "        response = {\n",
    "            \"status\": \"success\",\n",
    "            \"message\": \"The parameters for the ganger were validated successfully\",\n",
    "            \"ganger\": ganger.dict()\n",
    "        }\n",
    "        response = json.dumps(response, indent=2)\n",
    "        return response\n",
    "    except ValidationError as e:\n",
    "        print(\"Validation error:\", e.json())\n",
    "        response = {\"status\": \"error\", \"message\": str(e)}\n",
    "        response = json.dumps(response, indent=2)\n",
    "        return response\n",
    "ai_function_list.append(\n",
    "    AIFunction(\n",
    "        generate_ganger,\n",
    "          name=\"generate_ganger\",\n",
    "          desc=\"Generate a Necromunda ganger based on the provided data and validate using Pydantic model\",\n",
    "          json_schema=dict(Ganger.model_json_schema()),\n",
    "        ))"
   ]
  },
  {
   "cell_type": "markdown",
   "metadata": {},
   "source": [
    "### Pydantic Gang Models"
   ]
  },
  {
   "cell_type": "code",
   "execution_count": 132,
   "metadata": {},
   "outputs": [
    {
     "data": {
      "text/html": [
       "\n",
       "  <style>\n",
       "    pre {\n",
       "        white-space: pre-wrap;\n",
       "    }\n",
       "  </style>\n",
       "  "
      ],
      "text/plain": [
       "<IPython.core.display.HTML object>"
      ]
     },
     "metadata": {},
     "output_type": "display_data"
    }
   ],
   "source": [
    "from pydantic import BaseModel, Field, ValidationError\n",
    "from typing import List\n",
    "\n",
    "# Assuming the Stats and Ganger classes are already defined as shown previously.\n",
    "\n",
    "class Gang(BaseModel):\n",
    "    name: str = Field(..., description=\"The name of the gang.\")\n",
    "    house: str = Field(..., description=\"The house or faction to which the gang belongs.\")\n",
    "    reputation: int = Field(ge=0, description=\"Reputation score of the gang.\")\n",
    "    wealth: int = Field(ge=0, description=\"Total wealth in credits of the gang.\")\n",
    "    gangers: List[Ganger] = Field(..., description=\"List of gang members.\", min_items=1)  # Ensure at least one ganger\n",
    "    headquarters: str = Field(..., description=\"Main location of the gang's operations.\")\n",
    "\n",
    "def generate_gang(gang_data: Annotated[dict, (desc=\"The data for the gang to be created\")]) -> str:\n",
    "    \"\"\"\n",
    "    Validate gang data using the Gang model.\n",
    "\n",
    "    Args:\n",
    "        gang_data (dict): Data to create the gang, expected to conform to the Gang model.\n",
    "\n",
    "    Returns:\n",
    "        dict: Result of the validation process with success or error message.\n",
    "    \"\"\"\n",
    "    try:\n",
    "        gang = Gang(**gang_data)\n",
    "        gang= Gang.model_dump()\n",
    "        print(\"Gang created successfully:\", gang)\n",
    "        gang_string = json.dumps(gang)\n",
    "        response = {\n",
    "            \"status\": \"success\",\n",
    "            \"message\": \"The gang's data were validated successfully\",\n",
    "            \"gang\": gang_string\n",
    "        }\n",
    "        return response\n",
    "    except ValidationError as e:\n",
    "        print(\"Validation error:\", e.json())\n",
    "        response = {\n",
    "            \"status\": \"error\",\n",
    "            \"message\": str(e.errors())  # Use e.errors() to get detailed validation errors\n",
    "        }\n",
    "        return response\n"
   ]
  },
  {
   "cell_type": "code",
   "execution_count": null,
   "metadata": {},
   "outputs": [],
   "source": [
    "\n",
    "# Example usage\n",
    "try:\n",
    "    ganger_data = {\n",
    "        \"faction\": \"House Orlock\",\n",
    "        \"points\": 150,\n",
    "        \"name\": \"John Doe\",\n",
    "        \"type\": \"Leader\",\n",
    "        \"stats\": {\n",
    "            \"M\": \"5\", \"WS\": \"3+\", \"BS\": \"3+\", \"S\": \"3\", \"T\": \"3\", \"W\": \"2\",\n",
    "            \"I\": \"4+\", \"A\": \"2\", \"Ld\": \"9\", \"Cl\": \"8\", \"Wil\": \"7\", \"Int\": \"6\"\n",
    "        },\n",
    "        \"skills\": [\"Combat Master\", \"Shooting Expert\"],\n",
    "        \"restrictions\": \"None\",\n",
    "        \"special_rules\": [\"Rule1\", \"Rule2\"],\n",
    "        \"description\": \"A seasoned fighter with years of experience.\"\n",
    "    }\n",
    "    result = generate_ganger(ganger_data)\n",
    "    print(result)\n",
    "except Exception as ex:\n",
    "    print(f\"An error occurred: {ex}\")\n"
   ]
  },
  {
   "cell_type": "markdown",
   "metadata": {},
   "source": [
    "To further extend the use of Pydantic for modeling various elements of Necromunda, we can create definitions for Armor, Equipment, Skills, Advancement, and Vehicles. Each of these categories can be tailored with specific validations to ensure the data integrity and adherence to game rules. Here are suggested models for each:"
   ]
  },
  {
   "cell_type": "markdown",
   "metadata": {},
   "source": [
    "### Pydantic Weapon Model"
   ]
  },
  {
   "cell_type": "code",
   "execution_count": null,
   "metadata": {},
   "outputs": [],
   "source": [
    "from pydantic import BaseModel, Field\n",
    "from typing import List\n",
    "\n",
    "class WeaponStats(BaseModel):\n",
    "    shortRange: int = Field(..., description=\"The effective short-range of the weapon in inches.\")\n",
    "    longRange: int = Field(..., description=\"The effective long-range of the weapon in inches.\")\n",
    "    accuracyShort: int = Field(..., description=\"Accuracy modifier at short range.\")\n",
    "    accuracyLong: int = Field(..., description=\"Accuracy modifier at long range.\")\n",
    "    strength: int = Field(..., description=\"The strength of the weapon, which affects damage.\")\n",
    "    AP: int = Field(..., description=\"Armour penetration of the weapon, which affects its ability to bypass armour.\")\n",
    "    damage: str = Field(..., description=\"The damage dealt by the weapon per successful hit.\")\n",
    "    ammo: str = Field(..., description=\"The type of ammunition used and its availability.\")\n",
    "\n",
    "class Weapon(BaseModel):\n",
    "    name: str = Field(..., description=\"The name of the weapon.\")\n",
    "    type: str = Field(..., description=\"The category of the weapon.\", pattern=\"^(Melee|Ranged|Grenade|Special)$\")\n",
    "    subtype: str = Field(..., description=\"A more specific classification within the weapon type, e.g., long-rifle.\")\n",
    "    cost: int = Field(..., description=\"The cost of the weapon in credits.\", ge=0)\n",
    "    availability: str = Field(..., description=\"The availability of the weapon in the underhive.\", pattern=\"^(Common|Rare|Unique)$\")\n",
    "    stats: WeaponStats\n",
    "    traits: List[str] = Field(..., description=\"Special traits that apply to the use of the weapon, e.g., rapid fire, shock.\")\n",
    "    description: str = Field(..., description=\"A brief narrative or background of the weapon, explaining its history or notable features.\")\n",
    "\n",
    "\n",
    "ai_function_list.append(\n",
    "    AIFunction(\n",
    "        generate_gang,\n",
    "        name=\"generate_gang\",\n",
    "        desc=\"Generate a Necromunda gang based on the provided data and validate using Pydantic model\",\n",
    "        json_schema=dict(Gang.model_json_schema()),\n",
    "    ))\n",
    "# Example usage\n",
    "weapon_data = {\n",
    "    \"name\": \"Lasgun\",\n",
    "    \"type\": \"Ranged\",\n",
    "    \"subtype\": \"Long Rifle\",\n",
    "    \"cost\": 100,\n",
    "    \"availability\": \"Common\",\n",
    "    \"stats\": {\n",
    "        \"shortRange\": 12,\n",
    "        \"longRange\": 24,\n",
    "        \"accuracyShort\": 1,\n",
    "        \"accuracyLong\": 2,\n",
    "        \"strength\": 3,\n",
    "        \"AP\": 1,\n",
    "        \"damage\": \"1D3\",\n",
    "        \"ammo\": \"Standard\"\n",
    "    },\n",
    "    \"traits\": [\"Reliable\", \"Long Reach\"],\n",
    "    \"description\": \"A common laser weapon used for ranged engagements.\"\n",
    "}\n",
    "\n",
    "weapon = Weapon(**weapon_data)\n",
    "print(weapon)\n"
   ]
  },
  {
   "cell_type": "markdown",
   "metadata": {},
   "source": [
    "### Pydantic Armor Model\n",
    "Armors typically have a rating that impacts gameplay, such as providing damage reduction or special abilities."
   ]
  },
  {
   "cell_type": "code",
   "execution_count": null,
   "metadata": {},
   "outputs": [],
   "source": [
    "from pydantic import BaseModel, Field\n",
    "from typing import Optional\n",
    "\n",
    "class Armor(BaseModel):\n",
    "    name: str\n",
    "    cost: int\n",
    "    rarity: Optional[int] = None\n",
    "    illegal: bool = False\n",
    "    description: str\n",
    "    base_save: int\n",
    "    additional_effects: Optional[str] = None\n",
    "\n",
    "    def effective_save(self, condition: Optional[str] = None) -> int:\n",
    "        \"\"\"Calculate the effective save based on specific conditions.\"\"\"\n",
    "        # Implement game logic for different conditions\n",
    "        return self.base_save  # Placeholder, specific logic needed per armor type\n"
   ]
  },
  {
   "cell_type": "code",
   "execution_count": null,
   "metadata": {},
   "outputs": [],
   "source": [
    "class AblativeOverlay(Armor):\n",
    "    hits_remaining: int = Field(default=2, description=\"Number of hits before the overlay is spent\")\n",
    "\n",
    "    def effective_save(self, condition: Optional[str] = None) -> int:\n",
    "        if self.hits_remaining == 0:\n",
    "            return None  # No save if spent\n",
    "        elif self.hits_remaining == 2:\n",
    "            return self.base_save - 2\n",
    "        elif self.hits_remaining == 1:\n",
    "            return self.base_save - 1\n"
   ]
  },
  {
   "cell_type": "code",
   "execution_count": null,
   "metadata": {},
   "outputs": [],
   "source": [
    "class ArchaeoCarapace(Armor):\n",
    "    bionics_affected: int = Field(default=0, description=\"Number of bionics affected by the armor\")\n",
    "\n",
    "    def effective_save(self, condition: Optional[str] = None) -> int:\n",
    "        # Default 4+ save, check for bionic condition\n",
    "        return self.base_save\n",
    "\n",
    "    def check_bionics(self):\n",
    "        \"\"\"Check the effects of additional bionics on sanity.\"\"\"\n",
    "        if self.bionics_affected >= 6:\n",
    "            return \"Vanish\"  # Placeholder for game logic\n",
    "        return \"Normal\"\n"
   ]
  },
  {
   "cell_type": "code",
   "execution_count": null,
   "metadata": {},
   "outputs": [],
   "source": [
    "class Armorweave(Armor):\n",
    "    def effective_save(self, condition: Optional[str] = None) -> int:\n",
    "        if condition == \"AP\":\n",
    "            return max(self.base_save, 6)  # Cannot be reduced below 6+ by AP\n",
    "        return self.base_save\n"
   ]
  },
  {
   "cell_type": "code",
   "execution_count": null,
   "metadata": {},
   "outputs": [],
   "source": [
    "# overlay = AblativeOverlay(name=\"Ablative Overlay\", cost=20, description=\"Adds more armor.\", base_save=5)\n",
    "# print(overlay.effective_save())  # Example call\n",
    "\n",
    "# carapace = ArchaeoCarapace(name=\"Archaeo-Carapace\", cost=120, base_save=4)\n",
    "# print(carapace.effective_save())\n",
    "\n",
    "# weave = Armorweave(name=\"Armorweave\", cost=20, base_save=5)\n",
    "# print(weave.effective_save(condition=\"AP\"))\n"
   ]
  },
  {
   "cell_type": "markdown",
   "metadata": {},
   "source": [
    "#### Equipment Model"
   ]
  },
  {
   "cell_type": "code",
   "execution_count": null,
   "metadata": {},
   "outputs": [],
   "source": [
    "# class Equipment(BaseModel):\n",
    "#     name: str\n",
    "#     type: str\n",
    "#     effects: str\n",
    "#     cost: int = Field(ge=0, description=\"Cost must be non-negative\")\n",
    "\n",
    "#     @validator('type')\n",
    "#     def validate_type(cls, v):\n",
    "#         allowed_types = ['Gadget', 'Tool', 'Medical', 'Explosive']\n",
    "#         if v not in allowed_types:\n",
    "#             raise ValueError(f\"Type must be one of {allowed_types}\")\n",
    "#         return v"
   ]
  },
  {
   "cell_type": "markdown",
   "metadata": {},
   "source": [
    "### Pydantic Skills Model\n",
    "Skills often enhance a ganger's abilities in specific scenarios and can be critical to strategic gameplay."
   ]
  },
  {
   "cell_type": "code",
   "execution_count": null,
   "metadata": {},
   "outputs": [],
   "source": [
    "from pydantic import BaseModel, Field\n",
    "\n",
    "\n",
    "class Skill(BaseModel):\n",
    "    name: str\n",
    "    description: str\n",
    "    category: str = Field(...)  # Using Field(...) to specify that this is a field that may be overridden\n",
    "\n",
    "\n"
   ]
  },
  {
   "cell_type": "markdown",
   "metadata": {},
   "source": [
    "### Pydantic Advancement Model"
   ]
  },
  {
   "cell_type": "markdown",
   "metadata": {},
   "source": [
    "Advancements represent progress or leveling up of a ganger's abilities or stats."
   ]
  },
  {
   "cell_type": "code",
   "execution_count": null,
   "metadata": {},
   "outputs": [],
   "source": [
    "from pydantic import BaseModel, Field, conlist\n",
    "\n",
    "\n",
    "class Advancement(BaseModel):\n",
    "    level: int = Field(ge=1, le=10, description=\"Level must be between 1 and 10\")\n",
    "    improvements: list[str] = Field(..., min_items=1, max_items=5, description=\"Improvements list from available skills or stat boosts\")\n",
    "    cost: int = Field(ge=0, description=\"Cost in experience points must be non-negative\")"
   ]
  },
  {
   "cell_type": "markdown",
   "metadata": {},
   "source": [
    "### Pydantic Vehicles Model\n",
    "Vehicles in Necromunda add a dynamic element to combat, providing mobility and firepower."
   ]
  },
  {
   "cell_type": "code",
   "execution_count": null,
   "metadata": {},
   "outputs": [],
   "source": [
    "from typing import List\n",
    "from pydantic import BaseModel, Field, root_validator, validator\n",
    "\n",
    "\n",
    "class Vehicle(BaseModel):\n",
    "    name: str\n",
    "    type: str\n",
    "    armament: List[str] = Field(\n",
    "        ..., max_items=5, description=\"List of weapons equipped\"\n",
    "    )\n",
    "    armor_rating: int = Field(\n",
    "        ge=1, le=10, description=\"Armor rating must be between 1 and 10\"\n",
    "    )\n",
    "    speed: int = Field(\n",
    "        ge=0, le=60, description=\"Speed in inches per turn must be between 0 and 60\"\n",
    "    )\n",
    "    capacity: int = Field(\n",
    "        ge=1, le=10, description=\"Capacity must be between 1 and 10 gangers\"\n",
    "    )\n",
    "    cost: int = Field(ge=100, description=\"Cost must be at least 100 credits\")\n",
    "\n",
    "    @validator('type')\n",
    "    def validate_type(cls, v):\n",
    "        allowed_types = ['Transport', 'Combat', 'Support']\n",
    "        if v not in allowed_types:\n",
    "            raise ValueError(f\"Type must be one of {allowed_types}\")\n",
    "        return v\n"
   ]
  },
  {
   "cell_type": "markdown",
   "metadata": {},
   "source": [
    "These models ensure that any data entered into your system meets the required game mechanics and rules, preventing invalid configurations from disrupting gameplay. Each model uses Pydantic's powerful validation system to enforce constraints on data types, ranges, and membership in predefined lists. This setup not only helps maintain the game's balance and design integrity but also facilitates easier debugging and maintenance of the codebase."
   ]
  },
  {
   "cell_type": "markdown",
   "metadata": {},
   "source": [
    "### Scenario Model\n",
    "Scenarios are predefined or custom game setups that outline the objectives, starting conditions, and special rules for a match."
   ]
  },
  {
   "cell_type": "code",
   "execution_count": null,
   "metadata": {},
   "outputs": [],
   "source": [
    "from typing import List\n",
    "from pydantic import BaseModel, Field, conlist\n",
    "\n",
    "class Scenario(BaseModel):\n",
    "    name: str\n",
    "    description: str\n",
    "    objectives: List[str]\n",
    "    duration: int = Field(ge=1, le=10, description=\"Duration in game turns\")\n",
    "    special_rules: List[str]\n",
    "    recommended_gangs: List[str] = Field(..., min_items=2, max_items=4, description=\"Recommended gangs, between 2 and 4\")"
   ]
  },
  {
   "cell_type": "markdown",
   "metadata": {},
   "source": [
    "### Terrain Model\n",
    "Terrain features are critical in Necromunda as they affect movement, cover, and line of sight."
   ]
  },
  {
   "cell_type": "code",
   "execution_count": null,
   "metadata": {},
   "outputs": [],
   "source": [
    "from pydantic import BaseModel, Field, field_validator\n",
    "\n",
    "class Terrain(BaseModel):\n",
    "    name: str\n",
    "    type: str\n",
    "    description: str\n",
    "    impact_on_movement: str\n",
    "    impact_on_cover: str\n",
    "    size: str  # Could be defined more specifically, perhaps with dimensions\n",
    "\n",
    "    @field_validator('type')\n",
    "    def validate_type(cls, v):\n",
    "        allowed_types = ['Obstacle', 'Barrier', 'Elevated', 'Hazard']\n",
    "        if v not in allowed_types:\n",
    "            raise ValueError(f\"Type must be one of {allowed_types}\")\n",
    "        return v"
   ]
  },
  {
   "cell_type": "markdown",
   "metadata": {},
   "source": [
    "### Campaign Model\n",
    "A campaign in Necromunda is a series of connected scenarios that have overarching storylines and consequences."
   ]
  },
  {
   "cell_type": "code",
   "execution_count": null,
   "metadata": {},
   "outputs": [],
   "source": [
    "from pydantic import BaseModel, Field, conlist\n",
    "from typing import Dict\n",
    "\n",
    "# Assuming Scenario is defined elsewhere\n",
    "class Scenario(BaseModel):\n",
    "    pass\n",
    "\n",
    "class Campaign(BaseModel):\n",
    "    title: str\n",
    "    description: str\n",
    "    scenarios: List[Scenario] = Field(..., min_items=1, description=\"List of scenarios to be played\")\n",
    "    rewards: Dict[str, str] = Field(..., description=\"Key-value pairs of rewards for completing the campaign\")\n",
    "    rules: List[str] = Field(..., min_items=1, description=\"Additional rules that apply to the entire campaign\")"
   ]
  },
  {
   "cell_type": "markdown",
   "metadata": {},
   "source": [
    "### GameEvent Model\n",
    "GameEvents are random or triggered occurrences that can affect the game state, applicable to scenarios or campaigns.\n",
    "\n",
    "\n"
   ]
  },
  {
   "cell_type": "code",
   "execution_count": null,
   "metadata": {},
   "outputs": [],
   "source": [
    "class GameEvent(BaseModel):\n",
    "    name: str\n",
    "    trigger_condition: str\n",
    "    effect: str\n",
    "    duration: int = Field(ge=0, description=\"Duration in turns, 0 for instant effect\")"
   ]
  },
  {
   "cell_type": "markdown",
   "metadata": {},
   "source": [
    "### Market Model\n",
    "The market can be modeled to handle tradeable items like weapons, armors, and equipment that gangs can purchase between games."
   ]
  },
  {
   "cell_type": "code",
   "execution_count": null,
   "metadata": {},
   "outputs": [],
   "source": [
    "from pydantic import BaseModel, Field, field_validator\n",
    "\n",
    "\n",
    "class MarketItem(BaseModel):\n",
    "    name: str\n",
    "    type: str = Field(description=\"Could be 'Weapon', 'Armor', 'Equipment', 'Drug', etc.\")\n",
    "    cost: int\n",
    "    availability: str = Field(description=\"Could be 'Common', 'Rare', 'Unique'\")\n",
    "\n",
    "    @field_validator('type')\n",
    "    def validate_type(cls, v):\n",
    "        allowed_types = ['Weapon', 'Armor', 'Equipment', 'Drug', 'Tech']\n",
    "        if v not in allowed_types:\n",
    "            raise ValueError(f\"Type must be one of {allowed_types}\")\n",
    "        return v"
   ]
  },
  {
   "cell_type": "code",
   "execution_count": null,
   "metadata": {},
   "outputs": [],
   "source": [
    "from pydantic import BaseModel, Field, conlist\n",
    "\n",
    "class Market(BaseModel):\n",
    "    items: list[MarketItem] = Field(..., min_items=1, description=\"List of market items, at least one item required\")\n",
    "    location: str  # Optional: the in-game location of the market"
   ]
  },
  {
   "cell_type": "markdown",
   "metadata": {},
   "source": [
    "### Rule Model\n",
    "Finally, a model for game rules themselves can be handy, especially if you plan to have an interactive rule reference or automated game mechanics."
   ]
  },
  {
   "cell_type": "code",
   "execution_count": null,
   "metadata": {},
   "outputs": [],
   "source": [
    "class Rule(BaseModel):\n",
    "    name: str\n",
    "    description: str\n",
    "    impact: str  # Summarize how this rule affects gameplay"
   ]
  },
  {
   "cell_type": "markdown",
   "metadata": {},
   "source": [
    "These models add layers of organization and functionality to your Necromunda game management system, helping to streamline game setup, execution, and progression. Each model focuses on different aspects of the game, ensuring that all game elements are manageable and compliant with the established rules.\n"
   ]
  },
  {
   "cell_type": "markdown",
   "metadata": {},
   "source": [
    "\n",
    "### Dice Model\n",
    "This model represents a single die with a specified number of sides. You can also add functionality to roll the dice."
   ]
  },
  {
   "cell_type": "code",
   "execution_count": null,
   "metadata": {},
   "outputs": [],
   "source": [
    "from random import randint\n",
    "\n",
    "from pydantic import BaseModel, Field\n",
    "\n",
    "\n",
    "class D6(BaseModel):\n",
    "    sides: int = 6\n",
    "\n",
    "    def roll(self) -> int:\n",
    "        return randint(1, self.sides)"
   ]
  },
  {
   "cell_type": "code",
   "execution_count": null,
   "metadata": {},
   "outputs": [],
   "source": [
    "class LocationDie(BaseModel):\n",
    "    results: list = ['Head', 'Chest', 'Right Arm', 'Left Arm', 'Right Leg', 'Left Leg']\n",
    "\n",
    "    def roll(self) -> str:\n",
    "        return choice(self.results)"
   ]
  },
  {
   "cell_type": "code",
   "execution_count": null,
   "metadata": {},
   "outputs": [],
   "source": [
    "class FirepowerDie(BaseModel):\n",
    "    faces: list = ['Ammo Check + 1 shot', '1 shot', '2 shots', '3 shots']\n",
    "\n",
    "    def roll(self) -> str:\n",
    "        return choice(self.faces)"
   ]
  },
  {
   "cell_type": "code",
   "execution_count": null,
   "metadata": {},
   "outputs": [],
   "source": [
    "class InjuryDie(BaseModel):\n",
    "    faces: list = ['Out of Action', 'Serious Injury', 'Flesh Wound']\n",
    "\n",
    "    def roll(self) -> str:\n",
    "        return choice(self.faces)"
   ]
  },
  {
   "cell_type": "code",
   "execution_count": null,
   "metadata": {},
   "outputs": [],
   "source": [
    "class ControlDie(BaseModel):\n",
    "    faces: list = [\n",
    "        'Roll',\n",
    "        'Penetrating Hit',\n",
    "        'JackKnife',\n",
    "        'Glancing Hit',  # Appears twice\n",
    "        'Catastrophic Hit'\n",
    "    ]\n",
    "\n",
    "    def roll(self) -> str:\n",
    "        return choices(self.faces, k=1)[0]\n"
   ]
  },
  {
   "cell_type": "code",
   "execution_count": null,
   "metadata": {},
   "outputs": [],
   "source": [
    "class ScatterDie(BaseModel):\n",
    "    results: list = ['N', 'NW', 'W', 'SW', 'S', 'SE', 'E', 'NE']\n",
    "\n",
    "    def roll(self) -> str:\n",
    "        return choice(self.results)\n"
   ]
  },
  {
   "cell_type": "markdown",
   "metadata": {},
   "source": [
    "**Example usage**:\n",
    "`d6 = Die(sides=6)`\n",
    "`result = d6.roll()`"
   ]
  },
  {
   "cell_type": "code",
   "execution_count": null,
   "metadata": {},
   "outputs": [],
   "source": [
    "class DamageDie(D6):\n",
    "    # Inherits from D6, used specifically for rolling damage.\n",
    "    pass"
   ]
  },
  {
   "cell_type": "markdown",
   "metadata": {},
   "source": [
    "#### Dice Pool \n",
    "A dice pool consists of multiple dice, often used together to determine outcomes in combat, skill tests, etc."
   ]
  },
  {
   "cell_type": "markdown",
   "metadata": {},
   "source": [
    "#### Complex Dice Mechanic Model\n",
    "This model could represent more complex dice mechanics, such as exploding dice, re-rollable dice, or dice where certain results trigger special rules."
   ]
  },
  {
   "cell_type": "code",
   "execution_count": null,
   "metadata": {},
   "outputs": [],
   "source": [
    "class ComplexDiceRule(BaseModel):\n",
    "    explodes_on: int = Field(\n",
    "        ge=1,\n",
    "        description=\"The die result that triggers an explosion (roll another die)\"\n",
    "    )\n",
    "\n",
    "    def roll_with_rules(self) -> list:\n",
    "        \"\"\"Roll the die with the specified rules applied.\"\"\"\n",
    "        results = []\n",
    "        result = self.die.roll()\n",
    "        results.append(result)\n",
    "        while result == self.explodes_on:\n",
    "            result = self.die.roll()\n",
    "            results.append(result)\n",
    "        for r in results:\n",
    "            if r in self.reroll_on:\n",
    "                results.remove(r)\n",
    "                results.append(self.die.roll())\n",
    "        return results\n",
    "    \n",
    "\n",
    "    \n",
    "# Example usage:\n",
    "# exploding_d6 = ComplexDiceRule(die=Die(sides=6), explodes_on=6, reroll_on=[1])\n",
    "# results = exploding_d6.roll_with_rules()"
   ]
  },
  {
   "cell_type": "markdown",
   "metadata": {},
   "source": [
    "#### Dice Formula Parser\n",
    "For handling more sophisticated dice mechanics found in tabletop RPGs and wargames, implementing a formula parser can be useful. This would allow users to input string-based dice formulas (like \"3d6+2\") and calculate results accordingly."
   ]
  },
  {
   "cell_type": "code",
   "execution_count": 138,
   "metadata": {},
   "outputs": [
    {
     "data": {
      "text/html": [
       "\n",
       "  <style>\n",
       "    pre {\n",
       "        white-space: pre-wrap;\n",
       "    }\n",
       "  </style>\n",
       "  "
      ],
      "text/plain": [
       "<IPython.core.display.HTML object>"
      ]
     },
     "metadata": {},
     "output_type": "display_data"
    }
   ],
   "source": [
    "import re\n",
    "\n",
    "class DiceFormula(BaseModel):\n",
    "    formula: str\n",
    "\n",
    "    def evaluate(self) -> int:\n",
    "        \"\"\"Evaluate a dice formula like '2d6+3'.\"\"\"\n",
    "        pattern = r'(\\d+)d(\\d+)([+-]\\d+)?'\n",
    "        matches = re.match(pattern, self.formula)\n",
    "        if not matches:\n",
    "            raise ValueError(\"Invalid formula format\")\n",
    "        num_dice, sides, modifier = matches.groups()\n",
    "        num_dice, sides = int(num_dice), int(sides)\n",
    "        modifier = int(modifier) if modifier else 0\n",
    "        return sum([randint(1, sides) for _ in range(num_dice)]) + modifier\n",
    "\n",
    "# Example usage:\n",
    "# formula = DiceFormula(formula=\"3d6+2\")\n",
    "# result = formula.evaluate()"
   ]
  },
  {
   "cell_type": "markdown",
   "metadata": {},
   "source": [
    "# Utility Helpers and Functions"
   ]
  },
  {
   "cell_type": "markdown",
   "metadata": {},
   "source": [
    "## User Message Function"
   ]
  },
  {
   "cell_type": "code",
   "execution_count": null,
   "metadata": {},
   "outputs": [],
   "source": [
    "def user_message(messages, user_message):\n",
    "  messages.append({\"role\": \"user\", \"content\": f\"{user_message}\"})\n",
    "  return messages"
   ]
  },
  {
   "cell_type": "markdown",
   "metadata": {},
   "source": [
    "## Pretty Print Conversation Function"
   ]
  },
  {
   "cell_type": "code",
   "execution_count": null,
   "metadata": {},
   "outputs": [],
   "source": [
    "\n",
    "def pretty_print_conversation(messages):\n",
    "\n",
    "    role_to_color = {\n",
    "        \"system\": \"red\",\n",
    "        \"user\": \"green\",\n",
    "        \"assistant\": \"blue\",\n",
    "        \"function\": \"magenta\",\n",
    "    }\n",
    "\n",
    "\n",
    "    print(colored(f\"system: {message['content']}\\n\", \n",
    "                  role_to_color[message[\"role\"]]))\n"
   ]
  },
  {
   "cell_type": "markdown",
   "metadata": {},
   "source": [
    "## Schema Converter"
   ]
  },
  {
   "cell_type": "code",
   "execution_count": null,
   "metadata": {},
   "outputs": [],
   "source": [
    "import json\n",
    "\n",
    "def json_schema_to_openapi(schema, method, path):\n",
    "    \"\"\"\n",
    "    Convert JSON Schema to an OpenAPI specification format.\n",
    "\n",
    "    Args:\n",
    "        schema (dict): The JSON Schema as a dictionary.\n",
    "        method (str): HTTP method (e.g., 'get', 'post', 'put', 'delete').\n",
    "        path (str): The URL path for the API endpoint.\n",
    "\n",
    "    Returns:\n",
    "        str: A stringified JSON OpenAPI specification.\n",
    "    \"\"\"\n",
    "    # Create a basic OpenAPI spec structure\n",
    "    openapi = {\n",
    "        \"openapi\": \"3.0.0\",\n",
    "        \"info\": {\n",
    "            \"title\": \"Necromunda Weapon API\",\n",
    "            \"version\": \"1.0.0\"\n",
    "        },\n",
    "        \"paths\": {\n",
    "            path: {\n",
    "                method: {\n",
    "                    \"summary\": f\"Endpoint to {method} a weapon\",\n",
    "                    \"operationId\": f\"{method}Weapon\",\n",
    "                    \"tags\": [\"Weapons\"],\n",
    "                    \"responses\": {\n",
    "                        \"200\": {\n",
    "                            \"description\": \"Successful Response\",\n",
    "                            \"content\": {\n",
    "                                \"application/json\": {\n",
    "                                    \"schema\": schema\n",
    "                                }\n",
    "                            }\n",
    "                        }\n",
    "                    }\n",
    "                }\n",
    "            }\n",
    "        }\n",
    "    }\n",
    "\n",
    "    if method in ['post', 'put']:\n",
    "        openapi['paths'][path][method]['requestBody'] = {\n",
    "            \"required\": True,\n",
    "            \"content\": {\n",
    "                \"application/json\": {\n",
    "                    \"schema\": schema\n",
    "                }\n",
    "            }\n",
    "        }\n",
    "\n",
    "    # Convert the dictionary to a JSON string for output\n",
    "    return json.dumps(openapi, indent=2)\n",
    "\n",
    "# Example usage\n",
    "json_schema = {\n",
    "    \"type\": \"object\",\n",
    "    \"properties\": {\n",
    "        \"name\": {\"type\": \"string\"},\n",
    "        \"type\": {\"type\": \"string\"}\n",
    "    },\n",
    "    \"required\": [\"name\", \"type\"]\n",
    "}\n",
    "\n",
    "http_method = 'get'\n",
    "url_path = '/weapons'\n",
    "\n",
    "# Convert and print the OpenAPI specification\n",
    "converted_spec = json_schema_to_openapi(json_schema, http_method, url_path)\n",
    "print(converted_spec)"
   ]
  },
  {
   "cell_type": "markdown",
   "metadata": {},
   "source": [
    "### Weapon Schema"
   ]
  },
  {
   "cell_type": "code",
   "execution_count": null,
   "metadata": {},
   "outputs": [],
   "source": [
    "weapon_schema = {\n",
    "  \"$schema\": \"http://json-schema.org/draft-07/schema#\",\n",
    "  \"title\": \"Necromunda Weapon\",\n",
    "  \"type\": \"object\",\n",
    "  \"properties\": {\n",
    "    \"name\": {\n",
    "      \"type\": \"string\",\n",
    "      \"description\": \"The name of the weapon.\"\n",
    "    },\n",
    "    \"type\": {\n",
    "      \"type\": \"string\",\n",
    "      \"enum\": [\"Melee\", \"Ranged\", \"Grenade\", \"Special\"],\n",
    "      \"description\": \"The category of the weapon.\"\n",
    "    },\n",
    "    \"subtype\": {\n",
    "      \"type\": \"string\",\n",
    "      \"description\": \"A more specific classification within the weapon type, e.g., long-rifle.\"\n",
    "    },\n",
    "    \"cost\": {\n",
    "      \"type\": \"integer\",\n",
    "      \"description\": \"The cost of the weapon in credits.\"\n",
    "    },\n",
    "    \"availability\": {\n",
    "      \"type\": \"string\",\n",
    "      \"enum\": [\"Common\", \"Rare\", \"Unique\"],\n",
    "      \"description\": \"The availability of the weapon in the underhive.\"\n",
    "    },\n",
    "    \"stats\": {\n",
    "      \"type\": \"object\",\n",
    "      \"properties\": {\n",
    "        \"shortRange\": {\n",
    "          \"type\": \"integer\",\n",
    "          \"description\": \"The effective short-range of the weapon in inches.\"\n",
    "        },\n",
    "        \"longRange\": {\n",
    "          \"type\": \"integer\",\n",
    "          \"description\": \"The effective long-range of the weapon in inches.\"\n",
    "        },\n",
    "        \"accuracyShort\": {\n",
    "          \"type\": \"integer\",\n",
    "          \"description\": \"Accuracy modifier at short range.\"\n",
    "        },\n",
    "        \"accuracyLong\": {\n",
    "          \"type\": \"integer\",\n",
    "          \"description\": \"Accuracy modifier at long range.\"\n",
    "        },\n",
    "        \"strength\": {\n",
    "          \"type\": \"integer\",\n",
    "          \"description\": \"The strength of the weapon, which affects damage.\"\n",
    "        },\n",
    "        \"AP\": {\n",
    "          \"type\": \"integer\",\n",
    "          \"description\": \"Armour penetration of the weapon, which affects its ability to bypass armour.\"\n",
    "        },\n",
    "        \"damage\": {\n",
    "          \"type\": \"string\",\n",
    "          \"description\": \"The damage dealt by the weapon per successful hit.\"\n",
    "        },\n",
    "        \"ammo\": {\n",
    "          \"type\": \"string\",\n",
    "          \"description\": \"The type of ammunition used and its availability.\"\n",
    "        }\n",
    "      },\n",
    "      \"required\": [\"shortRange\", \"longRange\", \"accuracyShort\", \"accuracyLong\", \"strength\", \"AP\", \"damage\", \"ammo\"]\n",
    "    },\n",
    "    \"traits\": {\n",
    "      \"type\": \"array\",\n",
    "      \"items\": {\n",
    "        \"type\": \"string\"\n",
    "      },\n",
    "      \"description\": \"Special traits that apply to the use of the weapon, e.g., rapid fire, shock.\"\n",
    "    },\n",
    "    \"description\": {\n",
    "      \"type\": \"string\",\n",
    "      \"description\": \"A brief narrative or background of the weapon, explaining its history or notable features.\"\n",
    "    }\n",
    "  },\n",
    "  \"required\": [\"name\", \"type\", \"cost\", \"availability\", \"stats\", \"traits\", \"description\"]\n",
    "}\n"
   ]
  },
  {
   "cell_type": "markdown",
   "metadata": {},
   "source": [
    "# Defining Tools for OpenAI"
   ]
  },
  {
   "cell_type": "code",
   "execution_count": 137,
   "metadata": {},
   "outputs": [
    {
     "data": {
      "text/html": [
       "\n",
       "  <style>\n",
       "    pre {\n",
       "        white-space: pre-wrap;\n",
       "    }\n",
       "  </style>\n",
       "  "
      ],
      "text/plain": [
       "<IPython.core.display.HTML object>"
      ]
     },
     "metadata": {},
     "output_type": "display_data"
    }
   ],
   "source": [
    "tools = [\n",
    "    {\n",
    "        \"type\": \"function\",\n",
    "        \"function\": {\n",
    "            \"name\": \"get_current_weather\",\n",
    "            \"description\": \"Get the current weather\",\n",
    "            \"parameters\": {\n",
    "                \"type\": \"object\",\n",
    "                \"properties\": {\n",
    "                    \"location\": {\n",
    "                        \"type\": \"string\",\n",
    "                        \"description\": \"The city and state, e.g., San Francisco, CA\"\n",
    "                    },\n",
    "                    \"format\": {\n",
    "                        \"type\": \"string\",\n",
    "                        \"enum\": [\"celsius\", \"fahrenheit\"],\n",
    "                        \"description\": \"The temperature unit to use. Infer this from the user's location.\"\n",
    "                    }\n",
    "                },\n",
    "                \"required\": [\"location\", \"format\"]\n",
    "            }\n",
    "        }\n",
    "    },\n",
    "    {\n",
    "        \"type\": \"function\",\n",
    "        \"function\": {\n",
    "            \"name\": \"generate_ganger\",\n",
    "            \"description\": \"Generate a Necromunda ganger by providing the 'faction' (from Necromunda factions), 'points' (the points budget you are working with), and detailed character attributes.\",\n",
    "            \"parameters\": {\n",
    "                \"type\": \"object\",\n",
    "                \"properties\": {\n",
    "                    \"faction\": {\n",
    "                        \"type\": \"string\",\n",
    "                        \"description\": \"The Necromunda faction that you are generating for.\"\n",
    "                    },\n",
    "                    \"points\": {\n",
    "                        \"type\": \"number\",\n",
    "                        \"description\": \"The number of points that you are able to spend on creating the Necromunda ganger.\"\n",
    "                    },\n",
    "                    \"name\": {\n",
    "                        \"type\": \"string\",\n",
    "                        \"description\": \"Name of the ganger.\"\n",
    "                    },\n",
    "                    \"type\": {\n",
    "                        \"type\": \"string\",\n",
    "                        \"description\": \"Type or role of the ganger within the gang.\"\n",
    "                    },\n",
    "                    \"stats\": {\n",
    "                        \"type\": \"object\",\n",
    "                        \"description\": \"Statistical attributes of the ganger.\",\n",
    "                        \"properties\": {\n",
    "                            \"M\": {\"type\": \"string\"},\n",
    "                            \"WS\": {\"type\": \"string\"},\n",
    "                            \"BS\": {\"type\": \"string\"},\n",
    "                            \"S\": {\"type\": \"string\"},\n",
    "                            \"T\": {\"type\": \"string\"},\n",
    "                            \"W\": {\"type\": \"string\"},\n",
    "                            \"I\": {\"type\": \"string\"},\n",
    "                            \"A\": {\"type\": \"string\"},\n",
    "                            \"Ld\": {\"type\": \"string\"},\n",
    "                            \"Cl\": {\"type\": \"string\"},\n",
    "                            \"Wil\": {\"type\": \"string\"},\n",
    "                            \"Int\": {\"type\": \"string\"}\n",
    "                        }\n",
    "                    },\n",
    "                    \"skills\": {\n",
    "                        \"type\": \"array\",\n",
    "                        \"items\": {\"type\": \"string\"},\n",
    "                        \"description\": \"Skills possessed by the ganger.\"\n",
    "                    },\n",
    "                    \"restrictions\": {\n",
    "                        \"type\": \"string\",\n",
    "                        \"description\": \"Any restrictions applicable to the ganger.\"\n",
    "                    },\n",
    "                    \"special_rules\": {\n",
    "                        \"type\": \"array\",\n",
    "                        \"items\": {\"type\": \"string\"},\n",
    "                        \"description\": \"Special rules that apply to the ganger.\"\n",
    "                    },\n",
    "                    \"description\": {\n",
    "                        \"type\": \"string\",\n",
    "                        \"description\": \"A brief narrative or background of the ganger.\"\n",
    "                    }\n",
    "                },\n",
    "                \"required\": [\n",
    "                    \"faction\",\n",
    "                    \"points\",\n",
    "                    \"name\",\n",
    "                    \"type\",\n",
    "                    \"stats\",\n",
    "                    \"skills\",\n",
    "                    \"restrictions\",\n",
    "                    \"special_rules\",\n",
    "                    \"description\"\n",
    "                ]\n",
    "            }\n",
    "        }\n",
    "    }\n",
    "]\n"
   ]
  },
  {
   "cell_type": "markdown",
   "metadata": {},
   "source": [
    "## Gang Tool"
   ]
  },
  {
   "cell_type": "code",
   "execution_count": 136,
   "metadata": {},
   "outputs": [
    {
     "data": {
      "text/html": [
       "\n",
       "  <style>\n",
       "    pre {\n",
       "        white-space: pre-wrap;\n",
       "    }\n",
       "  </style>\n",
       "  "
      ],
      "text/plain": [
       "<IPython.core.display.HTML object>"
      ]
     },
     "metadata": {},
     "output_type": "display_data"
    },
    {
     "data": {
      "text/html": [
       "<pre style=\"white-space:pre;overflow-x:auto;line-height:normal;font-family:Menlo,'DejaVu Sans Mono',consolas,'Courier New',monospace\"><span style=\"font-weight: bold\">{</span>\n",
       "    <span style=\"color: #008000; text-decoration-color: #008000\">'type'</span>: <span style=\"color: #008000; text-decoration-color: #008000\">'function'</span>,\n",
       "    <span style=\"color: #008000; text-decoration-color: #008000\">'function'</span>: <span style=\"font-weight: bold\">{</span>\n",
       "        <span style=\"color: #008000; text-decoration-color: #008000\">'name'</span>: <span style=\"color: #008000; text-decoration-color: #008000\">'generate_gang'</span>,\n",
       "        <span style=\"color: #008000; text-decoration-color: #008000\">'description'</span>: <span style=\"color: #008000; text-decoration-color: #008000\">\"Generate a Necromunda gang by specifying the gang details and the members' attributes.\"</span>,\n",
       "        <span style=\"color: #008000; text-decoration-color: #008000\">'parameters'</span>: <span style=\"font-weight: bold\">{</span>\n",
       "            <span style=\"color: #008000; text-decoration-color: #008000\">'type'</span>: <span style=\"color: #008000; text-decoration-color: #008000\">'object'</span>,\n",
       "            <span style=\"color: #008000; text-decoration-color: #008000\">'properties'</span>: <span style=\"font-weight: bold\">{</span>\n",
       "                <span style=\"color: #008000; text-decoration-color: #008000\">'name'</span>: <span style=\"font-weight: bold\">{</span><span style=\"color: #008000; text-decoration-color: #008000\">'type'</span>: <span style=\"color: #008000; text-decoration-color: #008000\">'string'</span>, <span style=\"color: #008000; text-decoration-color: #008000\">'description'</span>: <span style=\"color: #008000; text-decoration-color: #008000\">'The name of the gang.'</span><span style=\"font-weight: bold\">}</span>,\n",
       "                <span style=\"color: #008000; text-decoration-color: #008000\">'house'</span>: <span style=\"font-weight: bold\">{</span><span style=\"color: #008000; text-decoration-color: #008000\">'type'</span>: <span style=\"color: #008000; text-decoration-color: #008000\">'string'</span>, <span style=\"color: #008000; text-decoration-color: #008000\">'description'</span>: <span style=\"color: #008000; text-decoration-color: #008000\">'The house or faction to which the gang belongs.'</span><span style=\"font-weight: bold\">}</span>,\n",
       "                <span style=\"color: #008000; text-decoration-color: #008000\">'reputation'</span>: <span style=\"font-weight: bold\">{</span><span style=\"color: #008000; text-decoration-color: #008000\">'type'</span>: <span style=\"color: #008000; text-decoration-color: #008000\">'number'</span>, <span style=\"color: #008000; text-decoration-color: #008000\">'description'</span>: <span style=\"color: #008000; text-decoration-color: #008000\">'Reputation score of the gang.'</span><span style=\"font-weight: bold\">}</span>,\n",
       "                <span style=\"color: #008000; text-decoration-color: #008000\">'wealth'</span>: <span style=\"font-weight: bold\">{</span><span style=\"color: #008000; text-decoration-color: #008000\">'type'</span>: <span style=\"color: #008000; text-decoration-color: #008000\">'number'</span>, <span style=\"color: #008000; text-decoration-color: #008000\">'description'</span>: <span style=\"color: #008000; text-decoration-color: #008000\">'Total wealth in credits of the gang.'</span><span style=\"font-weight: bold\">}</span>,\n",
       "                <span style=\"color: #008000; text-decoration-color: #008000\">'headquarters'</span>: <span style=\"font-weight: bold\">{</span><span style=\"color: #008000; text-decoration-color: #008000\">'type'</span>: <span style=\"color: #008000; text-decoration-color: #008000\">'string'</span>, <span style=\"color: #008000; text-decoration-color: #008000\">'description'</span>: <span style=\"color: #008000; text-decoration-color: #008000\">\"Main location of the gang's operations.\"</span><span style=\"font-weight: bold\">}</span>,\n",
       "                <span style=\"color: #008000; text-decoration-color: #008000\">'gangers'</span>: <span style=\"font-weight: bold\">{</span>\n",
       "                    <span style=\"color: #008000; text-decoration-color: #008000\">'type'</span>: <span style=\"color: #008000; text-decoration-color: #008000\">'array'</span>,\n",
       "                    <span style=\"color: #008000; text-decoration-color: #008000\">'items'</span>: <span style=\"font-weight: bold\">{</span>\n",
       "                        <span style=\"color: #008000; text-decoration-color: #008000\">'type'</span>: <span style=\"color: #008000; text-decoration-color: #008000\">'object'</span>,\n",
       "                        <span style=\"color: #008000; text-decoration-color: #008000\">'properties'</span>: <span style=\"font-weight: bold\">{</span>\n",
       "                            <span style=\"color: #008000; text-decoration-color: #008000\">'faction'</span>: <span style=\"font-weight: bold\">{</span><span style=\"color: #008000; text-decoration-color: #008000\">'type'</span>: <span style=\"color: #008000; text-decoration-color: #008000\">'string'</span><span style=\"font-weight: bold\">}</span>,\n",
       "                            <span style=\"color: #008000; text-decoration-color: #008000\">'points'</span>: <span style=\"font-weight: bold\">{</span><span style=\"color: #008000; text-decoration-color: #008000\">'type'</span>: <span style=\"color: #008000; text-decoration-color: #008000\">'number'</span><span style=\"font-weight: bold\">}</span>,\n",
       "                            <span style=\"color: #008000; text-decoration-color: #008000\">'name'</span>: <span style=\"font-weight: bold\">{</span><span style=\"color: #008000; text-decoration-color: #008000\">'type'</span>: <span style=\"color: #008000; text-decoration-color: #008000\">'string'</span><span style=\"font-weight: bold\">}</span>,\n",
       "                            <span style=\"color: #008000; text-decoration-color: #008000\">'type'</span>: <span style=\"font-weight: bold\">{</span><span style=\"color: #008000; text-decoration-color: #008000\">'type'</span>: <span style=\"color: #008000; text-decoration-color: #008000\">'string'</span><span style=\"font-weight: bold\">}</span>,\n",
       "                            <span style=\"color: #008000; text-decoration-color: #008000\">'stats'</span>: <span style=\"font-weight: bold\">{</span><span style=\"color: #008000; text-decoration-color: #008000\">'type'</span>: <span style=\"color: #008000; text-decoration-color: #008000\">'object'</span><span style=\"font-weight: bold\">}</span>,\n",
       "                            <span style=\"color: #008000; text-decoration-color: #008000\">'skills'</span>: <span style=\"font-weight: bold\">{</span><span style=\"color: #008000; text-decoration-color: #008000\">'type'</span>: <span style=\"color: #008000; text-decoration-color: #008000\">'array'</span>, <span style=\"color: #008000; text-decoration-color: #008000\">'items'</span>: <span style=\"font-weight: bold\">{</span><span style=\"color: #008000; text-decoration-color: #008000\">'type'</span>: <span style=\"color: #008000; text-decoration-color: #008000\">'string'</span><span style=\"font-weight: bold\">}}</span>,\n",
       "                            <span style=\"color: #008000; text-decoration-color: #008000\">'restrictions'</span>: <span style=\"font-weight: bold\">{</span><span style=\"color: #008000; text-decoration-color: #008000\">'type'</span>: <span style=\"color: #008000; text-decoration-color: #008000\">'string'</span><span style=\"font-weight: bold\">}</span>,\n",
       "                            <span style=\"color: #008000; text-decoration-color: #008000\">'special_rules'</span>: <span style=\"font-weight: bold\">{</span><span style=\"color: #008000; text-decoration-color: #008000\">'type'</span>: <span style=\"color: #008000; text-decoration-color: #008000\">'array'</span>, <span style=\"color: #008000; text-decoration-color: #008000\">'items'</span>: <span style=\"font-weight: bold\">{</span><span style=\"color: #008000; text-decoration-color: #008000\">'type'</span>: <span style=\"color: #008000; text-decoration-color: #008000\">'string'</span><span style=\"font-weight: bold\">}}</span>,\n",
       "                            <span style=\"color: #008000; text-decoration-color: #008000\">'description'</span>: <span style=\"font-weight: bold\">{</span><span style=\"color: #008000; text-decoration-color: #008000\">'type'</span>: <span style=\"color: #008000; text-decoration-color: #008000\">'string'</span><span style=\"font-weight: bold\">}</span>\n",
       "                        <span style=\"font-weight: bold\">}</span>,\n",
       "                        <span style=\"color: #008000; text-decoration-color: #008000\">'required'</span>: <span style=\"font-weight: bold\">[</span>\n",
       "                            <span style=\"color: #008000; text-decoration-color: #008000\">'faction'</span>,\n",
       "                            <span style=\"color: #008000; text-decoration-color: #008000\">'points'</span>,\n",
       "                            <span style=\"color: #008000; text-decoration-color: #008000\">'name'</span>,\n",
       "                            <span style=\"color: #008000; text-decoration-color: #008000\">'type'</span>,\n",
       "                            <span style=\"color: #008000; text-decoration-color: #008000\">'stats'</span>,\n",
       "                            <span style=\"color: #008000; text-decoration-color: #008000\">'skills'</span>,\n",
       "                            <span style=\"color: #008000; text-decoration-color: #008000\">'restrictions'</span>,\n",
       "                            <span style=\"color: #008000; text-decoration-color: #008000\">'special_rules'</span>,\n",
       "                            <span style=\"color: #008000; text-decoration-color: #008000\">'description'</span>\n",
       "                        <span style=\"font-weight: bold\">]</span>\n",
       "                    <span style=\"font-weight: bold\">}</span>,\n",
       "                    <span style=\"color: #008000; text-decoration-color: #008000\">'description'</span>: <span style=\"color: #008000; text-decoration-color: #008000\">'List of gang members.'</span>\n",
       "                <span style=\"font-weight: bold\">}</span>\n",
       "            <span style=\"font-weight: bold\">}</span>,\n",
       "            <span style=\"color: #008000; text-decoration-color: #008000\">'required'</span>: <span style=\"font-weight: bold\">[</span><span style=\"color: #008000; text-decoration-color: #008000\">'name'</span>, <span style=\"color: #008000; text-decoration-color: #008000\">'house'</span>, <span style=\"color: #008000; text-decoration-color: #008000\">'reputation'</span>, <span style=\"color: #008000; text-decoration-color: #008000\">'wealth'</span>, <span style=\"color: #008000; text-decoration-color: #008000\">'headquarters'</span>, <span style=\"color: #008000; text-decoration-color: #008000\">'gangers'</span><span style=\"font-weight: bold\">]</span>\n",
       "        <span style=\"font-weight: bold\">}</span>\n",
       "    <span style=\"font-weight: bold\">}</span>\n",
       "<span style=\"font-weight: bold\">}</span>\n",
       "</pre>\n"
      ],
      "text/plain": [
       "\u001b[1m{\u001b[0m\n",
       "    \u001b[32m'type'\u001b[0m: \u001b[32m'function'\u001b[0m,\n",
       "    \u001b[32m'function'\u001b[0m: \u001b[1m{\u001b[0m\n",
       "        \u001b[32m'name'\u001b[0m: \u001b[32m'generate_gang'\u001b[0m,\n",
       "        \u001b[32m'description'\u001b[0m: \u001b[32m\"Generate a Necromunda gang by specifying the gang details and the members' attributes.\"\u001b[0m,\n",
       "        \u001b[32m'parameters'\u001b[0m: \u001b[1m{\u001b[0m\n",
       "            \u001b[32m'type'\u001b[0m: \u001b[32m'object'\u001b[0m,\n",
       "            \u001b[32m'properties'\u001b[0m: \u001b[1m{\u001b[0m\n",
       "                \u001b[32m'name'\u001b[0m: \u001b[1m{\u001b[0m\u001b[32m'type'\u001b[0m: \u001b[32m'string'\u001b[0m, \u001b[32m'description'\u001b[0m: \u001b[32m'The name of the gang.'\u001b[0m\u001b[1m}\u001b[0m,\n",
       "                \u001b[32m'house'\u001b[0m: \u001b[1m{\u001b[0m\u001b[32m'type'\u001b[0m: \u001b[32m'string'\u001b[0m, \u001b[32m'description'\u001b[0m: \u001b[32m'The house or faction to which the gang belongs.'\u001b[0m\u001b[1m}\u001b[0m,\n",
       "                \u001b[32m'reputation'\u001b[0m: \u001b[1m{\u001b[0m\u001b[32m'type'\u001b[0m: \u001b[32m'number'\u001b[0m, \u001b[32m'description'\u001b[0m: \u001b[32m'Reputation score of the gang.'\u001b[0m\u001b[1m}\u001b[0m,\n",
       "                \u001b[32m'wealth'\u001b[0m: \u001b[1m{\u001b[0m\u001b[32m'type'\u001b[0m: \u001b[32m'number'\u001b[0m, \u001b[32m'description'\u001b[0m: \u001b[32m'Total wealth in credits of the gang.'\u001b[0m\u001b[1m}\u001b[0m,\n",
       "                \u001b[32m'headquarters'\u001b[0m: \u001b[1m{\u001b[0m\u001b[32m'type'\u001b[0m: \u001b[32m'string'\u001b[0m, \u001b[32m'description'\u001b[0m: \u001b[32m\"Main location of the gang's operations.\"\u001b[0m\u001b[1m}\u001b[0m,\n",
       "                \u001b[32m'gangers'\u001b[0m: \u001b[1m{\u001b[0m\n",
       "                    \u001b[32m'type'\u001b[0m: \u001b[32m'array'\u001b[0m,\n",
       "                    \u001b[32m'items'\u001b[0m: \u001b[1m{\u001b[0m\n",
       "                        \u001b[32m'type'\u001b[0m: \u001b[32m'object'\u001b[0m,\n",
       "                        \u001b[32m'properties'\u001b[0m: \u001b[1m{\u001b[0m\n",
       "                            \u001b[32m'faction'\u001b[0m: \u001b[1m{\u001b[0m\u001b[32m'type'\u001b[0m: \u001b[32m'string'\u001b[0m\u001b[1m}\u001b[0m,\n",
       "                            \u001b[32m'points'\u001b[0m: \u001b[1m{\u001b[0m\u001b[32m'type'\u001b[0m: \u001b[32m'number'\u001b[0m\u001b[1m}\u001b[0m,\n",
       "                            \u001b[32m'name'\u001b[0m: \u001b[1m{\u001b[0m\u001b[32m'type'\u001b[0m: \u001b[32m'string'\u001b[0m\u001b[1m}\u001b[0m,\n",
       "                            \u001b[32m'type'\u001b[0m: \u001b[1m{\u001b[0m\u001b[32m'type'\u001b[0m: \u001b[32m'string'\u001b[0m\u001b[1m}\u001b[0m,\n",
       "                            \u001b[32m'stats'\u001b[0m: \u001b[1m{\u001b[0m\u001b[32m'type'\u001b[0m: \u001b[32m'object'\u001b[0m\u001b[1m}\u001b[0m,\n",
       "                            \u001b[32m'skills'\u001b[0m: \u001b[1m{\u001b[0m\u001b[32m'type'\u001b[0m: \u001b[32m'array'\u001b[0m, \u001b[32m'items'\u001b[0m: \u001b[1m{\u001b[0m\u001b[32m'type'\u001b[0m: \u001b[32m'string'\u001b[0m\u001b[1m}\u001b[0m\u001b[1m}\u001b[0m,\n",
       "                            \u001b[32m'restrictions'\u001b[0m: \u001b[1m{\u001b[0m\u001b[32m'type'\u001b[0m: \u001b[32m'string'\u001b[0m\u001b[1m}\u001b[0m,\n",
       "                            \u001b[32m'special_rules'\u001b[0m: \u001b[1m{\u001b[0m\u001b[32m'type'\u001b[0m: \u001b[32m'array'\u001b[0m, \u001b[32m'items'\u001b[0m: \u001b[1m{\u001b[0m\u001b[32m'type'\u001b[0m: \u001b[32m'string'\u001b[0m\u001b[1m}\u001b[0m\u001b[1m}\u001b[0m,\n",
       "                            \u001b[32m'description'\u001b[0m: \u001b[1m{\u001b[0m\u001b[32m'type'\u001b[0m: \u001b[32m'string'\u001b[0m\u001b[1m}\u001b[0m\n",
       "                        \u001b[1m}\u001b[0m,\n",
       "                        \u001b[32m'required'\u001b[0m: \u001b[1m[\u001b[0m\n",
       "                            \u001b[32m'faction'\u001b[0m,\n",
       "                            \u001b[32m'points'\u001b[0m,\n",
       "                            \u001b[32m'name'\u001b[0m,\n",
       "                            \u001b[32m'type'\u001b[0m,\n",
       "                            \u001b[32m'stats'\u001b[0m,\n",
       "                            \u001b[32m'skills'\u001b[0m,\n",
       "                            \u001b[32m'restrictions'\u001b[0m,\n",
       "                            \u001b[32m'special_rules'\u001b[0m,\n",
       "                            \u001b[32m'description'\u001b[0m\n",
       "                        \u001b[1m]\u001b[0m\n",
       "                    \u001b[1m}\u001b[0m,\n",
       "                    \u001b[32m'description'\u001b[0m: \u001b[32m'List of gang members.'\u001b[0m\n",
       "                \u001b[1m}\u001b[0m\n",
       "            \u001b[1m}\u001b[0m,\n",
       "            \u001b[32m'required'\u001b[0m: \u001b[1m[\u001b[0m\u001b[32m'name'\u001b[0m, \u001b[32m'house'\u001b[0m, \u001b[32m'reputation'\u001b[0m, \u001b[32m'wealth'\u001b[0m, \u001b[32m'headquarters'\u001b[0m, \u001b[32m'gangers'\u001b[0m\u001b[1m]\u001b[0m\n",
       "        \u001b[1m}\u001b[0m\n",
       "    \u001b[1m}\u001b[0m\n",
       "\u001b[1m}\u001b[0m\n"
      ]
     },
     "metadata": {},
     "output_type": "display_data"
    }
   ],
   "source": [
    "#@title Create Gang Tool Entry\n",
    "def create_gang_tool_entry():\n",
    "    \"\"\"\n",
    "    Create a tool entry for generating a gang with all necessary details.\n",
    "\n",
    "    Returns:\n",
    "        dict: A dictionary formatted as a tool entry.\n",
    "    \"\"\"\n",
    "    gang_tool_entry = {\n",
    "        \"type\": \"function\",\n",
    "        \"function\": {\n",
    "            \"name\": \"generate_gang\",\n",
    "            \"description\": \"Generate a Necromunda gang by specifying the gang details and the members' attributes.\",\n",
    "            \"parameters\": {\n",
    "                \"type\": \"object\",\n",
    "                \"properties\": {\n",
    "                    \"name\": {\n",
    "                        \"type\": \"string\",\n",
    "                        \"description\": \"The name of the gang.\"\n",
    "                    },\n",
    "                    \"house\": {\n",
    "                        \"type\": \"string\",\n",
    "                        \"description\": \"The house or faction to which the gang belongs.\"\n",
    "                    },\n",
    "                    \"reputation\": {\n",
    "                        \"type\": \"number\",\n",
    "                        \"description\": \"Reputation score of the gang.\"\n",
    "                    },\n",
    "                    \"wealth\": {\n",
    "                        \"type\": \"number\",\n",
    "                        \"description\": \"Total wealth in credits of the gang.\"\n",
    "                    },\n",
    "                    \"headquarters\": {\n",
    "                        \"type\": \"string\",\n",
    "                        \"description\": \"Main location of the gang's operations.\"\n",
    "                    },\n",
    "                    \"gangers\": {\n",
    "                        \"type\": \"array\",\n",
    "                        \"items\": {\n",
    "                            \"type\": \"object\",\n",
    "                            \"properties\": {\n",
    "                                \"faction\": {\"type\": \"string\"},\n",
    "                                \"points\": {\"type\": \"number\"},\n",
    "                                \"name\": {\"type\": \"string\"},\n",
    "                                \"type\": {\"type\": \"string\"},\n",
    "                                \"stats\": {\"type\": \"object\"},  # Stats properties should be defined as in the Ganger model\n",
    "                                \"skills\": {\"type\": \"array\", \"items\": {\"type\": \"string\"}},\n",
    "                                \"restrictions\": {\"type\": \"string\"},\n",
    "                                \"special_rules\": {\"type\": \"array\", \"items\": {\"type\": \"string\"}},\n",
    "                                \"description\": {\"type\": \"string\"}\n",
    "                            },\n",
    "                            \"required\": [\"faction\", \"points\", \"name\", \"type\", \"stats\", \"skills\", \"restrictions\", \"special_rules\", \"description\"]\n",
    "                        },\n",
    "                        \"description\": \"List of gang members.\"\n",
    "                    }\n",
    "                },\n",
    "                \"required\": [\"name\", \"house\", \"reputation\", \"wealth\", \"headquarters\", \"gangers\"]\n",
    "            }\n",
    "        }\n",
    "    }\n",
    "    return gang_tool_entry\n",
    "\n",
    "# Get the tool entry for generating a gang\n",
    "gang_tool = create_gang_tool_entry()\n",
    "print(gang_tool)\n"
   ]
  },
  {
   "cell_type": "code",
   "execution_count": null,
   "metadata": {},
   "outputs": [],
   "source": [
    "tools.append(gang_tool)"
   ]
  },
  {
   "cell_type": "markdown",
   "metadata": {},
   "source": [
    "## Weapon Tool"
   ]
  },
  {
   "cell_type": "code",
   "execution_count": null,
   "metadata": {},
   "outputs": [],
   "source": [
    "import json\n",
    "\n",
    "def convert_schema_to_tool(schema, function_name, function_description):\n",
    "    \"\"\"\n",
    "    Convert a JSON Schema to the tool format used in Python.\n",
    "\n",
    "    Args:\n",
    "        schema (dict): JSON Schema for the data model.\n",
    "        function_name (str): Name of the function.\n",
    "        function_description (str): Description of what the function does.\n",
    "\n",
    "    Returns:\n",
    "        dict: A dictionary formatted for inclusion in the tools list.\n",
    "    \"\"\"\n",
    "    # Define the structure of the tool entry\n",
    "    tool_entry = {\n",
    "        \"type\": \"function\",\n",
    "        \"function\": {\n",
    "            \"name\": function_name,\n",
    "            \"description\": function_description,\n",
    "            \"parameters\": {\n",
    "                \"type\": \"object\",\n",
    "                \"properties\": {},\n",
    "                \"required\": []\n",
    "            }\n",
    "        }\n",
    "    }\n",
    "\n",
    "    # Populate properties and required fields from the JSON Schema\n",
    "    if \"properties\" in schema:\n",
    "        tool_entry[\"function\"][\"parameters\"][\"properties\"] = schema[\"properties\"]\n",
    "        if \"required\" in schema:\n",
    "            tool_entry[\"function\"][\"parameters\"][\"required\"] = schema[\"required\"]\n",
    "\n",
    "    return tool_entry"
   ]
  },
  {
   "cell_type": "code",
   "execution_count": null,
   "metadata": {},
   "outputs": [],
   "source": [
    "weapon_tool = convert_schema_to_tool(schema=weapon_schema, function_name=\"create_necromunda_weapon\", function_description=\"A function to create a weapon for Necromunda using the appropriate formatting\")"
   ]
  },
  {
   "cell_type": "code",
   "execution_count": null,
   "metadata": {},
   "outputs": [],
   "source": []
  },
  {
   "cell_type": "code",
   "execution_count": null,
   "metadata": {},
   "outputs": [],
   "source": []
  },
  {
   "cell_type": "markdown",
   "metadata": {},
   "source": [
    "## Working with OpenAI"
   ]
  },
  {
   "cell_type": "code",
   "execution_count": null,
   "metadata": {},
   "outputs": [],
   "source": [
    "#@title Retry Tool\n",
    "@retry(wait=wait_random_exponential(multiplier=1, max=40), stop=stop_after_attempt(3))\n",
    "def chat_completion_request(messages, tools=None, tool_choice=None, model=GPT_MODEL):\n",
    "    try:\n",
    "        response = client.chat.completions.create(\n",
    "            model=model,\n",
    "            messages=messages,\n",
    "            tools=tools,\n",
    "            tool_choice=tool_choice,\n",
    "        )\n",
    "        return response\n",
    "    except Exception as e:\n",
    "        print(\"Unable to generate ChatCompletion response\")\n",
    "        print(f\"Exception: {e}\")\n",
    "        return e"
   ]
  },
  {
   "cell_type": "code",
   "execution_count": null,
   "metadata": {},
   "outputs": [],
   "source": [
    "messages = []\n",
    "messages.append({\"role\": \"system\", \"content\": \"Don't make assumptions about what values to plug into functions. Ask for clarification if a user request is ambiguous.\"})\n",
    "messages.append({\"role\": \"user\", \"content\": \"Please create a gang for the House Escher faction.  The gang should be for 1000 points.  Make sure to create each ganger first and then add them to the gang\"})\n",
    "chat_response = chat_completion_request(\n",
    "    messages, tools=tools\n",
    ")\n",
    "assistant_message = chat_response.choices[0].message\n",
    "messages.append(assistant_message)\n",
    "assistant_message\n"
   ]
  },
  {
   "cell_type": "markdown",
   "metadata": {},
   "source": [
    "### Function List"
   ]
  },
  {
   "cell_type": "code",
   "execution_count": null,
   "metadata": {},
   "outputs": [],
   "source": [
    "function_list = {\n",
    "    \"generate_ganger\": generate_ganger,\n",
    "    \"generate_gang\" : generate_gang\n",
    "}"
   ]
  },
  {
   "cell_type": "code",
   "execution_count": null,
   "metadata": {},
   "outputs": [],
   "source": [
    "chat_response.choices[0].message.tool_calls[0].function"
   ]
  },
  {
   "cell_type": "code",
   "execution_count": null,
   "metadata": {},
   "outputs": [],
   "source": [
    "# json.loads(chat_response.choices[0].message.tool_calls[0].function.arguments)\n",
    "\n",
    "# Assuming chat_response is a properly structured object with the necessary attributes\n",
    "# Fixed by ensuring the 'arguments' is converted to a string before passing to json.loads\n",
    "json.loads(json.dumps(chat_response.choices[0].message.tool_calls[0].function.arguments))"
   ]
  },
  {
   "cell_type": "code",
   "execution_count": null,
   "metadata": {},
   "outputs": [],
   "source": [
    "import json\n",
    "\n",
    "total_points = 0\n",
    "\n",
    "for message in messages:\n",
    "    # Check if 'content' key exists and if it looks like it might contain 'ganger' information\n",
    "    if 'content' in message and '\"ganger\":' in message['content']:\n",
    "        try:\n",
    "            # Safely parse the JSON content\n",
    "            content_dict = json.loads(message['content'])\n",
    "            # Check if 'ganger' key exists in the parsed content\n",
    "            if 'ganger' in content_dict:\n",
    "                total_points += content_dict['ganger']['points']\n",
    "        except json.JSONDecodeError:\n",
    "            # Handle cases where content is not valid JSON\n",
    "            print(\"Found content that is not valid JSON, skipping.\")\n",
    "\n",
    "# Check if the total points meet the requirement\n",
    "if total_points >= 1000:\n",
    "    print(f\"Requirement met. Total points: {total_points}\")\n",
    "    messages.append({\"role\": \"user\", \"content\": f\"Looks like we have {total_points} points now.  Give me a summary and we can continue.\"})\n",
    "else:\n",
    "    print(f\"Requirement not met. Total points: {total_points}\")\n",
    "    messages.append({\"role\": \"user\", \"content\": f\"Only {total_points} points were used. Please continue until you reach 1000.\"})"
   ]
  },
  {
   "cell_type": "code",
   "execution_count": null,
   "metadata": {},
   "outputs": [],
   "source": [
    "chat_response = chat_completion_request(\n",
    "    messages, tools=tools\n",
    "  )"
   ]
  },
  {
   "cell_type": "code",
   "execution_count": null,
   "metadata": {},
   "outputs": [],
   "source": [
    "messages"
   ]
  },
  {
   "cell_type": "markdown",
   "metadata": {},
   "source": [
    "# Defining Functions For Kani"
   ]
  },
  {
   "cell_type": "code",
   "execution_count": null,
   "metadata": {},
   "outputs": [],
   "source": [
    "from kani import Kani, chat_in_terminal\n",
    "from kani.engines.openai import OpenAIEngine\n",
    "\n",
    "engine = OpenAIEngine(api_key, model=\"gpt-3.5-turbo\")\n",
    "\n",
    "class NecromundaGPT(Kani):\n",
    "    # @ai_function(json_schema=Ganger.model_json_schema())\n",
    "    # def generate_ganger(\n",
    "    #         self,\n",
    "    #         ganger_data: Annotated[\n",
    "    #             dict,\n",
    "    #             AIParam(\n",
    "    #                 desc=\"Data to create the ganger, expected to conform to the Ganger model.\"\n",
    "    #             )]):\n",
    "    #     \"\"\"\n",
    "    #     Vailidate a ganger data using the Ganger Pydantic model.\n",
    "    #     Check the required fields are present\n",
    "    #     and valid for the tabletop game of Necromunda \n",
    "    #     \"\"\"\n",
    "    #     try:\n",
    "    #         ganger = Ganger(**ganger_data)\n",
    "    #         return {\n",
    "    #             \"status\": \"success\",\n",
    "    #             \"message\": \"The parameters for the ganger were validated successfully\",\n",
    "    #             \"ganger\": ganger.model_dump_json()\n",
    "    #         }\n",
    "    #     except ValidationError as e:\n",
    "    #         return {\n",
    "    #             \"status\": \"error\",\n",
    "    #             \"message\": str(object=e)\n",
    "    #         }\n",
    "    \n",
    "    # @ai_function(json_schema=Gang.model_json_schema(), )\n",
    "    # def generate_gang(\n",
    "    #     self,\n",
    "    #     gang_data: Annotated[\n",
    "    #         dict,\n",
    "    #         AIParam(\n",
    "    #             desc=\"Data to create the gang, expected to conform to the Gang model.\"\n",
    "    #         )]) -> dict[str, str]:\n",
    "    #     \"\"\"\n",
    "    #     Validate gang data using the Gang model.\n",
    "    #     \"\"\"\n",
    "    #     try:\n",
    "    #         gang = Gang(**gang_data)\n",
    "    #         return {\n",
    "    #             \"status\": \"success\",\n",
    "    #             \"message\": \"The gang's data were validated successfully\",\n",
    "    #             \"gang\": gang.model_dump_json()\n",
    "    #         }\n",
    "    #     except ValidationError as e:\n",
    "    #         return {\n",
    "    #             \"status\": \"error\",\n",
    "    #             \"message\": str(object=e)\n",
    "    #         }\n",
    "    \n",
    "    # @ai_function(json_schema=Weapon.model_json_schema(), )\n",
    "    # def create_necromunda_weapon(\n",
    "    #     self,\n",
    "    #     weapon_data: Annotated[\n",
    "    #         dict,\n",
    "    #         AIParam(\n",
    "    #             desc=\"Data to create the weapon, expected to conform to the Weapon model.\"\n",
    "    #         )]) -> dict[str, str]:\n",
    "    #     \"\"\"\n",
    "    #     Validate weapon data using the Weapon model.\n",
    "    #     \"\"\"\n",
    "    #     try:\n",
    "    #         weapon = Weapon(**weapon_data)\n",
    "    #         return {\n",
    "    #             \"status\": \"success\",\n",
    "    #             \"message\": \"The weapon's data were validated successfully\",\n",
    "    #             \"weapon\": weapon.model_dump_json()\n",
    "    #         }\n",
    "    #     except ValidationError as e:\n",
    "    #         return {\n",
    "    #             \"status\": \"error\",\n",
    "    #             \"message\": str(object=e)\n",
    "    #         }\n",
    "    \n",
    "\n",
    "necromunda_gpt = NecromundaGPT(engine, system_prompt=system_prompt, functions=ai_function_list)\n",
    "# chat_in_terminal(ai)"
   ]
  },
  {
   "cell_type": "markdown",
   "metadata": {},
   "source": [
    "## Running Kani"
   ]
  },
  {
   "cell_type": "markdown",
   "metadata": {},
   "source": [
    "### Running Kani In The Terminal"
   ]
  },
  {
   "cell_type": "code",
   "execution_count": null,
   "metadata": {},
   "outputs": [],
   "source": []
  },
  {
   "cell_type": "code",
   "execution_count": null,
   "metadata": {},
   "outputs": [],
   "source": [
    "chat_in_terminal(necromunda_gpt)"
   ]
  },
  {
   "cell_type": "code",
   "execution_count": null,
   "metadata": {},
   "outputs": [],
   "source": [
    "from kani import ChatMessage\n",
    "\n",
    "# Add in some sample gang creation queries for Necromunda \n",
    "few_shot = [\n",
    "    ChatMessage.user(\"Please create a gang for the House Escher faction.  The gang should be for 1000 points.  Make sure to create each ganger first and then add them to the gang.\"),\n",
    "    ChatMessage.user(\"Please create a gang for the House Goliath faction.  The gang should be for 1000 points.  Make sure to create each ganger first and then add them to the gang.\"),\n",
    "    ChatMessage.user(\"Please create a gang for the House Orlock faction.  The gang should be for 1000 points.  Make sure to create each ganger first and then add them to the gang.\")\n",
    "]\n",
    "[necromunda_gpt.add_to_history(message) for message in few_shot]"
   ]
  },
  {
   "cell_type": "code",
   "execution_count": null,
   "metadata": {},
   "outputs": [],
   "source": [
    "async for message in necromunda_gpt.full_round(\"Please create a gang for the House Escher faction.\\\n",
    "        The gang should be for 1000 points.  Make sure to create each ganger first and then add them to the gang\"):\n",
    "    if 'type' in message:\n",
    "        print(message['type'])\n"
   ]
  },
  {
   "cell_type": "code",
   "execution_count": null,
   "metadata": {},
   "outputs": [],
   "source": [
    "await chat_with_bot()"
   ]
  },
  {
   "cell_type": "code",
   "execution_count": null,
   "metadata": {},
   "outputs": [],
   "source": [
    "\n",
    "%pip install llama-index-readers-file\n",
    "%pip install llama-index-embeddings-openai\n",
    "%pip install llama-index-agent-openai\n",
    "%pip install llama-index-llms-openai"
   ]
  },
  {
   "cell_type": "code",
   "execution_count": null,
   "metadata": {},
   "outputs": [],
   "source": [
    "\n",
    "# set text wrapping\n",
    "from IPython.display import HTML, display\n",
    "\n",
    "\n",
    "def set_css():\n",
    "    display(\n",
    "        HTML(\n",
    "            \"\"\"\n",
    "  <style>\n",
    "    pre {\n",
    "        white-space: pre-wrap;\n",
    "    }\n",
    "  </style>\n",
    "  \"\"\"\n",
    "        )\n",
    "    )\n",
    "\n",
    "\n",
    "get_ipython().events.register(\"pre_run_cell\", set_css)"
   ]
  },
  {
   "cell_type": "code",
   "execution_count": null,
   "metadata": {},
   "outputs": [],
   "source": [
    "\n",
    "%pip install llama-index-agent-openai\n",
    "%pip install llama-index-llms-openai"
   ]
  },
  {
   "cell_type": "code",
   "execution_count": null,
   "metadata": {},
   "outputs": [],
   "source": [
    "%pip install llama-index"
   ]
  },
  {
   "cell_type": "code",
   "execution_count": null,
   "metadata": {},
   "outputs": [],
   "source": [
    "\n",
    "import json\n",
    "from typing import Sequence, List\n",
    "\n",
    "from llama_index.llms.openai import OpenAI\n",
    "from llama_index.core.llms import ChatMessage\n",
    "from llama_index.core.tools import BaseTool, FunctionTool\n",
    "from llama_index.agent.openai import OpenAIAgent"
   ]
  },
  {
   "cell_type": "code",
   "execution_count": null,
   "metadata": {},
   "outputs": [],
   "source": [
    "import nest_asyncio\n",
    "\n",
    "nest_asyncio.apply()"
   ]
  },
  {
   "cell_type": "markdown",
   "metadata": {},
   "source": [
    "# Using GPT-3 for Necromunda with Functions"
   ]
  },
  {
   "cell_type": "markdown",
   "metadata": {},
   "source": [
    "## Base Message for Gang Generation"
   ]
  },
  {
   "cell_type": "code",
   "execution_count": 140,
   "metadata": {},
   "outputs": [
    {
     "data": {
      "text/html": [
       "\n",
       "  <style>\n",
       "    pre {\n",
       "        white-space: pre-wrap;\n",
       "    }\n",
       "  </style>\n",
       "  "
      ],
      "text/plain": [
       "<IPython.core.display.HTML object>"
      ]
     },
     "metadata": {},
     "output_type": "display_data"
    }
   ],
   "source": [
    "import json\n",
    "messages = []\n",
    "messages.append({\"role\": \"system\", \"content\": \"Don't make assumptions about what values to plug into functions. Ask for clarification if a user request is ambiguous.\"})\n",
    "messages.append({\"role\": \"user\", \"content\": \"Please create a gang for the House Escher faction.  The gang should be for 1000 points.  Make sure to create each ganger first and then add them to the gang\"})\n"
   ]
  },
  {
   "cell_type": "code",
   "execution_count": 141,
   "metadata": {},
   "outputs": [
    {
     "data": {
      "text/html": [
       "\n",
       "  <style>\n",
       "    pre {\n",
       "        white-space: pre-wrap;\n",
       "    }\n",
       "  </style>\n",
       "  "
      ],
      "text/plain": [
       "<IPython.core.display.HTML object>"
      ]
     },
     "metadata": {},
     "output_type": "display_data"
    }
   ],
   "source": [
    "chat_response = chat_completion_request(\n",
    "    messages=messages, tools=tools, model='gpt-3.5-turbo-1106'\n",
    ")"
   ]
  },
  {
   "cell_type": "code",
   "execution_count": null,
   "metadata": {},
   "outputs": [],
   "source": [
    "chat_response"
   ]
  },
  {
   "cell_type": "code",
   "execution_count": 142,
   "metadata": {},
   "outputs": [
    {
     "data": {
      "text/html": [
       "\n",
       "  <style>\n",
       "    pre {\n",
       "        white-space: pre-wrap;\n",
       "    }\n",
       "  </style>\n",
       "  "
      ],
      "text/plain": [
       "<IPython.core.display.HTML object>"
      ]
     },
     "metadata": {},
     "output_type": "display_data"
    },
    {
     "data": {
      "text/plain": [
       "ChatCompletionMessage(content=None, role='assistant', function_call=None, tool_calls=[ChatCompletionMessageToolCall(id='call_vQiVrWrBIaNjpoM0e2K9Df1v', function=Function(arguments='{\"faction\": \"House Escher\", \"points\": 200, \"name\": \"Vixen\", \"type\": \"Leader\", \"stats\": {\"M\": \"6\", \"WS\": \"3+\", \"BS\": \"3+\", \"S\": \"3\", \"T\": \"3\", \"W\": \"4\", \"I\": \"4+\", \"A\": \"2\", \"Ld\": \"8\", \"Cl\": \"9\", \"Wil\": \"7\", \"Int\": \"6\"}, \"skills\": [\"Agility\", \"Leadership\"], \"restrictions\": \"None\", \"special_rules\": [\"Master of Blades\"], \"description\": \"Vixen is a cunning and quick-witted leader with a talent for close combat.\"}', name='generate_ganger'), type='function'), ChatCompletionMessageToolCall(id='call_UFRGmUeagthLWMvVvRvVtBf1', function=Function(arguments='{\"faction\": \"House Escher\", \"points\": 150, \"name\": \"Luna\", \"type\": \"Champion\", \"stats\": {\"M\": \"7\", \"WS\": \"4+\", \"BS\": \"3+\", \"S\": \"3\", \"T\": \"3\", \"W\": \"3\", \"I\": \"4+\", \"A\": \"2\", \"Ld\": \"8\", \"Cl\": \"8\", \"Wil\": \"6\", \"Int\": \"6\"}, \"skills\": [\"Agility\", \"Combat\", \"Leadership\"], \"restrictions\": \"None\", \"special_rules\": [\"Blade Mistress\"], \"description\": \"Luna is a fierce and deadly champion known for her skill with blades and pistols.\"}', name='generate_ganger'), type='function'), ChatCompletionMessageToolCall(id='call_p10I1F5CegkvictDumhgDpbb', function=Function(arguments='{\"faction\": \"House Escher\", \"points\": 100, \"name\": \"Nova\", \"type\": \"Ganger\", \"stats\": {\"M\": \"6\", \"WS\": \"4+\", \"BS\": \"4+\", \"S\": \"3\", \"T\": \"3\", \"W\": \"2\", \"I\": \"5+\", \"A\": \"1\", \"Ld\": \"7\", \"Cl\": \"7\", \"Wil\": \"5\", \"Int\": \"5\"}, \"skills\": [\"Agility\", \"Combat\"], \"restrictions\": \"None\", \"special_rules\": [], \"description\": \"Nova is a nimble and stealthy ganger, proficient in close-quarter combat.\"}', name='generate_ganger'), type='function'), ChatCompletionMessageToolCall(id='call_2DjjIvZXqUDnDg3fwtbxoCGS', function=Function(arguments='{\"faction\": \"House Escher\", \"points\": 100, \"name\": \"Astra\", \"type\": \"Ganger\", \"stats\": {\"M\": \"6\", \"WS\": \"4+\", \"BS\": \"4+\", \"S\": \"3\", \"T\": \"3\", \"W\": \"2\", \"I\": \"5+\", \"A\": \"1\", \"Ld\": \"6\", \"Cl\": \"6\", \"Wil\": \"4\", \"Int\": \"4\"}, \"skills\": [\"Agility\"], \"restrictions\": \"None\", \"special_rules\": [], \"description\": \"Astra is a quick and agile ganger, skilled in maneuvering and ranged combat.\"}', name='generate_ganger'), type='function'), ChatCompletionMessageToolCall(id='call_yE0J2F8CJbOypY1hpkOmWrgI', function=Function(arguments='{\"faction\": \"House Escher\", \"points\": 150, \"name\": \"Selene\", \"type\": \"Juve\", \"stats\": {\"M\": \"7\", \"WS\": \"4+\", \"BS\": \"4+\", \"S\": \"3\", \"T\": \"3\", \"W\": \"2\", \"I\": \"6+\", \"A\": \"1\", \"Ld\": \"7\", \"Cl\": \"7\", \"Wil\": \"5\", \"Int\": \"5\"}, \"skills\": [\"Agility\"], \"restrictions\": \"None\", \"special_rules\": [], \"description\": \"Selene is a young and agile juve eager to prove her worth in the gang.\"}', name='generate_ganger'), type='function'), ChatCompletionMessageToolCall(id='call_WD3nXWdEGdZ9O6Wm5Fz2Wxhj', function=Function(arguments='{\"faction\": \"House Escher\", \"points\": 300, \"name\": \"Kora\", \"type\": \"Specialist\", \"stats\": {\"M\": \"6\", \"WS\": \"3+\", \"BS\": \"3+\", \"S\": \"3\", \"T\": \"4\", \"W\": \"4\", \"I\": \"4+\", \"A\": \"2\", \"Ld\": \"8\", \"Cl\": \"8\", \"Wil\": \"6\", \"Int\": \"6\"}, \"skills\": [\"Agility\", \"Leadership\"], \"restrictions\": \"None\", \"special_rules\": [\"Toxin Mistress\"], \"description\": \"Kora is a deadly toxin specialist, capable of turning the tide of a battle with her poisonous concoctions.\"}', name='generate_ganger'), type='function')])"
      ]
     },
     "execution_count": 142,
     "metadata": {},
     "output_type": "execute_result"
    }
   ],
   "source": [
    "\n",
    "assistant_message = chat_response.choices[0].message\n",
    "messages.append(assistant_message)\n",
    "assistant_message"
   ]
  },
  {
   "cell_type": "markdown",
   "metadata": {},
   "source": [
    "# ChatBot Functions"
   ]
  },
  {
   "cell_type": "markdown",
   "metadata": {},
   "source": [
    "### Process Function Calls"
   ]
  },
  {
   "cell_type": "code",
   "execution_count": null,
   "metadata": {},
   "outputs": [],
   "source": [
    "def process_function_calls(tool_call):\n",
    "    function_name = tool_call.function.name\n",
    "    if function_name in function_list:\n",
    "        try:\n",
    "            results = execute_function(tool_call)\n",
    "        except Exception as e:\n",
    "            results = {\"status\": \"error\", \"message\": str(e)}\n",
    "            messages.append({\"role\": \"function\", \"tool_call_id\": tool_call.id, \"name\": function_name, \"content\": json.dumps(results)})\n",
    "    else:\n",
    "        results = {\"status\": \"error\", \"message\": \"Function not found in function_list\"}\n",
    "    messages.append({\"role\": \"function\", \"tool_call_id\": tool_call.id, \"name\": function_name, \"content\": json.dumps(results)})"
   ]
  },
  {
   "cell_type": "markdown",
   "metadata": {},
   "source": [
    "### Execute Function"
   ]
  },
  {
   "cell_type": "code",
   "execution_count": null,
   "metadata": {},
   "outputs": [],
   "source": [
    "def execute_function(tool_call):\n",
    "    function_args = json.loads(tool_call.function.arguments)\n",
    "    function = function_list[tool_call.function.name]\n",
    "    return function(function_args)"
   ]
  },
  {
   "cell_type": "markdown",
   "metadata": {},
   "source": [
    "### Append Assistant Message"
   ]
  },
  {
   "cell_type": "code",
   "execution_count": null,
   "metadata": {},
   "outputs": [],
   "source": [
    "def append_assistant_message(chat_response):\n",
    "    if chat_response.choices[0].message.content and chat_response.choices[0].message.role == \"assistant\":\n",
    "        messages.append({\"role\": \"assistant\", \"content\": chat_response.choices[0].message.content})\n"
   ]
  },
  {
   "cell_type": "markdown",
   "metadata": {},
   "source": [
    "### Calculate Total Points"
   ]
  },
  {
   "cell_type": "code",
   "execution_count": null,
   "metadata": {},
   "outputs": [],
   "source": [
    "import json\n",
    "\n",
    "total_points = 0\n",
    "\n",
    "for message in messages:\n",
    "    # Check if 'content' key exists and if it might contain 'ganger' info\n",
    "    if 'content' in message and '\"ganger\":' in message['content']:\n",
    "        try:\n",
    "            # Safely parse the JSON content\n",
    "            content_dict = json.loads(message['content'])\n",
    "            # Check if 'ganger' key exists in the parsed content\n",
    "            if 'ganger' in content_dict:\n",
    "                total_points += content_dict['ganger']['points']\n",
    "        except json.JSONDecodeError:\n",
    "            # Handle invalid JSON content\n",
    "            print(\"Found content that is not valid JSON, skipping.\")\n",
    "\n",
    "# Check if the total points meet the requirement\n",
    "if total_points >= 1000:\n",
    "    success_message = (\n",
    "        f\"Looks like we have {total_points} points now. \"\n",
    "        \"Give me a summary and we can continue.\"\n",
    "    )\n",
    "    messages.append({\"role\": \"user\", \"content\": success_message})\n",
    "else:\n",
    "    failure_message = (\n",
    "        f\"Only {total_points} points were used. \"\n",
    "        \"Please continue until you reach 1000.\"\n",
    "    )\n",
    "    messages.append({\"role\": \"user\", \"content\": failure_message})"
   ]
  },
  {
   "cell_type": "markdown",
   "metadata": {},
   "source": [
    "### Check Points Requirement"
   ]
  },
  {
   "cell_type": "code",
   "execution_count": null,
   "metadata": {},
   "outputs": [],
   "source": [
    "\n",
    "def check_points_requirement(total_points, ganger_count):\n",
    "    if total_points >= 1000 and ganger_count > 1:\n",
    "        print(f\"Requirement met. Total points: {total_points}, Gangers: {ganger_count}\")\n",
    "        messages.append({\"role\": \"user\", \"content\": f\"Looks like we have {total_points} points and {ganger_count} Gangers now. Give me a summary and we can continue.\"})\n",
    "    else:\n",
    "        if total_points < 1000:\n",
    "            print(f\"Requirement not met. Total points: {total_points}\")\n",
    "            messages.append({\"role\": \"user\", \"content\": f\"Only {total_points} points were used. Please continue until you reach 1000.\"})\n",
    "        if ganger_count <= 1:\n",
    "            print(f\"Requirement not met. Only {ganger_count} Ganger found. At least 2 Gangers are required.\")\n",
    "            messages.append({\"role\": \"user\", \"content\": f\"Only {ganger_count} Ganger found. Please add more Gangers to the gang.\"})"
   ]
  },
  {
   "cell_type": "code",
   "execution_count": null,
   "metadata": {},
   "outputs": [],
   "source": [
    "def check_points_requirement(total_points, ganger_count):\n",
    "    if total_points >= 1000 and ganger_count > 3:\n",
    "        print(f\"Requirement met. Total points: {total_points}, Gangers: {ganger_count}\")\n",
    "        messages.append({\"role\": \"user\", \"lcontent\": f\"Looks like we have {total_points} points and {ganger_count} Gangers now. Give me a summary and we can continue.\"})\n",
    "    else:\n",
    "        if total_points < 1000:\n",
    "            print(f\"Requirement not met. Total points: {total_points}\")\n",
    "            messages.append({\"role\": \"user\", \"content\": f\"Only {total_points} points were used. Please continue until you reach 1000.\"})\n",
    "        if ganger_count <= 1:\n",
    "            print(f\"Requirement not met. Only {ganger_count} Ganger found. At least 4 Gangers are required.\")\n",
    "            messages.append({\"role\": \"user\", \"content\": f\"Only {ganger_count} Ganger found. Please add more Gangers to the gang. and adjust the gangers as needed\"})"
   ]
  },
  {
   "cell_type": "markdown",
   "metadata": {},
   "source": [
    "### Count Sucessful Gangers"
   ]
  },
  {
   "cell_type": "code",
   "execution_count": null,
   "metadata": {},
   "outputs": [],
   "source": [
    "def count_successful_gangers(messages):\n",
    "    count = 0\n",
    "    for message in messages:\n",
    "        if isinstance(message, dict) and message['role'] == 'function' and message['name'] == 'generate_ganger':\n",
    "        \n",
    "        # if type(message) == dict and if message['role'] == 'function' and message['name'] == 'generate_ganger':\n",
    "        \n",
    "                try:\n",
    "                    content_dict = json.loads(message['content'])\n",
    "                    if content_dict['status'] == 'success':\n",
    "                        count += 1\n",
    "                except json.JSONDecodeError:\n",
    "                    print(\"Error in parsing JSON content.\")\n",
    "    return count"
   ]
  },
  {
   "cell_type": "code",
   "execution_count": null,
   "metadata": {
    "notebookRunGroups": {
     "groupValue": "2"
    }
   },
   "outputs": [],
   "source": [
    "\n",
    "def count_successful_gangers(messages):\n",
    "    count = 0\n",
    "    for message in messages:\n",
    "        if isinstance(message, dict) and message.get('role') == 'function' and message.get('name') == 'generate_ganger':\n",
    "            try:\n",
    "                content_dict = json.loads(message.get('content', '{}'))\n",
    "                if content_dict.get('status') == 'success':\n",
    "                    count += 1\n",
    "            except json.JSONDecodeError:\n",
    "                print(\"Error in parsing JSON content.\")\n",
    "    return count\n"
   ]
  },
  {
   "cell_type": "markdown",
   "metadata": {},
   "source": [
    "### Process Tool Calls"
   ]
  },
  {
   "cell_type": "code",
   "execution_count": null,
   "metadata": {},
   "outputs": [],
   "source": [
    "def process_tool_calls(assistant_message):\n",
    "    print(\"Starting to process tool calls\")\n",
    "    print(assistant_message)\n",
    "    assistant_message.content = str(assistant_message.tool_calls[0].function)\n",
    "    try:\n",
    "        print(\"Appending assistant message\")\n",
    "        messages.append({\"role\": assistant_message.role, \"content\": assistant_message.content})\n",
    "        print(assistant_message.content)\n",
    "    except Exception as e:\n",
    "        print(f\"Error processing tool calls: {e}\")\n",
    "        messages.append({\"role\": \"assistant\", \"content\": f\"An error occurred while processing tool calls: {e}\"})\n",
    "    try:\n",
    "        for tool_call in assistant_message.tool_calls:\n",
    "            process_function_calls(tool_call)\n",
    "    except Exception as e:\n",
    "        messages.append({\"role\": \"assistant\", \"content\": f\"An error occurred while processing function calls: {e}\"})\n"
   ]
  },
  {
   "cell_type": "markdown",
   "metadata": {},
   "source": [
    "### Process Chat Response"
   ]
  },
  {
   "cell_type": "code",
   "execution_count": null,
   "metadata": {},
   "outputs": [],
   "source": [
    "def process_chat_response(chat_response) -> None:\n",
    "    print(\"Got chat response for processing\")\n",
    "    print(chat_response)\n",
    "    if chat_response.choices[0].message.tool_calls:\n",
    "        print(\"Processing tool calls\")\n",
    "        process_tool_calls(assistant_message=chat_response.choices[0].message)\n",
    "    else:\n",
    "        \n",
    "        print(\"Not tool calls found. Appending assistant message\")\n",
    "\n",
    "        append_assistant_message(chat_response=chat_response)\n",
    "\n",
    "    \n",
    "    \n",
    "    ganger_count = count_successful_gangers(messages)\n",
    "    print(\"Running gamger count\")\n",
    "    print(ganger_count)\n",
    "    print(\"Checking points requirement\")\n",
    "    total_points = calculate_total_points(messages)\n",
    "    print(total_points)\n",
    "    print(\"Checking points requirement\")\n",
    "    points_requirement = check_points_requirement(total_points=total_points, ganger_count=ganger_count)\n",
    "    print(points_requirement)"
   ]
  },
  {
   "cell_type": "code",
   "execution_count": 109,
   "metadata": {},
   "outputs": [
    {
     "data": {
      "text/html": [
       "\n",
       "  <style>\n",
       "    pre {\n",
       "        white-space: pre-wrap;\n",
       "    }\n",
       "  </style>\n",
       "  "
      ],
      "text/plain": [
       "<IPython.core.display.HTML object>"
      ]
     },
     "metadata": {},
     "output_type": "display_data"
    }
   ],
   "source": [
    "chat_response = chat_completion_request(\n",
    "    messages, tools=tools\n",
    ")"
   ]
  },
  {
   "cell_type": "code",
   "execution_count": 134,
   "metadata": {},
   "outputs": [
    {
     "data": {
      "text/html": [
       "\n",
       "  <style>\n",
       "    pre {\n",
       "        white-space: pre-wrap;\n",
       "    }\n",
       "  </style>\n",
       "  "
      ],
      "text/plain": [
       "<IPython.core.display.HTML object>"
      ]
     },
     "metadata": {},
     "output_type": "display_data"
    },
    {
     "data": {
      "text/plain": [
       "ChatCompletion(id='chatcmpl-9KhyRlRX59bLaRc5YX2b7ZDmUcwxt', choices=[Choice(finish_reason='tool_calls', index=0, logprobs=None, message=ChatCompletionMessage(content=None, role='assistant', function_call=None, tool_calls=[ChatCompletionMessageToolCall(id='call_G0zXF4HyWQWCp6Oy6yuUX71N', function=Function(arguments='{\"faction\":\"House Escher\",\"points\":200,\"name\":\"Viper\",\"type\":\"Leader\",\"stats\":{\"M\":\"6\",\"WS\":\"3+\",\"BS\":\"3+\",\"S\":\"3\",\"T\":\"3\",\"W\":\"3\",\"I\":\"4+\",\"A\":\"2\",\"Ld\":\"8\",\"Cl\":\"7\",\"Wil\":\"8\",\"Int\":\"7+\"},\"skills\":[\"Fast Shot\",\"Step Aside\",\"Courage\",\"Beware My Sting\"],\"restrictions\":\"May not take heavy weapons\",\"special_rules\":[\"Nerves of Steel\",\"Combat Drugs\"],\"description\":\"Viper is a fierce leader, known for her agility and skilled marksmanship. She leads her gang with a venomous precision on the battlefield.\"}', name='generate_ganger'), type='function', content='Function(arguments=\\'{\"faction\": \"House Escher\", \"points\": 250, \"name\": \"Luna\", \"type\": \"Ganger\", \"stats\": {\"M\": \"6\", \"WS\": \"3+\", \"BS\": \"4+\", \"S\": \"3\", \"T\": \"3\", \"W\": \"1\", \"I\": \"4+\", \"A\": \"1\", \"Ld\": \"7\", \"Cl\": \"7\", \"Wil\": \"7\", \"Int\": \"7\"}, \"skills\": [\"Agility\", \"Flux\", \"Streetwise\"], \"restrictions\": \"None\", \"special_rules\": [\"Fast Shot\"], \"description\": \"Luna is a tough, no-nonsense criminal who grew up on the streets of Necromunda. She has quick reflexes and is not afraid to get her hands dirty.\"}\\', name=\\'generate_ganger\\')')]))], created=1714722623, model='gpt-3.5-turbo-0125', object='chat.completion', system_fingerprint='fp_3b956da36b', usage=CompletionUsage(completion_tokens=154, prompt_tokens=517, total_tokens=671))"
      ]
     },
     "execution_count": 134,
     "metadata": {},
     "output_type": "execute_result"
    }
   ],
   "source": [
    "chat_response"
   ]
  },
  {
   "cell_type": "code",
   "execution_count": null,
   "metadata": {},
   "outputs": [],
   "source": [
    "chat_response = chat_completion_request(\n",
    "    messages, tools=tools\n",
    ")\n",
    "# assistant_message = chat_response.choices[0].message\n",
    "# messages.append(assistant_message)\n",
    "# assistant_message"
   ]
  },
  {
   "cell_type": "code",
   "execution_count": null,
   "metadata": {},
   "outputs": [],
   "source": [
    "messages.pop()"
   ]
  },
  {
   "cell_type": "code",
   "execution_count": null,
   "metadata": {},
   "outputs": [],
   "source": [
    "import openai\n",
    "type(chat_response) != openai.BadRequestError"
   ]
  },
  {
   "cell_type": "code",
   "execution_count": 139,
   "metadata": {},
   "outputs": [
    {
     "data": {
      "text/html": [
       "\n",
       "  <style>\n",
       "    pre {\n",
       "        white-space: pre-wrap;\n",
       "    }\n",
       "  </style>\n",
       "  "
      ],
      "text/plain": [
       "<IPython.core.display.HTML object>"
      ]
     },
     "metadata": {},
     "output_type": "display_data"
    },
    {
     "data": {
      "text/html": [
       "<pre style=\"white-space:pre;overflow-x:auto;line-height:normal;font-family:Menlo,'DejaVu Sans Mono',consolas,'Courier New',monospace\">Tool Calls: \n",
       "<span style=\"font-weight: bold\">[</span>\n",
       "    <span style=\"color: #800080; text-decoration-color: #800080; font-weight: bold\">ChatCompletionMessageToolCall</span><span style=\"font-weight: bold\">(</span>\n",
       "        <span style=\"color: #808000; text-decoration-color: #808000\">id</span>=<span style=\"color: #008000; text-decoration-color: #008000\">'call_G0zXF4HyWQWCp6Oy6yuUX71N'</span>,\n",
       "        <span style=\"color: #808000; text-decoration-color: #808000\">function</span>=<span style=\"color: #800080; text-decoration-color: #800080; font-weight: bold\">Function</span><span style=\"font-weight: bold\">(</span>\n",
       "            <span style=\"color: #808000; text-decoration-color: #808000\">arguments</span>=<span style=\"color: #008000; text-decoration-color: #008000\">'{\"faction\":\"House </span>\n",
       "<span style=\"color: #008000; text-decoration-color: #008000\">Escher\",\"points\":200,\"name\":\"Viper\",\"type\":\"Leader\",\"stats\":{\"M\":\"6\",\"WS\":\"3+\",\"BS\":\"3+\",\"S\":\"3\",\"T\":\"3\",\"W\":\"3\",\"I</span>\n",
       "<span style=\"color: #008000; text-decoration-color: #008000\">\":\"4+\",\"A\":\"2\",\"Ld\":\"8\",\"Cl\":\"7\",\"Wil\":\"8\",\"Int\":\"7+\"},\"skills\":[\"Fast Shot\",\"Step Aside\",\"Courage\",\"Beware My </span>\n",
       "<span style=\"color: #008000; text-decoration-color: #008000\">Sting\"],\"restrictions\":\"May not take heavy weapons\",\"special_rules\":[\"Nerves of Steel\",\"Combat </span>\n",
       "<span style=\"color: #008000; text-decoration-color: #008000\">Drugs\"],\"description\":\"Viper is a fierce leader, known for her agility and skilled marksmanship. She leads her gang</span>\n",
       "<span style=\"color: #008000; text-decoration-color: #008000\">with a venomous precision on the battlefield.\"}'</span>,\n",
       "            <span style=\"color: #808000; text-decoration-color: #808000\">name</span>=<span style=\"color: #008000; text-decoration-color: #008000\">'generate_ganger'</span>\n",
       "        <span style=\"font-weight: bold\">)</span>,\n",
       "        <span style=\"color: #808000; text-decoration-color: #808000\">type</span>=<span style=\"color: #008000; text-decoration-color: #008000\">'function'</span>,\n",
       "        <span style=\"color: #808000; text-decoration-color: #808000\">content</span>=<span style=\"color: #008000; text-decoration-color: #008000\">'Function(arguments=\\'{\"faction\": \"House Escher\", \"points\": 250, \"name\": \"Luna\", \"type\": \"Ganger\", </span>\n",
       "<span style=\"color: #008000; text-decoration-color: #008000\">\"stats\": {\"M\": \"6\", \"WS\": \"3+\", \"BS\": \"4+\", \"S\": \"3\", \"T\": \"3\", \"W\": \"1\", \"I\": \"4+\", \"A\": \"1\", \"Ld\": \"7\", \"Cl\": </span>\n",
       "<span style=\"color: #008000; text-decoration-color: #008000\">\"7\", \"Wil\": \"7\", \"Int\": \"7\"}, \"skills\": [\"Agility\", \"Flux\", \"Streetwise\"], \"restrictions\": \"None\", \"special_rules\":</span>\n",
       "<span style=\"color: #008000; text-decoration-color: #008000\">[\"Fast Shot\"], \"description\": \"Luna is a tough, no-nonsense criminal who grew up on the streets of Necromunda. She </span>\n",
       "<span style=\"color: #008000; text-decoration-color: #008000\">has quick reflexes and is not afraid to get her hands dirty.\"}\\', name=\\'generate_ganger\\')'</span>\n",
       "    <span style=\"font-weight: bold\">)</span>\n",
       "<span style=\"font-weight: bold\">]</span>\n",
       "</pre>\n"
      ],
      "text/plain": [
       "Tool Calls: \n",
       "\u001b[1m[\u001b[0m\n",
       "    \u001b[1;35mChatCompletionMessageToolCall\u001b[0m\u001b[1m(\u001b[0m\n",
       "        \u001b[33mid\u001b[0m=\u001b[32m'call_G0zXF4HyWQWCp6Oy6yuUX71N'\u001b[0m,\n",
       "        \u001b[33mfunction\u001b[0m=\u001b[1;35mFunction\u001b[0m\u001b[1m(\u001b[0m\n",
       "            \u001b[33marguments\u001b[0m=\u001b[32m'\u001b[0m\u001b[32m{\u001b[0m\u001b[32m\"faction\":\"House \u001b[0m\n",
       "\u001b[32mEscher\",\"points\":200,\"name\":\"Viper\",\"type\":\"Leader\",\"stats\":\u001b[0m\u001b[32m{\u001b[0m\u001b[32m\"M\":\"6\",\"WS\":\"3+\",\"BS\":\"3+\",\"S\":\"3\",\"T\":\"3\",\"W\":\"3\",\"I\u001b[0m\n",
       "\u001b[32m\":\"4+\",\"A\":\"2\",\"Ld\":\"8\",\"Cl\":\"7\",\"Wil\":\"8\",\"Int\":\"7+\"\u001b[0m\u001b[32m}\u001b[0m\u001b[32m,\"skills\":\u001b[0m\u001b[32m[\u001b[0m\u001b[32m\"Fast Shot\",\"Step Aside\",\"Courage\",\"Beware My \u001b[0m\n",
       "\u001b[32mSting\"\u001b[0m\u001b[32m]\u001b[0m\u001b[32m,\"restrictions\":\"May not take heavy weapons\",\"special_rules\":\u001b[0m\u001b[32m[\u001b[0m\u001b[32m\"Nerves of Steel\",\"Combat \u001b[0m\n",
       "\u001b[32mDrugs\"\u001b[0m\u001b[32m]\u001b[0m\u001b[32m,\"description\":\"Viper is a fierce leader, known for her agility and skilled marksmanship. She leads her gang\u001b[0m\n",
       "\u001b[32mwith a venomous precision on the battlefield.\"\u001b[0m\u001b[32m}\u001b[0m\u001b[32m'\u001b[0m,\n",
       "            \u001b[33mname\u001b[0m=\u001b[32m'generate_ganger'\u001b[0m\n",
       "        \u001b[1m)\u001b[0m,\n",
       "        \u001b[33mtype\u001b[0m=\u001b[32m'function'\u001b[0m,\n",
       "        \u001b[33mcontent\u001b[0m=\u001b[32m'Function\u001b[0m\u001b[32m(\u001b[0m\u001b[32marguments\u001b[0m\u001b[32m=\\'\u001b[0m\u001b[32m{\u001b[0m\u001b[32m\"faction\": \"House Escher\", \"points\": 250, \"name\": \"Luna\", \"type\": \"Ganger\", \u001b[0m\n",
       "\u001b[32m\"stats\": \u001b[0m\u001b[32m{\u001b[0m\u001b[32m\"M\": \"6\", \"WS\": \"3+\", \"BS\": \"4+\", \"S\": \"3\", \"T\": \"3\", \"W\": \"1\", \"I\": \"4+\", \"A\": \"1\", \"Ld\": \"7\", \"Cl\": \u001b[0m\n",
       "\u001b[32m\"7\", \"Wil\": \"7\", \"Int\": \"7\"\u001b[0m\u001b[32m}\u001b[0m\u001b[32m, \"skills\": \u001b[0m\u001b[32m[\u001b[0m\u001b[32m\"Agility\", \"Flux\", \"Streetwise\"\u001b[0m\u001b[32m]\u001b[0m\u001b[32m, \"restrictions\": \"None\", \"special_rules\":\u001b[0m\n",
       "\u001b[32m[\u001b[0m\u001b[32m\"Fast Shot\"\u001b[0m\u001b[32m]\u001b[0m\u001b[32m, \"description\": \"Luna is a tough, no-nonsense criminal who grew up on the streets of Necromunda. She \u001b[0m\n",
       "\u001b[32mhas quick reflexes and is not afraid to get her hands dirty.\"\u001b[0m\u001b[32m}\u001b[0m\u001b[32m\\', \u001b[0m\u001b[32mname\u001b[0m\u001b[32m=\\'generate_ganger\\'\u001b[0m\u001b[32m)\u001b[0m\u001b[32m'\u001b[0m\n",
       "    \u001b[1m)\u001b[0m\n",
       "\u001b[1m]\u001b[0m\n"
      ]
     },
     "metadata": {},
     "output_type": "display_data"
    },
    {
     "data": {
      "text/html": [
       "<pre style=\"white-space:pre;overflow-x:auto;line-height:normal;font-family:Menlo,'DejaVu Sans Mono',consolas,'Courier New',monospace\">Starting on: \n",
       "<span style=\"color: #800080; text-decoration-color: #800080; font-weight: bold\">ChatCompletionMessageToolCall</span><span style=\"font-weight: bold\">(</span>\n",
       "    <span style=\"color: #808000; text-decoration-color: #808000\">id</span>=<span style=\"color: #008000; text-decoration-color: #008000\">'call_G0zXF4HyWQWCp6Oy6yuUX71N'</span>,\n",
       "    <span style=\"color: #808000; text-decoration-color: #808000\">function</span>=<span style=\"color: #800080; text-decoration-color: #800080; font-weight: bold\">Function</span><span style=\"font-weight: bold\">(</span>\n",
       "        <span style=\"color: #808000; text-decoration-color: #808000\">arguments</span>=<span style=\"color: #008000; text-decoration-color: #008000\">'{\"faction\":\"House </span>\n",
       "<span style=\"color: #008000; text-decoration-color: #008000\">Escher\",\"points\":200,\"name\":\"Viper\",\"type\":\"Leader\",\"stats\":{\"M\":\"6\",\"WS\":\"3+\",\"BS\":\"3+\",\"S\":\"3\",\"T\":\"3\",\"W\":\"3\",\"I</span>\n",
       "<span style=\"color: #008000; text-decoration-color: #008000\">\":\"4+\",\"A\":\"2\",\"Ld\":\"8\",\"Cl\":\"7\",\"Wil\":\"8\",\"Int\":\"7+\"},\"skills\":[\"Fast Shot\",\"Step Aside\",\"Courage\",\"Beware My </span>\n",
       "<span style=\"color: #008000; text-decoration-color: #008000\">Sting\"],\"restrictions\":\"May not take heavy weapons\",\"special_rules\":[\"Nerves of Steel\",\"Combat </span>\n",
       "<span style=\"color: #008000; text-decoration-color: #008000\">Drugs\"],\"description\":\"Viper is a fierce leader, known for her agility and skilled marksmanship. She leads her gang</span>\n",
       "<span style=\"color: #008000; text-decoration-color: #008000\">with a venomous precision on the battlefield.\"}'</span>,\n",
       "        <span style=\"color: #808000; text-decoration-color: #808000\">name</span>=<span style=\"color: #008000; text-decoration-color: #008000\">'generate_ganger'</span>\n",
       "    <span style=\"font-weight: bold\">)</span>,\n",
       "    <span style=\"color: #808000; text-decoration-color: #808000\">type</span>=<span style=\"color: #008000; text-decoration-color: #008000\">'function'</span>,\n",
       "    <span style=\"color: #808000; text-decoration-color: #808000\">content</span>=<span style=\"color: #008000; text-decoration-color: #008000\">'Function(arguments=\\'{\"faction\": \"House Escher\", \"points\": 250, \"name\": \"Luna\", \"type\": \"Ganger\", </span>\n",
       "<span style=\"color: #008000; text-decoration-color: #008000\">\"stats\": {\"M\": \"6\", \"WS\": \"3+\", \"BS\": \"4+\", \"S\": \"3\", \"T\": \"3\", \"W\": \"1\", \"I\": \"4+\", \"A\": \"1\", \"Ld\": \"7\", \"Cl\": </span>\n",
       "<span style=\"color: #008000; text-decoration-color: #008000\">\"7\", \"Wil\": \"7\", \"Int\": \"7\"}, \"skills\": [\"Agility\", \"Flux\", \"Streetwise\"], \"restrictions\": \"None\", \"special_rules\":</span>\n",
       "<span style=\"color: #008000; text-decoration-color: #008000\">[\"Fast Shot\"], \"description\": \"Luna is a tough, no-nonsense criminal who grew up on the streets of Necromunda. She </span>\n",
       "<span style=\"color: #008000; text-decoration-color: #008000\">has quick reflexes and is not afraid to get her hands dirty.\"}\\', name=\\'generate_ganger\\')'</span>\n",
       "<span style=\"font-weight: bold\">)</span>\n",
       "</pre>\n"
      ],
      "text/plain": [
       "Starting on: \n",
       "\u001b[1;35mChatCompletionMessageToolCall\u001b[0m\u001b[1m(\u001b[0m\n",
       "    \u001b[33mid\u001b[0m=\u001b[32m'call_G0zXF4HyWQWCp6Oy6yuUX71N'\u001b[0m,\n",
       "    \u001b[33mfunction\u001b[0m=\u001b[1;35mFunction\u001b[0m\u001b[1m(\u001b[0m\n",
       "        \u001b[33marguments\u001b[0m=\u001b[32m'\u001b[0m\u001b[32m{\u001b[0m\u001b[32m\"faction\":\"House \u001b[0m\n",
       "\u001b[32mEscher\",\"points\":200,\"name\":\"Viper\",\"type\":\"Leader\",\"stats\":\u001b[0m\u001b[32m{\u001b[0m\u001b[32m\"M\":\"6\",\"WS\":\"3+\",\"BS\":\"3+\",\"S\":\"3\",\"T\":\"3\",\"W\":\"3\",\"I\u001b[0m\n",
       "\u001b[32m\":\"4+\",\"A\":\"2\",\"Ld\":\"8\",\"Cl\":\"7\",\"Wil\":\"8\",\"Int\":\"7+\"\u001b[0m\u001b[32m}\u001b[0m\u001b[32m,\"skills\":\u001b[0m\u001b[32m[\u001b[0m\u001b[32m\"Fast Shot\",\"Step Aside\",\"Courage\",\"Beware My \u001b[0m\n",
       "\u001b[32mSting\"\u001b[0m\u001b[32m]\u001b[0m\u001b[32m,\"restrictions\":\"May not take heavy weapons\",\"special_rules\":\u001b[0m\u001b[32m[\u001b[0m\u001b[32m\"Nerves of Steel\",\"Combat \u001b[0m\n",
       "\u001b[32mDrugs\"\u001b[0m\u001b[32m]\u001b[0m\u001b[32m,\"description\":\"Viper is a fierce leader, known for her agility and skilled marksmanship. She leads her gang\u001b[0m\n",
       "\u001b[32mwith a venomous precision on the battlefield.\"\u001b[0m\u001b[32m}\u001b[0m\u001b[32m'\u001b[0m,\n",
       "        \u001b[33mname\u001b[0m=\u001b[32m'generate_ganger'\u001b[0m\n",
       "    \u001b[1m)\u001b[0m,\n",
       "    \u001b[33mtype\u001b[0m=\u001b[32m'function'\u001b[0m,\n",
       "    \u001b[33mcontent\u001b[0m=\u001b[32m'Function\u001b[0m\u001b[32m(\u001b[0m\u001b[32marguments\u001b[0m\u001b[32m=\\'\u001b[0m\u001b[32m{\u001b[0m\u001b[32m\"faction\": \"House Escher\", \"points\": 250, \"name\": \"Luna\", \"type\": \"Ganger\", \u001b[0m\n",
       "\u001b[32m\"stats\": \u001b[0m\u001b[32m{\u001b[0m\u001b[32m\"M\": \"6\", \"WS\": \"3+\", \"BS\": \"4+\", \"S\": \"3\", \"T\": \"3\", \"W\": \"1\", \"I\": \"4+\", \"A\": \"1\", \"Ld\": \"7\", \"Cl\": \u001b[0m\n",
       "\u001b[32m\"7\", \"Wil\": \"7\", \"Int\": \"7\"\u001b[0m\u001b[32m}\u001b[0m\u001b[32m, \"skills\": \u001b[0m\u001b[32m[\u001b[0m\u001b[32m\"Agility\", \"Flux\", \"Streetwise\"\u001b[0m\u001b[32m]\u001b[0m\u001b[32m, \"restrictions\": \"None\", \"special_rules\":\u001b[0m\n",
       "\u001b[32m[\u001b[0m\u001b[32m\"Fast Shot\"\u001b[0m\u001b[32m]\u001b[0m\u001b[32m, \"description\": \"Luna is a tough, no-nonsense criminal who grew up on the streets of Necromunda. She \u001b[0m\n",
       "\u001b[32mhas quick reflexes and is not afraid to get her hands dirty.\"\u001b[0m\u001b[32m}\u001b[0m\u001b[32m\\', \u001b[0m\u001b[32mname\u001b[0m\u001b[32m=\\'generate_ganger\\'\u001b[0m\u001b[32m)\u001b[0m\u001b[32m'\u001b[0m\n",
       "\u001b[1m)\u001b[0m\n"
      ]
     },
     "metadata": {},
     "output_type": "display_data"
    },
    {
     "data": {
      "text/html": [
       "<pre style=\"white-space:pre;overflow-x:auto;line-height:normal;font-family:Menlo,'DejaVu Sans Mono',consolas,'Courier New',monospace\">Starting tool call\n",
       "</pre>\n"
      ],
      "text/plain": [
       "Starting tool call\n"
      ]
     },
     "metadata": {},
     "output_type": "display_data"
    },
    {
     "data": {
      "text/html": [
       "<pre style=\"white-space:pre;overflow-x:auto;line-height:normal;font-family:Menlo,'DejaVu Sans Mono',consolas,'Courier New',monospace\">Sending Args: \n",
       "<span style=\"font-weight: bold\">{</span>\n",
       "    <span style=\"color: #008000; text-decoration-color: #008000\">'faction'</span>: <span style=\"color: #008000; text-decoration-color: #008000\">'House Escher'</span>,\n",
       "    <span style=\"color: #008000; text-decoration-color: #008000\">'points'</span>: <span style=\"color: #008080; text-decoration-color: #008080; font-weight: bold\">250</span>,\n",
       "    <span style=\"color: #008000; text-decoration-color: #008000\">'name'</span>: <span style=\"color: #008000; text-decoration-color: #008000\">'Luna'</span>,\n",
       "    <span style=\"color: #008000; text-decoration-color: #008000\">'type'</span>: <span style=\"color: #008000; text-decoration-color: #008000\">'Ganger'</span>,\n",
       "    <span style=\"color: #008000; text-decoration-color: #008000\">'stats'</span>: <span style=\"font-weight: bold\">{</span>\n",
       "        <span style=\"color: #008000; text-decoration-color: #008000\">'M'</span>: <span style=\"color: #008000; text-decoration-color: #008000\">'6'</span>,\n",
       "        <span style=\"color: #008000; text-decoration-color: #008000\">'WS'</span>: <span style=\"color: #008000; text-decoration-color: #008000\">'3+'</span>,\n",
       "        <span style=\"color: #008000; text-decoration-color: #008000\">'BS'</span>: <span style=\"color: #008000; text-decoration-color: #008000\">'4+'</span>,\n",
       "        <span style=\"color: #008000; text-decoration-color: #008000\">'S'</span>: <span style=\"color: #008000; text-decoration-color: #008000\">'3'</span>,\n",
       "        <span style=\"color: #008000; text-decoration-color: #008000\">'T'</span>: <span style=\"color: #008000; text-decoration-color: #008000\">'3'</span>,\n",
       "        <span style=\"color: #008000; text-decoration-color: #008000\">'W'</span>: <span style=\"color: #008000; text-decoration-color: #008000\">'1'</span>,\n",
       "        <span style=\"color: #008000; text-decoration-color: #008000\">'I'</span>: <span style=\"color: #008000; text-decoration-color: #008000\">'4+'</span>,\n",
       "        <span style=\"color: #008000; text-decoration-color: #008000\">'A'</span>: <span style=\"color: #008000; text-decoration-color: #008000\">'1'</span>,\n",
       "        <span style=\"color: #008000; text-decoration-color: #008000\">'Ld'</span>: <span style=\"color: #008000; text-decoration-color: #008000\">'7'</span>,\n",
       "        <span style=\"color: #008000; text-decoration-color: #008000\">'Cl'</span>: <span style=\"color: #008000; text-decoration-color: #008000\">'7'</span>,\n",
       "        <span style=\"color: #008000; text-decoration-color: #008000\">'Wil'</span>: <span style=\"color: #008000; text-decoration-color: #008000\">'7'</span>,\n",
       "        <span style=\"color: #008000; text-decoration-color: #008000\">'Int'</span>: <span style=\"color: #008000; text-decoration-color: #008000\">'7'</span>\n",
       "    <span style=\"font-weight: bold\">}</span>,\n",
       "    <span style=\"color: #008000; text-decoration-color: #008000\">'skills'</span>: <span style=\"font-weight: bold\">[</span><span style=\"color: #008000; text-decoration-color: #008000\">'Agility'</span>, <span style=\"color: #008000; text-decoration-color: #008000\">'Flux'</span>, <span style=\"color: #008000; text-decoration-color: #008000\">'Streetwise'</span><span style=\"font-weight: bold\">]</span>,\n",
       "    <span style=\"color: #008000; text-decoration-color: #008000\">'restrictions'</span>: <span style=\"color: #008000; text-decoration-color: #008000\">'None'</span>,\n",
       "    <span style=\"color: #008000; text-decoration-color: #008000\">'special_rules'</span>: <span style=\"font-weight: bold\">[</span><span style=\"color: #008000; text-decoration-color: #008000\">'Fast Shot'</span><span style=\"font-weight: bold\">]</span>,\n",
       "    <span style=\"color: #008000; text-decoration-color: #008000\">'description'</span>: <span style=\"color: #008000; text-decoration-color: #008000\">'Luna is a tough, no-nonsense criminal who grew up on the streets of Necromunda. She has quick </span>\n",
       "<span style=\"color: #008000; text-decoration-color: #008000\">reflexes and is not afraid to get her hands dirty.'</span>\n",
       "<span style=\"font-weight: bold\">}</span>\n",
       "</pre>\n"
      ],
      "text/plain": [
       "Sending Args: \n",
       "\u001b[1m{\u001b[0m\n",
       "    \u001b[32m'faction'\u001b[0m: \u001b[32m'House Escher'\u001b[0m,\n",
       "    \u001b[32m'points'\u001b[0m: \u001b[1;36m250\u001b[0m,\n",
       "    \u001b[32m'name'\u001b[0m: \u001b[32m'Luna'\u001b[0m,\n",
       "    \u001b[32m'type'\u001b[0m: \u001b[32m'Ganger'\u001b[0m,\n",
       "    \u001b[32m'stats'\u001b[0m: \u001b[1m{\u001b[0m\n",
       "        \u001b[32m'M'\u001b[0m: \u001b[32m'6'\u001b[0m,\n",
       "        \u001b[32m'WS'\u001b[0m: \u001b[32m'3+'\u001b[0m,\n",
       "        \u001b[32m'BS'\u001b[0m: \u001b[32m'4+'\u001b[0m,\n",
       "        \u001b[32m'S'\u001b[0m: \u001b[32m'3'\u001b[0m,\n",
       "        \u001b[32m'T'\u001b[0m: \u001b[32m'3'\u001b[0m,\n",
       "        \u001b[32m'W'\u001b[0m: \u001b[32m'1'\u001b[0m,\n",
       "        \u001b[32m'I'\u001b[0m: \u001b[32m'4+'\u001b[0m,\n",
       "        \u001b[32m'A'\u001b[0m: \u001b[32m'1'\u001b[0m,\n",
       "        \u001b[32m'Ld'\u001b[0m: \u001b[32m'7'\u001b[0m,\n",
       "        \u001b[32m'Cl'\u001b[0m: \u001b[32m'7'\u001b[0m,\n",
       "        \u001b[32m'Wil'\u001b[0m: \u001b[32m'7'\u001b[0m,\n",
       "        \u001b[32m'Int'\u001b[0m: \u001b[32m'7'\u001b[0m\n",
       "    \u001b[1m}\u001b[0m,\n",
       "    \u001b[32m'skills'\u001b[0m: \u001b[1m[\u001b[0m\u001b[32m'Agility'\u001b[0m, \u001b[32m'Flux'\u001b[0m, \u001b[32m'Streetwise'\u001b[0m\u001b[1m]\u001b[0m,\n",
       "    \u001b[32m'restrictions'\u001b[0m: \u001b[32m'None'\u001b[0m,\n",
       "    \u001b[32m'special_rules'\u001b[0m: \u001b[1m[\u001b[0m\u001b[32m'Fast Shot'\u001b[0m\u001b[1m]\u001b[0m,\n",
       "    \u001b[32m'description'\u001b[0m: \u001b[32m'Luna is a tough, no-nonsense criminal who grew up on the streets of Necromunda. She has quick \u001b[0m\n",
       "\u001b[32mreflexes and is not afraid to get her hands dirty.'\u001b[0m\n",
       "\u001b[1m}\u001b[0m\n"
      ]
     },
     "metadata": {},
     "output_type": "display_data"
    },
    {
     "data": {
      "text/html": [
       "<pre style=\"white-space:pre;overflow-x:auto;line-height:normal;font-family:Menlo,'DejaVu Sans Mono',consolas,'Courier New',monospace\">Ganger created successfully:\n",
       "<span style=\"color: #800080; text-decoration-color: #800080; font-weight: bold\">Ganger</span><span style=\"font-weight: bold\">(</span>\n",
       "    <span style=\"color: #808000; text-decoration-color: #808000\">faction</span>=<span style=\"font-weight: bold\">&lt;</span><span style=\"color: #ff00ff; text-decoration-color: #ff00ff; font-weight: bold\">GangFaction.ESCHER:</span><span style=\"color: #000000; text-decoration-color: #000000\"> </span><span style=\"color: #008000; text-decoration-color: #008000\">'House Escher'</span><span style=\"font-weight: bold\">&gt;</span>,\n",
       "    <span style=\"color: #808000; text-decoration-color: #808000\">points</span>=<span style=\"color: #008080; text-decoration-color: #008080; font-weight: bold\">250</span>,\n",
       "    <span style=\"color: #808000; text-decoration-color: #808000\">name</span>=<span style=\"color: #008000; text-decoration-color: #008000\">'Luna'</span>,\n",
       "    <span style=\"color: #808000; text-decoration-color: #808000\">type</span>=<span style=\"color: #008000; text-decoration-color: #008000\">'Ganger'</span>,\n",
       "    <span style=\"color: #808000; text-decoration-color: #808000\">stats</span>=<span style=\"color: #800080; text-decoration-color: #800080; font-weight: bold\">Stats</span><span style=\"font-weight: bold\">(</span><span style=\"color: #808000; text-decoration-color: #808000\">M</span>=<span style=\"color: #008000; text-decoration-color: #008000\">'6'</span>, <span style=\"color: #808000; text-decoration-color: #808000\">WS</span>=<span style=\"color: #008000; text-decoration-color: #008000\">'3+'</span>, <span style=\"color: #808000; text-decoration-color: #808000\">BS</span>=<span style=\"color: #008000; text-decoration-color: #008000\">'4+'</span>, <span style=\"color: #808000; text-decoration-color: #808000\">S</span>=<span style=\"color: #008000; text-decoration-color: #008000\">'3'</span>, <span style=\"color: #808000; text-decoration-color: #808000\">T</span>=<span style=\"color: #008000; text-decoration-color: #008000\">'3'</span>, <span style=\"color: #808000; text-decoration-color: #808000\">W</span>=<span style=\"color: #008000; text-decoration-color: #008000\">'1'</span>, <span style=\"color: #808000; text-decoration-color: #808000\">I</span>=<span style=\"color: #008000; text-decoration-color: #008000\">'4+'</span>, <span style=\"color: #808000; text-decoration-color: #808000\">A</span>=<span style=\"color: #008000; text-decoration-color: #008000\">'1'</span>, <span style=\"color: #808000; text-decoration-color: #808000\">Ld</span>=<span style=\"color: #008000; text-decoration-color: #008000\">'7'</span>, <span style=\"color: #808000; text-decoration-color: #808000\">Cl</span>=<span style=\"color: #008000; text-decoration-color: #008000\">'7'</span>, <span style=\"color: #808000; text-decoration-color: #808000\">Wil</span>=<span style=\"color: #008000; text-decoration-color: #008000\">'7'</span>, <span style=\"color: #808000; text-decoration-color: #808000\">Int</span>=<span style=\"color: #008000; text-decoration-color: #008000\">'7'</span><span style=\"font-weight: bold\">)</span>,\n",
       "    <span style=\"color: #808000; text-decoration-color: #808000\">skills</span>=<span style=\"font-weight: bold\">[</span><span style=\"color: #008000; text-decoration-color: #008000\">'Agility'</span>, <span style=\"color: #008000; text-decoration-color: #008000\">'Flux'</span>, <span style=\"color: #008000; text-decoration-color: #008000\">'Streetwise'</span><span style=\"font-weight: bold\">]</span>,\n",
       "    <span style=\"color: #808000; text-decoration-color: #808000\">restrictions</span>=<span style=\"color: #008000; text-decoration-color: #008000\">'None'</span>,\n",
       "    <span style=\"color: #808000; text-decoration-color: #808000\">special_rules</span>=<span style=\"font-weight: bold\">[</span><span style=\"color: #008000; text-decoration-color: #008000\">'Fast Shot'</span><span style=\"font-weight: bold\">]</span>,\n",
       "    <span style=\"color: #808000; text-decoration-color: #808000\">description</span>=<span style=\"color: #008000; text-decoration-color: #008000\">'Luna is a tough, no-nonsense criminal who grew up on the streets of Necromunda. She has quick </span>\n",
       "<span style=\"color: #008000; text-decoration-color: #008000\">reflexes and is not afraid to get her hands dirty.'</span>\n",
       "<span style=\"font-weight: bold\">)</span>\n",
       "</pre>\n"
      ],
      "text/plain": [
       "Ganger created successfully:\n",
       "\u001b[1;35mGanger\u001b[0m\u001b[1m(\u001b[0m\n",
       "    \u001b[33mfaction\u001b[0m=\u001b[1m<\u001b[0m\u001b[1;95mGangFaction.ESCHER:\u001b[0m\u001b[39m \u001b[0m\u001b[32m'House Escher'\u001b[0m\u001b[1m>\u001b[0m,\n",
       "    \u001b[33mpoints\u001b[0m=\u001b[1;36m250\u001b[0m,\n",
       "    \u001b[33mname\u001b[0m=\u001b[32m'Luna'\u001b[0m,\n",
       "    \u001b[33mtype\u001b[0m=\u001b[32m'Ganger'\u001b[0m,\n",
       "    \u001b[33mstats\u001b[0m=\u001b[1;35mStats\u001b[0m\u001b[1m(\u001b[0m\u001b[33mM\u001b[0m=\u001b[32m'6'\u001b[0m, \u001b[33mWS\u001b[0m=\u001b[32m'3+'\u001b[0m, \u001b[33mBS\u001b[0m=\u001b[32m'4+'\u001b[0m, \u001b[33mS\u001b[0m=\u001b[32m'3'\u001b[0m, \u001b[33mT\u001b[0m=\u001b[32m'3'\u001b[0m, \u001b[33mW\u001b[0m=\u001b[32m'1'\u001b[0m, \u001b[33mI\u001b[0m=\u001b[32m'4+'\u001b[0m, \u001b[33mA\u001b[0m=\u001b[32m'1'\u001b[0m, \u001b[33mLd\u001b[0m=\u001b[32m'7'\u001b[0m, \u001b[33mCl\u001b[0m=\u001b[32m'7'\u001b[0m, \u001b[33mWil\u001b[0m=\u001b[32m'7'\u001b[0m, \u001b[33mInt\u001b[0m=\u001b[32m'7'\u001b[0m\u001b[1m)\u001b[0m,\n",
       "    \u001b[33mskills\u001b[0m=\u001b[1m[\u001b[0m\u001b[32m'Agility'\u001b[0m, \u001b[32m'Flux'\u001b[0m, \u001b[32m'Streetwise'\u001b[0m\u001b[1m]\u001b[0m,\n",
       "    \u001b[33mrestrictions\u001b[0m=\u001b[32m'None'\u001b[0m,\n",
       "    \u001b[33mspecial_rules\u001b[0m=\u001b[1m[\u001b[0m\u001b[32m'Fast Shot'\u001b[0m\u001b[1m]\u001b[0m,\n",
       "    \u001b[33mdescription\u001b[0m=\u001b[32m'Luna is a tough, no-nonsense criminal who grew up on the streets of Necromunda. She has quick \u001b[0m\n",
       "\u001b[32mreflexes and is not afraid to get her hands dirty.'\u001b[0m\n",
       "\u001b[1m)\u001b[0m\n"
      ]
     },
     "metadata": {},
     "output_type": "display_data"
    },
    {
     "data": {
      "text/html": [
       "<pre style=\"white-space:pre;overflow-x:auto;line-height:normal;font-family:Menlo,'DejaVu Sans Mono',consolas,'Courier New',monospace\">Object of type GangFaction is not JSON serializable\n",
       "</pre>\n"
      ],
      "text/plain": [
       "Object of type GangFaction is not JSON serializable\n"
      ]
     },
     "metadata": {},
     "output_type": "display_data"
    }
   ],
   "source": [
    "\n",
    "# chat_response = chat_completion_request(\n",
    "#     messages=messages, tools=tools, model='gpt-3.5-turbo-1106'\n",
    "# )\n",
    "if type(chat_response) != openai.BadRequestError:\n",
    "    assistant_message = chat_response.choices[0].message.tool_calls\n",
    "    print(\"Tool Calls: \", assistant_message)\n",
    "    if isinstance(assistant_message, list) and assistant_message:\n",
    "        try:\n",
    "            for item in assistant_message:\n",
    "                print(\"Starting on: \", item)\n",
    "                messages.append({\"role\": \"assistant\", \"content\": \"Using tool to get results\"})\n",
    "                print(\"Starting tool call\")\n",
    "                item.content = str(tool_call.function)\n",
    "                messages.append({\"role\": \"tool\", \"content\": item.content})\n",
    "                function_name = tool_call.function.name\n",
    "                if function_name in function_list:\n",
    "                    function = function_list[function_name]\n",
    "                    function_args = json.loads(tool_call.function.arguments)\n",
    "                    print(\"Sending Args: \", function_args)\n",
    "                    results = function(function_args)\n",
    "                    print(\"Results: \", results)\n",
    "                    messages.append({\"role\": \"function\", \"tool_call_id\": tool_call.id, \"name\": function_name, \"content\": json.dumps(results)})\n",
    "                    print(\"Added results to messages\")\n",
    "                else:\n",
    "                    print(\"Adding error to messages\")\n",
    "                    messages.append({\"role\": \"function\", \"tool_call_id\": tool_call.id, \"name\": function_name, \"content\": json.dumps({\"status\": \"error\", \"message\": \"Function not found in function_list\"})})\n",
    "        except Exception as e:\n",
    "            # Handle the case where 'tool_calls' or 'function' attribute does not exist\n",
    "            print(e)\n",
    "            \n",
    "        try:\n",
    "\n",
    "            if \"choices\" in chat_response and chat_response.choices[0].message.content and chat_response.choices[0].message.role == \"assistant\":\n",
    "                messages.append({\"role\": \"assistant\", \"content\": chat_response.choices[0].message.content})\n",
    "\n",
    "        except Exception as e:\n",
    "            print(e)\n",
    "\n",
    "    #     total_points = 0\n",
    "\n",
    "    #     for message in messages:\n",
    "    #         # Check if 'content' key exists and if it looks like it might contain 'ganger' information\n",
    "    #         if 'content' in message and '\"ganger\":' in message['content']:\n",
    "    #             try:\n",
    "    #                 # Safely parse the JSON content\n",
    "    #                 content_dict = json.loads(message['content'])\n",
    "    #                 # Check if 'ganger' key exists in the parsed content\n",
    "    #                 if 'ganger' in content_dict:\n",
    "    #                     total_points += content_dict['ganger']['points']\n",
    "    #             except json.JSONDecodeError:\n",
    "    #                 # Handle cases where content is not valid JSON\n",
    "    #                 print(\"Found content that is not valid JSON, skipping.\")\n",
    "\n",
    "    #         # Check if the total points meet the requirement\n",
    "    # if total_points >= 1000:\n",
    "    #     print(f\"Requirement met. Total points: {total_points}\")\n",
    "    #     messages.append({\"role\": \"user\", \"content\": f\"Looks like we have {total_points} points now.  Give me a summary and we can continue.\"})\n",
    "    # else:\n",
    "    #     print(f\"Requirement not met. Total points: {total_points}\")\n",
    "    #     messages.append({\"role\": \"user\", \"content\": f\"Only {total_points} points were used. Please continue until you reach 1000.\"})\n",
    "    \n",
    "   \n"
   ]
  },
  {
   "cell_type": "code",
   "execution_count": 145,
   "metadata": {},
   "outputs": [
    {
     "data": {
      "text/html": [
       "\n",
       "  <style>\n",
       "    pre {\n",
       "        white-space: pre-wrap;\n",
       "    }\n",
       "  </style>\n",
       "  "
      ],
      "text/plain": [
       "<IPython.core.display.HTML object>"
      ]
     },
     "metadata": {},
     "output_type": "display_data"
    },
    {
     "data": {
      "text/plain": [
       "{'role': 'user',\n",
       " 'content': 'Please create a gang for the House Escher faction.  The gang should be for 1000 points.  Make sure to create each ganger first and then add them to the gang'}"
      ]
     },
     "execution_count": 145,
     "metadata": {},
     "output_type": "execute_result"
    }
   ],
   "source": [
    "messages.pop()"
   ]
  },
  {
   "cell_type": "code",
   "execution_count": 147,
   "metadata": {},
   "outputs": [
    {
     "data": {
      "text/html": [
       "\n",
       "  <style>\n",
       "    pre {\n",
       "        white-space: pre-wrap;\n",
       "    }\n",
       "  </style>\n",
       "  "
      ],
      "text/plain": [
       "<IPython.core.display.HTML object>"
      ]
     },
     "metadata": {},
     "output_type": "display_data"
    },
    {
     "data": {
      "text/html": [
       "<pre style=\"white-space:pre;overflow-x:auto;line-height:normal;font-family:Menlo,'DejaVu Sans Mono',consolas,'Courier New',monospace\"><span style=\"font-weight: bold\">[</span>\n",
       "    <span style=\"font-weight: bold\">{</span>\n",
       "        <span style=\"color: #008000; text-decoration-color: #008000\">'role'</span>: <span style=\"color: #008000; text-decoration-color: #008000\">'system'</span>,\n",
       "        <span style=\"color: #008000; text-decoration-color: #008000\">'content'</span>: <span style=\"color: #008000; text-decoration-color: #008000\">\"Don't make assumptions about what values to plug into functions. Ask for clarification if a </span>\n",
       "<span style=\"color: #008000; text-decoration-color: #008000\">user request is ambiguous.\"</span>\n",
       "    <span style=\"font-weight: bold\">}</span>\n",
       "<span style=\"font-weight: bold\">]</span>\n",
       "</pre>\n"
      ],
      "text/plain": [
       "\u001b[1m[\u001b[0m\n",
       "    \u001b[1m{\u001b[0m\n",
       "        \u001b[32m'role'\u001b[0m: \u001b[32m'system'\u001b[0m,\n",
       "        \u001b[32m'content'\u001b[0m: \u001b[32m\"Don't make assumptions about what values to plug into functions. Ask for clarification if a \u001b[0m\n",
       "\u001b[32muser request is ambiguous.\"\u001b[0m\n",
       "    \u001b[1m}\u001b[0m\n",
       "\u001b[1m]\u001b[0m\n"
      ]
     },
     "metadata": {},
     "output_type": "display_data"
    }
   ],
   "source": [
    "from rich import print\n",
    "print(messages)"
   ]
  },
  {
   "cell_type": "code",
   "execution_count": null,
   "metadata": {},
   "outputs": [],
   "source": [
    "from rich.console import Console\n",
    "from rich import print, inspect, traceback"
   ]
  },
  {
   "cell_type": "code",
   "execution_count": null,
   "metadata": {},
   "outputs": [],
   "source": [
    "\"\"\"\n",
    "# Example usage\n",
    "assistant_message = chat_response.choices[0].message\n",
    "assistant_message.content = str(assistant_message.tool_calls[0].function)\n",
    "messages.append({\"role\": assistant_message.role, \"content\": assistant_message.content})\n",
    "if assistant_message.tool_calls:\n",
    "    tool_call = assistant_message.tool_calls[0]\n",
    "    function_name = tool_call.function.name\n",
    "    if function_name in function_list:\n",
    "        function = function_list[function_name]\n",
    "        function_args = json.loads(tool_call.function.arguments)\n",
    "        results = function(**function_args)\n",
    "        messages.append({\"role\": \"function\", \"tool_call_id\": tool_call.id, \"name\": function_name, \"content\": results})\n",
    "    else:\n",
    "        messages.append({\"role\": \"function\", \"tool_call_id\": tool_call.id, \"name\": function_name, \"content\": \"Function not found in function_list\"})\n",
    "\"\"\"\n",
    "\n",
    "\n",
    "# pretty_print_conversation(messages)\n",
    "\n",
    "if assistant_message.tool_calls:\n",
    "    tool_call = assistant_message.tool_calls[0]\n",
    "    function_name = tool_call.function.name\n",
    "    if function_name in function_list:\n",
    "        function = function_list[function_name]\n",
    "        # function_args = json.loads(tool_call.function.arguments)\n",
    "        function_args = tool_call.function.arguments\n",
    "        results = function(**function_args)\n",
    "        messages.append({\"role\": \"function\", \"tool_call_id\": tool_call.id, \"name\": function_name, \"content\": results})\n",
    "    else:\n",
    "        messages.append({\"role\": \"function\", \"tool_call_id\": tool_call.id, \"name\": function_name, \"content\": \"Function not found in function_list\"})\n"
   ]
  },
  {
   "cell_type": "code",
   "execution_count": null,
   "metadata": {},
   "outputs": [],
   "source": [
    "messages"
   ]
  },
  {
   "cell_type": "code",
   "execution_count": null,
   "metadata": {},
   "outputs": [],
   "source": []
  },
  {
   "cell_type": "code",
   "execution_count": null,
   "metadata": {},
   "outputs": [],
   "source": [
    "chat_response = chat_completion_request(\n",
    "    messages, tools=tools\n",
    "  )"
   ]
  },
  {
   "cell_type": "code",
   "execution_count": null,
   "metadata": {},
   "outputs": [],
   "source": [
    "chat_response.choices[0].message"
   ]
  },
  {
   "cell_type": "code",
   "execution_count": null,
   "metadata": {},
   "outputs": [],
   "source": [
    "messages.append(chat_response.choices[0].message)"
   ]
  },
  {
   "cell_type": "code",
   "execution_count": null,
   "metadata": {},
   "outputs": [],
   "source": [
    "messages"
   ]
  },
  {
   "cell_type": "code",
   "execution_count": null,
   "metadata": {},
   "outputs": [],
   "source": [
    "messages[-1]['content'] = json.dumps(messages[-1]['content'])"
   ]
  },
  {
   "cell_type": "code",
   "execution_count": null,
   "metadata": {},
   "outputs": [],
   "source": [
    "import json\n",
    "\n",
    "# Assuming the rest of the code and necessary imports are here\n",
    "\n",
    "if len(chat_response.choices[0].message.tool_calls) > 0:\n",
    "    try:\n",
    "        \n",
    "        for tool_call in chat_response.choices[0].message.tool_calls:\n",
    "            tool_call_id = tool_call.id\n",
    "            function_name = tool_call.function.name\n",
    "            if function_name:\n",
    "                function_arguments = tool_call.function.arguments\n",
    "                function_to_call = function_list[function_name]\n",
    "            function_args = json.loads(function_arguments)\n",
    "            try:\n",
    "                function_response = json.dumps(function_to_call(function_args))\n",
    "                assistant_message = {\n",
    "                    \"role\": \"assistant\",\n",
    "                    \"tool_calls\": [{\"id\": tool_call_id, \"function\": function_response, \"type\": \"function\"}],\n",
    "                }\n",
    "                messages.append(assistant_message)\n",
    "                messages.append(\n",
    "                    {\n",
    "                        \"tool_call_id\": tool_call_id,\n",
    "                        \"role\": \"tool\",\n",
    "                        \"name\": function_name,\n",
    "                        \"content\": function_response\n",
    "                    }\n",
    "                )\n",
    "            except Exception as e:\n",
    "                print(e)\n",
    "                function_response = str(e)\n",
    "                assistant_message = {\n",
    "                    \"role\": \"assistant\",\n",
    "                    \"tool_calls\": [{\"id\": tool_call_id, \"function\": function_response, \"type\": \"function\"}],\n",
    "                    \"content\": \"Calling tool functions\"\n",
    "                }\n",
    "                messages.append(\n",
    "                    {\n",
    "                        \"tool_call_id\": tool_call_id,\n",
    "                        \"role\": \"tool\",\n",
    "                        \"name\": function_name,\n",
    "                        \"content\": function_response\n",
    "                    }\n",
    "                )\n",
    "\n",
    "    except Exception as e:\n",
    "        print(e)\n",
    "        assistant_message = {\n",
    "            \"role\": \"assistant\",\n",
    "            \"tool_calls\": [chat_response.choices[0].message.tool_calls],\n",
    "            \"content\": \"An error occurred while processing tool calls\"\n",
    "        }"
   ]
  },
  {
   "cell_type": "code",
   "execution_count": null,
   "metadata": {},
   "outputs": [],
   "source": []
  },
  {
   "cell_type": "code",
   "execution_count": null,
   "metadata": {},
   "outputs": [],
   "source": []
  },
  {
   "cell_type": "code",
   "execution_count": null,
   "metadata": {},
   "outputs": [],
   "source": []
  },
  {
   "cell_type": "code",
   "execution_count": null,
   "metadata": {},
   "outputs": [],
   "source": []
  }
 ],
 "metadata": {
  "kernelspec": {
   "display_name": "Python 3",
   "language": "python",
   "name": "python3"
  },
  "language_info": {
   "codemirror_mode": {
    "name": "ipython",
    "version": 3
   },
   "file_extension": ".py",
   "mimetype": "text/x-python",
   "name": "python",
   "nbconvert_exporter": "python",
   "pygments_lexer": "ipython3",
   "version": "3.11.1"
  }
 },
 "nbformat": 4,
 "nbformat_minor": 2
}
