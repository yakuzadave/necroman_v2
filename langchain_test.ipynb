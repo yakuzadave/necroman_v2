{
 "cells": [
  {
   "cell_type": "markdown",
   "metadata": {},
   "source": [
    "# Langchain Testing Notebook\n",
    "In order to get back up to speed with Langchain and all of its components, I'm going to be writing a series of notebooks that will test the functionality of each component. This notebook will test the functionality of using Langchain with our Necromunda dataset and see if we can get it to simulate a match"
   ]
  },
  {
   "cell_type": "markdown",
   "metadata": {},
   "source": [
    "## Imports and Config"
   ]
  },
  {
   "cell_type": "code",
   "execution_count": 97,
   "metadata": {},
   "outputs": [],
   "source": [
    "from langchain_openai import ChatOpenAI, OpenAI, OpenAIEmbeddings\n",
    "import openai\n",
    "from langchain.adapters import openai as lc_openai\n",
    "from dotenv import load_dotenv\n",
    "import os\n",
    "\n",
    "load_dotenv()\n",
    "\n",
    "openai.api_key = os.getenv(\"OPENAI_API_KEY\")\n",
    "TAVILY_API_KEY = os.getenv(\"TAVILY_API_KEY\")\n",
    "from langchain.indexes import index\n",
    "from langchain.indexes.base import RecordManager\n",
    "from langchain.indexes.vectorstore import VectorStoreIndexWrapper\n",
    "\n",
    "from langchain import hub\n",
    "from langchain.agents import create_openai_functions_agent, load_huggingface_tool, load_tools\n",
    "from langchain_openai.chat_models import ChatOpenAI\n",
    "from langchain_community.tools.tavily_search import TavilySearchResults\n",
    "import os \n",
    "\n",
    "TavilySearchResults.tavily_api_key = TAVILY_API_KEY\n",
    "\n",
    "import yaml\n",
    "from langchain.agents import create_json_agent\n",
    "from langchain_community.agent_toolkits import JsonToolkit\n",
    "from langchain_community.tools.json.tool import JsonSpec\n",
    "\n",
    "from langchain import hub\n",
    "from langchain.agents import AgentExecutor\n",
    "from langchain_experimental.tools import PythonREPLTool\n",
    "\n",
    "\n",
    "from langchain.prompts import FewShotPromptTemplate, PromptTemplate\n",
    "from langchain_core.pydantic_v1 import BaseModel\n",
    "from langchain_experimental.tabular_synthetic_data.openai import (\n",
    "    OPENAI_TEMPLATE,\n",
    "    create_openai_data_generator,\n",
    ")\n",
    "from langchain_experimental.tabular_synthetic_data.prompts import (\n",
    "    SYNTHETIC_FEW_SHOT_PREFIX,\n",
    "    SYNTHETIC_FEW_SHOT_SUFFIX,\n",
    ")\n",
    "from langchain_openai import ChatOpenAI\n",
    "\n",
    "from langchain.schema import HumanMessage, SystemMessage\n",
    "python_tool = [PythonREPLTool()]\n",
    "\n",
    "requests_tools = load_tools([\"requests_all\"])\n",
    "from langchain_community.utilities import TextRequestsWrapper\n",
    "\n",
    "requests = TextRequestsWrapper()\n",
    "\n",
    "from langchain.agents import AgentType, initialize_agent, load_tools\n",
    "from langchain_openai import ChatOpenAI, OpenAI\n"
   ]
  },
  {
   "cell_type": "markdown",
   "metadata": {},
   "source": [
    "## Necromunda Schemas"
   ]
  },
  {
   "cell_type": "code",
   "execution_count": 98,
   "metadata": {},
   "outputs": [],
   "source": [
    "weapon_schema = {\n",
    "    \"properties\": {\n",
    "        \"name\": {\"type\": \"string\"},\n",
    "        \"type\": {\"type\": \"string\"},\n",
    "        \"damage\": {\"type\": \"integer\"},\n",
    "        \"range\": {\"type\": \"integer\"},\n",
    "        \"ammo\": {\"type\": \"integer\"},\n",
    "        \"special_ability\": {\"type\": \"string\"},\n",
    "    },\n",
    "    \"required\": [\"name\", \"type\", \"damage\", \"range\", \"ammo\"],\n",
    "}\n",
    "\n",
    "ganger_schema = {\n",
    "    \"properties\": {\n",
    "        \"name\": {\"type\": \"string\"},\n",
    "        \"points\": {\"type\": \"integer\"},\n",
    "        \"faction\": {\"type\": \"string\"},\n",
    "        \"weapons\": {\"type\": \"arrau\", \"items\": {\"type\": \"string\"}},\n",
    "        \"armor\": {\"type\": \"string\"},\n",
    "        \"skills\": {\"type\": \"array\", \"items\": {\"type\": \"string\"}},\n",
    "    },\n",
    "    \"required\": [\"name\", \"height\", \"gang\", \"weapon\", \"armor\"],\n",
    "}\n",
    "gang_schema = {\n",
    "    \"properties\": {\n",
    "        \"name\": {\"type\": \"string\"},\n",
    "        \"leader\": {\"type\": \"string\"},\n",
    "        \"territory\": {\"type\": \"string\"},\n",
    "        \"members\": {\n",
    "            \"type\": \"array\",\n",
    "            \"items\": {\n",
    "                \"type\": \"object\",\n",
    "                \"properties\": {\n",
    "                    \"name\": {\"type\": \"string\"},\n",
    "                    \"height\": {\"type\": \"integer\"},\n",
    "                    \"hair_color\": {\"type\": \"string\"},\n",
    "                    \"weapon\": {\"type\": \"string\"},\n",
    "                    \"armor\": {\"type\": \"string\"},\n",
    "                    \"skills\": {\"type\": \"array\", \"items\": {\"type\": \"string\"}},\n",
    "                },\n",
    "                \"required\": [\"name\", \"height\", \"weapon\", \"armor\"],\n",
    "            },\n",
    "        },\n",
    "    },\n",
    "    \"required\": [\"name\", \"leader\", \"territory\", \"members\"],\n",
    "}"
   ]
  },
  {
   "cell_type": "code",
   "execution_count": 99,
   "metadata": {},
   "outputs": [],
   "source": [
    "chat = ChatOpenAI()"
   ]
  },
  {
   "cell_type": "code",
   "execution_count": 2,
   "metadata": {},
   "outputs": [
    {
     "name": "stdout",
     "output_type": "stream",
     "text": [
      "Note: you may need to restart the kernel to use updated packages.Collecting d20\n",
      "  Using cached d20-1.1.2-py3-none-any.whl (20 kB)\n",
      "Requirement already satisfied: cachetools>=3.1.0 in c:\\users\\dcarm\\appdata\\local\\programs\\python\\python311\\lib\\site-packages (from d20) (5.3.2)\n",
      "Collecting lark-parser~=0.9.0\n",
      "  Using cached lark-parser-0.9.0.tar.gz (298 kB)\n",
      "  Preparing metadata (setup.py): started\n",
      "  Preparing metadata (setup.py): finished with status 'done'\n",
      "Building wheels for collected packages: lark-parser\n",
      "  Building wheel for lark-parser (setup.py): started\n",
      "  Building wheel for lark-parser (setup.py): finished with status 'done'\n",
      "  Created wheel for lark-parser: filename=lark_parser-0.9.0-py2.py3-none-any.whl size=77202 sha256=43725cf5156e4221a9865cd96773857f031590496e442aaee10426384a8e5527\n",
      "  Stored in directory: c:\\users\\dcarm\\appdata\\local\\pip\\cache\\wheels\\72\\b3\\c7\\0482ee4f592faa0b1941cf06346e0e683856812a1c7daa2e9b\n",
      "Successfully built lark-parser\n",
      "Installing collected packages: lark-parser, d20\n",
      "Successfully installed d20-1.1.2 lark-parser-0.9.0\n",
      "\n"
     ]
    },
    {
     "name": "stderr",
     "output_type": "stream",
     "text": [
      "\n",
      "[notice] A new release of pip is available: 23.0 -> 23.3.2\n",
      "[notice] To update, run: python.exe -m pip install --upgrade pip\n"
     ]
    }
   ],
   "source": [
    "%pip install d20"
   ]
  },
  {
   "cell_type": "code",
   "execution_count": 4,
   "metadata": {},
   "outputs": [],
   "source": [
    "import d20\n",
    "\n",
    "# basic dice rolling function\n",
    "def roll_dice(num_dice, dice_type):\n",
    "    rolls = d20.roll(f\"{num_dice}d{dice_type}\")\n",
    "    return rolls.total\n",
    "\n",
    "# roll for necromunda attacks\n",
    "def roll_attack(num_dice, dice_type, hit_roll, wound_roll, armor_save):\n",
    "    hits = 0\n",
    "    for i in range(num_dice):\n",
    "        roll = roll_dice(1, dice_type)\n",
    "        if roll >= hit_roll:\n",
    "            wound = roll_dice(1, dice_type)\n",
    "            if wound >= wound_roll:\n",
    "                armor = roll_dice(1, dice_type)\n",
    "                if armor < armor_save:\n",
    "                    hits += 1\n",
    "    return hits\n",
    "\n",
    "# roll for necromunda injuries\n",
    "def roll_injury(num_dice, dice_type, injury_roll):\n",
    "    injuries = 0\n",
    "    for i in range(num_dice):\n",
    "        roll = roll_dice(1, dice_type)\n",
    "        if roll >= injury_roll:\n",
    "            injuries += 1\n",
    "    return injuries\n",
    "\n",
    "\n"
   ]
  },
  {
   "cell_type": "code",
   "execution_count": 100,
   "metadata": {},
   "outputs": [
    {
     "name": "stderr",
     "output_type": "stream",
     "text": [
      "c:\\Users\\dcarm\\AppData\\Local\\Programs\\Python\\Python311\\Lib\\site-packages\\langchain_core\\_api\\deprecation.py:117: LangChainDeprecationWarning: The function `__call__` was deprecated in LangChain 0.1.7 and will be removed in 0.2.0. Use invoke instead.\n",
      "  warn_deprecated(\n"
     ]
    },
    {
     "data": {
      "text/plain": [
       "AIMessage(content='Sure! Here\\'s a suggested 1000 point Necromunda gang for the Cawdor faction:\\n\\nLeader:\\n- Name: Lazarus the Zealot\\n- Cost: 180 points\\n- Type: Heavy\\n- Movement: 4\"\\n- Weapon: Heavy Crossbow (18\", S4, AP-1, D1)\\n- Equipment: Flak Armor, Smoke Grenades, Melta Bomb\\n- Abilities: Overseer, Leader, Fanatical Devotion\\n\\nChampion 1:\\n- Name: Ezekiel the Purifier\\n- Cost: 160 points\\n- Type: Ganger\\n- Movement: 4\"\\n- Weapon: Heavy Flamer (Template, S5, AP-1, D1)\\n- Equipment: Flak Armor, Smoke Grenades, Frag Grenades\\n- Abilities: Overseer, Nerves of Steel\\n\\nChampion 2:\\n- Name: Miriam the Redeemer\\n- Cost: 150 points\\n- Type: Ganger\\n- Movement: 4\"\\n- Weapon: Heavy Stubber (36\", S4, AP0, D1)\\n- Equipment: Flak Armor, Smoke Grenades, Frag Grenades\\n- Abilities: Overseer, Step Aside\\n\\nGanger 1:\\n- Name: Samuel the Penitent\\n- Cost: 100 points\\n- Type: Ganger\\n- Movement: 4\"\\n- Weapon: Autogun (24\", S3, AP0, D1)\\n- Equipment: Flak Armor, Smoke Grenades\\n- Abilities: Overseer\\n\\nGanger 2:\\n- Name: Rachel the Zealot\\n- Cost: 90 points\\n- Type: Ganger\\n- Movement: 4\"\\n- Weapon: Autogun (24\", S3, AP0, D1)\\n- Equipment: Flak Armor, Smoke Grenades\\n- Abilities: Overseer\\n\\nGanger 3:\\n- Name: Tobias the Penitent\\n- Cost: 90 points\\n- Type: Ganger\\n- Movement: 4\"\\n- Weapon: Autogun (24\", S3, AP0, D1)\\n- Equipment: Flak Armor, Smoke Grenades\\n- Abilities: Overseer\\n\\nJuve:\\n- Name: Esther the Acolyte\\n- Cost: 70 points\\n- Type: Juve\\n- Movement: 4\"\\n- Weapon: Stub Gun (12\", S3, AP0, D1)\\n- Equipment: Flak Armor, Smoke Grenades\\n- Abilities: Overseer\\n\\nJuve:\\n- Name: Micah the Acolyte\\n- Cost: 70 points\\n- Type: Juve\\n- Movement: 4\"\\n- Weapon: Stub Gun (12\", S3, AP0, D1)\\n- Equipment: Flak Armor, Smoke Grenades\\n- Abilities: Overseer\\n\\nTotal Points: 1000\\n\\nNote: This is just a suggested gang loadout and you can customize it further according to your preferences.')"
      ]
     },
     "execution_count": 100,
     "metadata": {},
     "output_type": "execute_result"
    }
   ],
   "source": [
    "messages = chat(\n",
    "    [\n",
    "        HumanMessage(\n",
    "            content=\"I would like to create a 1000 point Necromunda gang using 1000 points for the Cawdor faction.  Make sure to include stats and equipment for each member.\"\n",
    "        )\n",
    "    ]\n",
    ")"
   ]
  },
  {
   "cell_type": "code",
   "execution_count": 86,
   "metadata": {},
   "outputs": [],
   "source": []
  },
  {
   "cell_type": "code",
   "execution_count": null,
   "metadata": {},
   "outputs": [],
   "source": [
    "\n",
    "\n",
    "\n",
    "llm = ChatOpenAI(temperature=0.0)\n",
    "math_llm = OpenAI(temperature=0.0)\n",
    "tools = load_tools(\n",
    "    [\"human\", \"llm-math\"],\n",
    "    llm=math_llm,\n",
    ")\n",
    "\n",
    "agent_chain = initialize_agent(\n",
    "    tools,\n",
    "    llm,\n",
    "    agent=AgentType.ZERO_SHOT_REACT_DESCRIPTION,\n",
    "    verbose=True,\n",
    ")"
   ]
  },
  {
   "cell_type": "code",
   "execution_count": 88,
   "metadata": {},
   "outputs": [
    {
     "data": {
      "text/plain": [
       "'<!doctype html>\\n<html lang=\"en\" dir=\"ltr\" class=\"docs-wrapper plugin-docs plugin-id-default docs-version-current docs-doc-page docs-doc-id-gangs/gang-lists/palanite-enforcers/palanite-enforcers\" data-has-hydrated=\"false\">\\n<head>\\n<meta charset=\"UTF-8\">\\n<meta name=\"generator\" content=\"Docusaurus v3.0.1\">\\n<title data-rh=\"true\">Palanite Enforcers | Necro-vox</title><meta data-rh=\"true\" name=\"viewport\" content=\"width=device-width,initial-scale=1\"><meta data-rh=\"true\" name=\"twitter:card\" content=\"summary_large_image\"><meta data-rh=\"true\" property=\"og:url\" content=\"https://necrovox.org/docs/gangs/gang-lists/palanite-enforcers/\"><meta data-rh=\"true\" property=\"og:locale\" content=\"en\"><meta data-rh=\"true\" name=\"docusaurus_locale\" content=\"en\"><meta data-rh=\"true\" name=\"docsearch:language\" content=\"en\"><meta data-rh=\"true\" name=\"author\" content=\"servo_scribe\"><meta data-rh=\"true\" name=\"docusaurus_version\" content=\"current\"><meta data-rh=\"true\" name=\"docusaurus_tag\" content=\"docs-default-current\"><meta data-rh=\"true\" name=\"docsearch:version\" content=\"current\"><meta data-rh=\"true\" name=\"docsearch:docusaurus_tag\" content=\"docs-default-current\"><meta data-rh=\"true\" property=\"og:title\" content=\"Palanite Enforcers | Necro-vox\"><meta data-rh=\"true\" name=\"description\" content=\"Necromunda endures by the grace of the God-Emperor and His inexhaustible armies, but beneath the world’s toxic storm clouds it falls to the agents of the Imperial House to maintain the peace and enforce the law. When one must govern a populace of billions, all crammed into the close confines of ancient cities and eking out their lives on recycled food while they toil endlessly at their tasks, kind words and even-handed rules are not enough. Only a boot stamping down on the throat of the ungrateful and malcontent will do; the fear of sudden and brutal reprisal keeping millions of desperate souls in line. This monumental responsibility of maintaining order among the hellish confines of the hives falls to the Palanite Enforcers.\"><meta data-rh=\"true\" property=\"og:description\" content=\"Necromunda endures by the grace of the God-Emperor and His inexhaustible armies, but beneath the world’s toxic storm clouds it falls to the agents of the Imperial House to maintain the peace and enforce the law. When one must govern a populace of billions, all crammed into the close confines of ancient cities and eking out their lives on recycled food while they toil endlessly at their tasks, kind words and even-handed rules are not enough. Only a boot stamping down on the throat of the ungrateful and malcontent will do; the fear of sudden and brutal reprisal keeping millions of desperate souls in line. This monumental responsibility of maintaining order among the hellish confines of the hives falls to the Palanite Enforcers.\"><link data-rh=\"true\" rel=\"icon\" href=\"/img/favicon.png\"><link data-rh=\"true\" rel=\"canonical\" href=\"https://necrovox.org/docs/gangs/gang-lists/palanite-enforcers/\"><link data-rh=\"true\" rel=\"alternate\" href=\"https://necrovox.org/docs/gangs/gang-lists/palanite-enforcers/\" hreflang=\"en\"><link data-rh=\"true\" rel=\"alternate\" href=\"https://necrovox.org/docs/gangs/gang-lists/palanite-enforcers/\" hreflang=\"x-default\"><link rel=\"alternate\" type=\"application/rss+xml\" href=\"/blog/rss.xml\" title=\"Necro-vox RSS Feed\">\\n<link rel=\"alternate\" type=\"application/atom+xml\" href=\"/blog/atom.xml\" title=\"Necro-vox Atom Feed\">\\n\\n<link rel=\"preconnect\" href=\"https://www.google-analytics.com\">\\n<link rel=\"preconnect\" href=\"https://www.googletagmanager.com\">\\n<script async src=\"https://www.googletagmanager.com/gtag/js?id=G-QH7EXWN213\"></script>\\n<script>function gtag(){dataLayer.push(arguments)}window.dataLayer=window.dataLayer||[],gtag(\"js\",new Date),gtag(\"config\",\"G-QH7EXWN213\",{anonymize_ip:!0})</script>\\n\\n\\n<link rel=\"icon\" href=\"/img/logo.svg\">\\n<link rel=\"manifest\" href=\"/manifest.json\">\\n<meta name=\"theme-color\" content=\"#ed6f1b\">\\n<meta name=\"apple-mobile-web-app-capable\" content=\"yes\">\\n<meta name=\"apple-mobile-web-app-status-bar-style\" content=\"#1b1b1d\">\\n<link rel=\"apple-touch-icon\" href=\"/img/logo.svg\">\\n<link rel=\"mask-icon\" href=\"/img/logo.svg\" color=\"#ed6f1b\">\\n<meta name=\"msapplication-TileImage\" content=\"/img/logo.svg\">\\n<meta name=\"msapplication-TileColor\" content=\"#1b1b1d\"><link rel=\"stylesheet\" href=\"/assets/css/styles.2a353b3c.css\">\\n<script src=\"/assets/js/runtime~main.1a66d17e.js\" defer=\"defer\"></script>\\n<script src=\"/assets/js/main.f562d30b.js\" defer=\"defer\"></script>\\n</head>\\n<body class=\"navigation-with-keyboard\">\\n<script>!function(){function t(t){document.documentElement.setAttribute(\"data-theme\",t)}var e=function(){try{return new URLSearchParams(window.location.search).get(\"docusaurus-theme\")}catch(t){}}()||function(){try{return localStorage.getItem(\"theme\")}catch(t){}}();t(null!==e?e:\"dark\")}(),function(){try{const c=new URLSearchParams(window.location.search).entries();for(var[t,e]of c)if(t.startsWith(\"docusaurus-data-\")){var a=t.replace(\"docusaurus-data-\",\"data-\");document.documentElement.setAttribute(a,e)}}catch(t){}}()</script><div id=\"__docusaurus\"><div role=\"region\" aria-label=\"Skip to main content\"><a class=\"skipToContent_fXgn\" href=\"#__docusaurus_skipToContent_fallback\">Skip to main content</a></div><nav aria-label=\"Main\" class=\"navbar navbar--fixed-top\"><div class=\"navbar__inner\"><div class=\"navbar__items\"><button aria-label=\"Toggle navigation bar\" aria-expanded=\"false\" class=\"navbar__toggle clean-btn\" type=\"button\"><svg width=\"30\" height=\"30\" viewBox=\"0 0 30 30\" aria-hidden=\"true\"><path stroke=\"currentColor\" stroke-linecap=\"round\" stroke-miterlimit=\"10\" stroke-width=\"2\" d=\"M4 7h22M4 15h22M4 23h22\"></path></svg></button><a class=\"navbar__brand\" href=\"/\"><div class=\"navbar__logo\"><img src=\"/img/logo.svg\" alt=\"My Site Logo\" class=\"themedComponent_mlkZ themedComponent--light_NVdE\"><img src=\"/img/logo.svg\" alt=\"My Site Logo\" class=\"themedComponent_mlkZ themedComponent--dark_xIcU\"></div><b class=\"navbar__title text--truncate\">Necro-vox</b></a><a class=\"navbar__item navbar__link\" href=\"/docs/intro\">Rules</a><div class=\"navbar__item dropdown dropdown--hoverable\"><a href=\"#\" aria-haspopup=\"true\" aria-expanded=\"false\" role=\"button\" class=\"navbar__link\">Gangs</a><ul class=\"dropdown__menu\"><li><a aria-current=\"page\" class=\"dropdown__link dropdown__link--active\" href=\"/docs/gangs/gang-lists/\">Gang Lists</a></li><li><a class=\"dropdown__link\" href=\"/docs/gangs/gang-additions/hangers-on-and-brutes/hangers-on\">Hangers-on</a></li><li><a class=\"dropdown__link\" href=\"/docs/gangs/gang-additions/hangers-on-and-brutes/brutes\">Brutes</a></li><li><a class=\"dropdown__link\" href=\"/docs/gangs/gang-additions/vehicles/\">Vehicles</a></li><li><a class=\"dropdown__link\" href=\"/docs/gangs/gang-additions/hired-guns/\">Hired Guns</a></li><li><a class=\"dropdown__link\" href=\"/docs/gangs/gang-additions/alliances/\">Alliances</a></li></ul></div><div class=\"navbar__item dropdown dropdown--hoverable\"><a href=\"#\" aria-haspopup=\"true\" aria-expanded=\"false\" role=\"button\" class=\"navbar__link\">Trading Post</a><ul class=\"dropdown__menu\"><li><a class=\"dropdown__link\" href=\"/docs/armoury/basic-weapons\">Basic Weapons</a></li><li><a class=\"dropdown__link\" href=\"/docs/armoury/pistols\">Pistols</a></li><li><a class=\"dropdown__link\" href=\"/docs/armoury/special-weapons\">Special Weapons</a></li><li><a class=\"dropdown__link\" href=\"/docs/armoury/heavy-weapons\">Heavy Weapons</a></li><li><a class=\"dropdown__link\" href=\"/docs/armoury/close-combat\">Close Combat Weapons</a></li><li><a class=\"dropdown__link\" href=\"/docs/armoury/grenades\">Grenades</a></li><li><a class=\"dropdown__link\" href=\"/docs/armoury/armour\">Armour</a></li><li><a class=\"dropdown__link\" href=\"/docs/armoury/personal-equipment\">Personal Equipment</a></li><li><a class=\"dropdown__link\" href=\"/docs/armoury/bionics\">Bionics</a></li><li><a class=\"dropdown__link\" href=\"/docs/armoury/chems\">Chems</a></li></ul></div><div class=\"navbar__item dropdown dropdown--hoverable\"><a href=\"#\" aria-haspopup=\"true\" aria-expanded=\"false\" role=\"button\" class=\"navbar__link\">Campaigns</a><ul class=\"dropdown__menu\"><li><a class=\"dropdown__link\" href=\"/docs/the-rules/the-post-battle-sequence\">Post-Battle Sequence</a></li><li><a class=\"dropdown__link\" href=\"/docs/the-rules/gaining-experience\">Gaining Experience</a></li><li><a class=\"dropdown__link\" href=\"/docs/category/the-dominion-campaign\">The Dominion Campaign</a></li><li><a class=\"dropdown__link\" href=\"/docs/category/arbitrator-tools\">Arbitrator Tools</a></li></ul></div><a class=\"navbar__item navbar__link\" href=\"/docs/scenarios/scenario-list/\">Scenarios</a><a class=\"navbar__item navbar__link\" href=\"/tactics\">Tactics Cards</a></div><div class=\"navbar__items navbar__items--right\"><a class=\"navbar__item navbar__link\" href=\"/blog\">Updates</a><div class=\"toggle_vylO colorModeToggle_DEke\"><button class=\"clean-btn toggleButton_gllP toggleButtonDisabled_aARS\" type=\"button\" disabled=\"\" title=\"Switch between dark and light mode (currently dark mode)\" aria-label=\"Switch between dark and light mode (currently dark mode)\" aria-live=\"polite\"><svg viewBox=\"0 0 24 24\" width=\"24\" height=\"24\" class=\"lightToggleIcon_pyhR\"><path fill=\"currentColor\" d=\"M12,9c1.65,0,3,1.35,3,3s-1.35,3-3,3s-3-1.35-3-3S10.35,9,12,9 M12,7c-2.76,0-5,2.24-5,5s2.24,5,5,5s5-2.24,5-5 S14.76,7,12,7L12,7z M2,13l2,0c0.55,0,1-0.45,1-1s-0.45-1-1-1l-2,0c-0.55,0-1,0.45-1,1S1.45,13,2,13z M20,13l2,0c0.55,0,1-0.45,1-1 s-0.45-1-1-1l-2,0c-0.55,0-1,0.45-1,1S19.45,13,20,13z M11,2v2c0,0.55,0.45,1,1,1s1-0.45,1-1V2c0-0.55-0.45-1-1-1S11,1.45,11,2z M11,20v2c0,0.55,0.45,1,1,1s1-0.45,1-1v-2c0-0.55-0.45-1-1-1C11.45,19,11,19.45,11,20z M5.99,4.58c-0.39-0.39-1.03-0.39-1.41,0 c-0.39,0.39-0.39,1.03,0,1.41l1.06,1.06c0.39,0.39,1.03,0.39,1.41,0s0.39-1.03,0-1.41L5.99,4.58z M18.36,16.95 c-0.39-0.39-1.03-0.39-1.41,0c-0.39,0.39-0.39,1.03,0,1.41l1.06,1.06c0.39,0.39,1.03,0.39,1.41,0c0.39-0.39,0.39-1.03,0-1.41 L18.36,16.95z M19.42,5.99c0.39-0.39,0.39-1.03,0-1.41c-0.39-0.39-1.03-0.39-1.41,0l-1.06,1.06c-0.39,0.39-0.39,1.03,0,1.41 s1.03,0.39,1.41,0L19.42,5.99z M7.05,18.36c0.39-0.39,0.39-1.03,0-1.41c-0.39-0.39-1.03-0.39-1.41,0l-1.06,1.06 c-0.39,0.39-0.39,1.03,0,1.41s1.03,0.39,1.41,0L7.05,18.36z\"></path></svg><svg viewBox=\"0 0 24 24\" width=\"24\" height=\"24\" class=\"darkToggleIcon_wfgR\"><path fill=\"currentColor\" d=\"M9.37,5.51C9.19,6.15,9.1,6.82,9.1,7.5c0,4.08,3.32,7.4,7.4,7.4c0.68,0,1.35-0.09,1.99-0.27C17.45,17.19,14.93,19,12,19 c-3.86,0-7-3.14-7-7C5,9.07,6.81,6.55,9.37,5.51z M12,3c-4.97,0-9,4.03-9,9s4.03,9,9,9s9-4.03,9-9c0-0.46-0.04-0.92-0.1-1.36 c-0.98,1.37-2.58,2.26-4.4,2.26c-2.98,0-5.4-2.42-5.4-5.4c0-1.81,0.89-3.42,2.26-4.4C12.92,3.04,12.46,3,12,3L12,3z\"></path></svg></button></div><div class=\"navbarSearchContainer_Bca1\"><div class=\"navbar__search searchBarContainer_NW3z\"><input placeholder=\"Search\" aria-label=\"Search\" class=\"navbar__search-input\"><div class=\"loadingRing_RJI3 searchBarLoadingRing_YnHq\"><div></div><div></div><div></div><div></div></div></div></div></div></div><div role=\"presentation\" class=\"navbar-sidebar__backdrop\"></div></nav><div id=\"__docusaurus_skipToContent_fallback\" class=\"main-wrapper mainWrapper_z2l0\"><div class=\"docsWrapper_hBAB\"><button aria-label=\"Scroll back to top\" class=\"clean-btn theme-back-to-top-button backToTopButton_sjWU\" type=\"button\"></button><div class=\"docRoot_UBD9\"><aside class=\"theme-doc-sidebar-container docSidebarContainer_YfHR\"><div class=\"sidebarViewport_aRkj\"><div class=\"sidebar_njMd\"><nav aria-label=\"Docs sidebar\" class=\"menu thin-scrollbar menu_SIkG\"><ul class=\"theme-doc-sidebar-menu menu__list\"><li class=\"theme-doc-sidebar-item-link theme-doc-sidebar-item-link-level-1 menu__list-item\"><a class=\"menu__link\" href=\"/docs/intro\">Introduction</a></li><li class=\"theme-doc-sidebar-item-link theme-doc-sidebar-item-link-level-1 menu__list-item\"><a class=\"menu__link\" href=\"/docs/weapons-of-gang-war/\">Weapons of (Gang) War</a></li><li class=\"theme-doc-sidebar-item-category theme-doc-sidebar-item-category-level-1 menu__list-item menu__list-item--collapsed\"><div class=\"menu__list-item-collapsible\"><a class=\"menu__link menu__link--sublist\" aria-expanded=\"false\" href=\"/docs/category/gang-fighters--their-weaponry\">Gang Fighters &amp; Their Weaponry</a><button aria-label=\"Expand sidebar category &#x27;Gang Fighters &amp; Their Weaponry&#x27;\" type=\"button\" class=\"clean-btn menu__caret\"></button></div></li><li class=\"theme-doc-sidebar-item-category theme-doc-sidebar-item-category-level-1 menu__list-item menu__list-item--collapsed\"><div class=\"menu__list-item-collapsible\"><a class=\"menu__link menu__link--sublist\" aria-expanded=\"false\" href=\"/docs/category/general-principles\">General Principles</a><button aria-label=\"Expand sidebar category &#x27;General Principles&#x27;\" type=\"button\" class=\"clean-btn menu__caret\"></button></div></li><li class=\"theme-doc-sidebar-item-category theme-doc-sidebar-item-category-level-1 menu__list-item menu__list-item--collapsed\"><div class=\"menu__list-item-collapsible\"><a class=\"menu__link menu__link--sublist\" aria-expanded=\"false\" href=\"/docs/category/founding-a-gang\">Founding a Gang</a><button aria-label=\"Expand sidebar category &#x27;Founding a Gang&#x27;\" type=\"button\" class=\"clean-btn menu__caret\"></button></div></li><li class=\"theme-doc-sidebar-item-category theme-doc-sidebar-item-category-level-1 menu__list-item menu__list-item--collapsed\"><div class=\"menu__list-item-collapsible\"><a class=\"menu__link menu__link--sublist\" aria-expanded=\"false\" href=\"/docs/category/the-rules\">The Rules</a><button aria-label=\"Expand sidebar category &#x27;The Rules&#x27;\" type=\"button\" class=\"clean-btn menu__caret\"></button></div></li><li class=\"theme-doc-sidebar-item-category theme-doc-sidebar-item-category-level-1 menu__list-item\"><div class=\"menu__list-item-collapsible\"><a class=\"menu__link menu__link--sublist menu__link--active\" aria-expanded=\"true\" href=\"/docs/gangs/\">Gangs</a><button aria-label=\"Collapse sidebar category &#x27;Gangs&#x27;\" type=\"button\" class=\"clean-btn menu__caret\"></button></div><ul style=\"display:block;overflow:visible;height:auto\" class=\"menu__list\"><li class=\"theme-doc-sidebar-item-category theme-doc-sidebar-item-category-level-2 menu__list-item\"><div class=\"menu__list-item-collapsible\"><a class=\"menu__link menu__link--sublist menu__link--active\" aria-expanded=\"true\" tabindex=\"0\" href=\"/docs/gangs/gang-lists/\">Gang Lists</a><button aria-label=\"Collapse sidebar category &#x27;Gang Lists&#x27;\" type=\"button\" class=\"clean-btn menu__caret\"></button></div><ul style=\"display:block;overflow:visible;height:auto\" class=\"menu__list\"><li class=\"theme-doc-sidebar-item-category theme-doc-sidebar-item-category-level-3 menu__list-item menu__list-item--collapsed\"><div class=\"menu__list-item-collapsible\"><a class=\"menu__link menu__link--sublist\" aria-expanded=\"false\" tabindex=\"0\" href=\"/docs/gangs/gang-lists/house-cawdor/\">House Cawdor</a><button aria-label=\"Expand sidebar category &#x27;House Cawdor&#x27;\" type=\"button\" class=\"clean-btn menu__caret\"></button></div></li><li class=\"theme-doc-sidebar-item-category theme-doc-sidebar-item-category-level-3 menu__list-item menu__list-item--collapsed\"><div class=\"menu__list-item-collapsible\"><a class=\"menu__link menu__link--sublist\" aria-expanded=\"false\" tabindex=\"0\" href=\"/docs/gangs/gang-lists/house-delaque/\">House Delaque</a><button aria-label=\"Expand sidebar category &#x27;House Delaque&#x27;\" type=\"button\" class=\"clean-btn menu__caret\"></button></div></li><li class=\"theme-doc-sidebar-item-category theme-doc-sidebar-item-category-level-3 menu__list-item menu__list-item--collapsed\"><div class=\"menu__list-item-collapsible\"><a class=\"menu__link menu__link--sublist\" aria-expanded=\"false\" tabindex=\"0\" href=\"/docs/gangs/gang-lists/house-escher/\">House Escher</a><button aria-label=\"Expand sidebar category &#x27;House Escher&#x27;\" type=\"button\" class=\"clean-btn menu__caret\"></button></div></li><li class=\"theme-doc-sidebar-item-category theme-doc-sidebar-item-category-level-3 menu__list-item menu__list-item--collapsed\"><div class=\"menu__list-item-collapsible\"><a class=\"menu__link menu__link--sublist\" aria-expanded=\"false\" tabindex=\"0\" href=\"/docs/gangs/gang-lists/house-goliath/\">House Goliath</a><button aria-label=\"Expand sidebar category &#x27;House Goliath&#x27;\" type=\"button\" class=\"clean-btn menu__caret\"></button></div></li><li class=\"theme-doc-sidebar-item-category theme-doc-sidebar-item-category-level-3 menu__list-item menu__list-item--collapsed\"><div class=\"menu__list-item-collapsible\"><a class=\"menu__link menu__link--sublist\" aria-expanded=\"false\" tabindex=\"0\" href=\"/docs/gangs/gang-lists/house-orlock/\">House Orlock</a><button aria-label=\"Expand sidebar category &#x27;House Orlock&#x27;\" type=\"button\" class=\"clean-btn menu__caret\"></button></div></li><li class=\"theme-doc-sidebar-item-category theme-doc-sidebar-item-category-level-3 menu__list-item menu__list-item--collapsed\"><div class=\"menu__list-item-collapsible\"><a class=\"menu__link menu__link--sublist\" aria-expanded=\"false\" tabindex=\"0\" href=\"/docs/gangs/gang-lists/house-van-saar/\">House Van Saar</a><button aria-label=\"Expand sidebar category &#x27;House Van Saar&#x27;\" type=\"button\" class=\"clean-btn menu__caret\"></button></div></li><li class=\"theme-doc-sidebar-item-link theme-doc-sidebar-item-link-level-3 menu__list-item\"><a class=\"menu__link\" tabindex=\"0\" href=\"/docs/gangs/gang-lists/venators\">Venators (Bounty Hunters)</a></li><li class=\"theme-doc-sidebar-item-category theme-doc-sidebar-item-category-level-3 menu__list-item\"><div class=\"menu__list-item-collapsible menu__list-item-collapsible--active\"><a class=\"menu__link menu__link--sublist menu__link--active\" aria-current=\"page\" aria-expanded=\"true\" tabindex=\"0\" href=\"/docs/gangs/gang-lists/palanite-enforcers/\">Palanite Enforcers</a><button aria-label=\"Collapse sidebar category &#x27;Palanite Enforcers&#x27;\" type=\"button\" class=\"clean-btn menu__caret\"></button></div><ul style=\"display:block;overflow:visible;height:auto\" class=\"menu__list\"><li class=\"theme-doc-sidebar-item-link theme-doc-sidebar-item-link-level-4 menu__list-item\"><a class=\"menu__link\" tabindex=\"0\" href=\"/docs/gangs/gang-lists/palanite-enforcers/equipment-list\">Palanite Enforcers Equipment List</a></li></ul></li><li class=\"theme-doc-sidebar-item-category theme-doc-sidebar-item-category-level-3 menu__list-item menu__list-item--collapsed\"><div class=\"menu__list-item-collapsible\"><a class=\"menu__link menu__link--sublist\" aria-expanded=\"false\" tabindex=\"0\" href=\"/docs/gangs/gang-lists/badzone-enforcers/\">Badzone Enforcers</a><button aria-label=\"Expand sidebar category &#x27;Badzone Enforcers&#x27;\" type=\"button\" class=\"clean-btn menu__caret\"></button></div></li><li class=\"theme-doc-sidebar-item-category theme-doc-sidebar-item-category-level-3 menu__list-item menu__list-item--collapsed\"><div class=\"menu__list-item-collapsible\"><a class=\"menu__link menu__link--sublist\" aria-expanded=\"false\" tabindex=\"0\" href=\"/docs/gangs/gang-lists/genestealer-cult/\">Genestealer Cult</a><button aria-label=\"Expand sidebar category &#x27;Genestealer Cult&#x27;\" type=\"button\" class=\"clean-btn menu__caret\"></button></div></li><li class=\"theme-doc-sidebar-item-category theme-doc-sidebar-item-category-level-3 menu__list-item menu__list-item--collapsed\"><div class=\"menu__list-item-collapsible\"><a class=\"menu__link menu__link--sublist\" aria-expanded=\"false\" tabindex=\"0\" href=\"/docs/gangs/gang-lists/helot-chaos-cult/\">Helot Chaos Cult</a><button aria-label=\"Expand sidebar category &#x27;Helot Chaos Cult&#x27;\" type=\"button\" class=\"clean-btn menu__caret\"></button></div></li><li class=\"theme-doc-sidebar-item-category theme-doc-sidebar-item-category-level-3 menu__list-item menu__list-item--collapsed\"><div class=\"menu__list-item-collapsible\"><a class=\"menu__link menu__link--sublist\" aria-expanded=\"false\" tabindex=\"0\" href=\"/docs/gangs/gang-lists/corpse-grinder-cult/\">Corpse Grinder Cult</a><button aria-label=\"Expand sidebar category &#x27;Corpse Grinder Cult&#x27;\" type=\"button\" class=\"clean-btn menu__caret\"></button></div></li><li class=\"theme-doc-sidebar-item-category theme-doc-sidebar-item-category-level-3 menu__list-item menu__list-item--collapsed\"><div class=\"menu__list-item-collapsible\"><a class=\"menu__link menu__link--sublist\" aria-expanded=\"false\" tabindex=\"0\" href=\"/docs/gangs/gang-lists/slave-ogryns/\">Slave Ogryns</a><button aria-label=\"Expand sidebar category &#x27;Slave Ogryns&#x27;\" type=\"button\" class=\"clean-btn menu__caret\"></button></div></li><li class=\"theme-doc-sidebar-item-category theme-doc-sidebar-item-category-level-3 menu__list-item menu__list-item--collapsed\"><div class=\"menu__list-item-collapsible\"><a class=\"menu__link menu__link--sublist\" aria-expanded=\"false\" tabindex=\"0\" href=\"/docs/gangs/gang-lists/outcasts/\">Outcasts</a><button aria-label=\"Expand sidebar category &#x27;Outcasts&#x27;\" type=\"button\" class=\"clean-btn menu__caret\"></button></div></li><li class=\"theme-doc-sidebar-item-category theme-doc-sidebar-item-category-level-3 menu__list-item menu__list-item--collapsed\"><div class=\"menu__list-item-collapsible\"><a class=\"menu__link menu__link--sublist\" aria-expanded=\"false\" tabindex=\"0\" href=\"/docs/gangs/gang-lists/ash-wastes-nomads/\">Ash Wastes Nomads</a><button aria-label=\"Expand sidebar category &#x27;Ash Wastes Nomads&#x27;\" type=\"button\" class=\"clean-btn menu__caret\"></button></div></li><li class=\"theme-doc-sidebar-item-category theme-doc-sidebar-item-category-level-3 menu__list-item menu__list-item--collapsed\"><div class=\"menu__list-item-collapsible\"><a class=\"menu__link menu__link--sublist\" aria-expanded=\"false\" tabindex=\"0\" href=\"/docs/gangs/gang-lists/squats/\">Ironhead Squat Prospectors</a><button aria-label=\"Expand sidebar category &#x27;Ironhead Squat Prospectors&#x27;\" type=\"button\" class=\"clean-btn menu__caret\"></button></div></li></ul></li><li class=\"theme-doc-sidebar-item-category theme-doc-sidebar-item-category-level-2 menu__list-item menu__list-item--collapsed\"><div class=\"menu__list-item-collapsible\"><a class=\"menu__link menu__link--sublist\" aria-expanded=\"false\" tabindex=\"0\" href=\"/docs/gangs/gang-additions/\">Gang Additions</a><button aria-label=\"Expand sidebar category &#x27;Gang Additions&#x27;\" type=\"button\" class=\"clean-btn menu__caret\"></button></div></li><li class=\"theme-doc-sidebar-item-link theme-doc-sidebar-item-link-level-2 menu__list-item\"><a class=\"menu__link\" tabindex=\"0\" href=\"/docs/gangs/chaos-special-rules\">Chaos Special Rules</a></li><li class=\"theme-doc-sidebar-item-link theme-doc-sidebar-item-link-level-2 menu__list-item\"><a class=\"menu__link\" tabindex=\"0\" href=\"/docs/gangs/embracing-the-dark-gods\">Embracing The Dark Gods</a></li><li class=\"theme-doc-sidebar-item-link theme-doc-sidebar-item-link-level-2 menu__list-item\"><a class=\"menu__link\" tabindex=\"0\" href=\"/docs/gangs/joining-a-genestealer-cult\">Joining A Genestealer Cult</a></li></ul></li><li class=\"theme-doc-sidebar-item-category theme-doc-sidebar-item-category-level-1 menu__list-item menu__list-item--collapsed\"><div class=\"menu__list-item-collapsible\"><a class=\"menu__link menu__link--sublist\" aria-expanded=\"false\" href=\"/docs/category/campaigns\">Campaigns</a><button aria-label=\"Expand sidebar category &#x27;Campaigns&#x27;\" type=\"button\" class=\"clean-btn menu__caret\"></button></div></li><li class=\"theme-doc-sidebar-item-category theme-doc-sidebar-item-category-level-1 menu__list-item menu__list-item--collapsed\"><div class=\"menu__list-item-collapsible\"><a class=\"menu__link menu__link--sublist\" aria-expanded=\"false\" href=\"/docs/category/battlefield-set-up\">Battlefield Set-up</a><button aria-label=\"Expand sidebar category &#x27;Battlefield Set-up&#x27;\" type=\"button\" class=\"clean-btn menu__caret\"></button></div></li><li class=\"theme-doc-sidebar-item-category theme-doc-sidebar-item-category-level-1 menu__list-item menu__list-item--collapsed\"><div class=\"menu__list-item-collapsible\"><a class=\"menu__link menu__link--sublist\" aria-expanded=\"false\" href=\"/docs/category/scenarios\">Scenarios</a><button aria-label=\"Expand sidebar category &#x27;Scenarios&#x27;\" type=\"button\" class=\"clean-btn menu__caret\"></button></div></li><li class=\"theme-doc-sidebar-item-category theme-doc-sidebar-item-category-level-1 menu__list-item menu__list-item--collapsed\"><div class=\"menu__list-item-collapsible\"><a class=\"menu__link menu__link--sublist\" aria-expanded=\"false\" href=\"/docs/category/arbitrator-tools\">Arbitrator Tools</a><button aria-label=\"Expand sidebar category &#x27;Arbitrator Tools&#x27;\" type=\"button\" class=\"clean-btn menu__caret\"></button></div></li><li class=\"theme-doc-sidebar-item-category theme-doc-sidebar-item-category-level-1 menu__list-item menu__list-item--collapsed\"><div class=\"menu__list-item-collapsible\"><a class=\"menu__link menu__link--sublist\" aria-expanded=\"false\" href=\"/docs/armoury/\">Armoury &amp; Trading Post</a><button aria-label=\"Expand sidebar category &#x27;Armoury &amp; Trading Post&#x27;\" type=\"button\" class=\"clean-btn menu__caret\"></button></div></li><li class=\"theme-doc-sidebar-item-category theme-doc-sidebar-item-category-level-1 menu__list-item menu__list-item--collapsed\"><div class=\"menu__list-item-collapsible\"><a class=\"menu__link menu__link--sublist\" aria-expanded=\"false\" href=\"/docs/category/miscellaneous-lore\">Miscellaneous Lore</a><button aria-label=\"Expand sidebar category &#x27;Miscellaneous Lore&#x27;\" type=\"button\" class=\"clean-btn menu__caret\"></button></div></li><li class=\"theme-doc-sidebar-item-link theme-doc-sidebar-item-link-level-1 menu__list-item\"><a class=\"menu__link\" href=\"/docs/publication-index/\">List of Publications</a></li><li class=\"theme-doc-sidebar-item-link theme-doc-sidebar-item-link-level-1 menu__list-item\"><a class=\"menu__link\" href=\"/docs/rules-revision/\">Rules Revision</a></li></ul></nav><button type=\"button\" title=\"Collapse sidebar\" aria-label=\"Collapse sidebar\" class=\"button button--secondary button--outline collapseSidebarButton_PEFL\"><svg width=\"20\" height=\"20\" aria-hidden=\"true\" class=\"collapseSidebarButtonIcon_kv0_\"><g fill=\"#7a7a7a\"><path d=\"M9.992 10.023c0 .2-.062.399-.172.547l-4.996 7.492a.982.982 0 01-.828.454H1c-.55 0-1-.453-1-1 0-.2.059-.403.168-.551l4.629-6.942L.168 3.078A.939.939 0 010 2.528c0-.548.45-.997 1-.997h2.996c.352 0 .649.18.828.45L9.82 9.472c.11.148.172.347.172.55zm0 0\"></path><path d=\"M19.98 10.023c0 .2-.058.399-.168.547l-4.996 7.492a.987.987 0 01-.828.454h-3c-.547 0-.996-.453-.996-1 0-.2.059-.403.168-.551l4.625-6.942-4.625-6.945a.939.939 0 01-.168-.55 1 1 0 01.996-.997h3c.348 0 .649.18.828.45l4.996 7.492c.11.148.168.347.168.55zm0 0\"></path></g></svg></button></div></div></aside><main class=\"docMainContainer_TBSr\"><div class=\"container padding-top--md padding-bottom--lg\"><div class=\"row\"><div class=\"col docItemCol_VOVn\"><div class=\"docItemContainer_Djhp\"><article><nav class=\"theme-doc-breadcrumbs breadcrumbsContainer_Z_bl\" aria-label=\"Breadcrumbs\"><ul class=\"breadcrumbs\" itemscope=\"\" itemtype=\"https://schema.org/BreadcrumbList\"><li class=\"breadcrumbs__item\"><a aria-label=\"Home page\" class=\"breadcrumbs__link\" href=\"/\"><svg viewBox=\"0 0 24 24\" class=\"breadcrumbHomeIcon_YNFT\"><path d=\"M10 19v-5h4v5c0 .55.45 1 1 1h3c.55 0 1-.45 1-1v-7h1.7c.46 0 .68-.57.33-.87L12.67 3.6c-.38-.34-.96-.34-1.34 0l-8.36 7.53c-.34.3-.13.87.33.87H5v7c0 .55.45 1 1 1h3c.55 0 1-.45 1-1z\" fill=\"currentColor\"></path></svg></a></li><li itemscope=\"\" itemprop=\"itemListElement\" itemtype=\"https://schema.org/ListItem\" class=\"breadcrumbs__item\"><a class=\"breadcrumbs__link\" itemprop=\"item\" href=\"/docs/gangs/\"><span itemprop=\"name\">Gangs</span></a><meta itemprop=\"position\" content=\"1\"></li><li itemscope=\"\" itemprop=\"itemListElement\" itemtype=\"https://schema.org/ListItem\" class=\"breadcrumbs__item\"><a class=\"breadcrumbs__link\" itemprop=\"item\" href=\"/docs/gangs/gang-lists/\"><span itemprop=\"name\">Gang Lists</span></a><meta itemprop=\"position\" content=\"2\"></li><li itemscope=\"\" itemprop=\"itemListElement\" itemtype=\"https://schema.org/ListItem\" class=\"breadcrumbs__item breadcrumbs__item--active\"><span class=\"breadcrumbs__link\" itemprop=\"name\">Palanite Enforcers</span><meta itemprop=\"position\" content=\"3\"></li></ul></nav><div class=\"tocCollapsible_ETCw theme-doc-toc-mobile tocMobile_ITEo\"><button type=\"button\" class=\"clean-btn tocCollapsibleButton_TO0P\">On this page</button></div><div class=\"theme-doc-markdown markdown\"><h1>Palanite Enforcers</h1>\\n<p><em>Necromunda endures by the grace of the God-Emperor and His inexhaustible armies, but beneath the world’s toxic storm clouds it falls to the agents of the Imperial House to maintain the peace and enforce the law. When one must govern a populace of billions, all crammed into the close confines of ancient cities and eking out their lives on recycled food while they toil endlessly at their tasks, kind words and even-handed rules are not enough. Only a boot stamping down on the throat of the ungrateful and malcontent will do; the fear of sudden and brutal reprisal keeping millions of desperate souls in line. This monumental responsibility of maintaining order among the hellish confines of the hives falls to the Palanite Enforcers.</em></p>\\n<p><em>More akin to an army than a police force, the Enforcers trade in violence and control, purging settlements and habzones if even the faintest hint of sedition against Lord Helmwar’s rule is uncovered. All manner of crime is met with a swift and vicious response, for those that transgress against the Imperial House must be brought to justice before they can corrupt others with their recidivist dogma. Such brutality is born not of a cruelty among the Palanite Enforcers or the sadistic will of Lord Helmawr himself, but rather as a simple necessity. The Enforcers are always significantly outnumberedby the people they are meant to control, a thin line of shotguns and shock batons keeping billions of hivers under their yoke.</em></p>\\n<h2 class=\"anchor anchorWithStickyNavbar_LWe7\" id=\"gang-composition\">Gang Composition<a href=\"#gang-composition\" class=\"hash-link\" aria-label=\"Direct link to Gang Composition\" title=\"Direct link to Gang Composition\">\\u200b</a></h2>\\n<p>Enforcers follow <a href=\"/docs/founding-a-gang/gang-creation\">normal rules</a> with the following exceptions:</p>\\n<ul>\\n<li>New gangs must have at least 2 Gangers of the same type as the Leader (Palatine or Subjugator).</li>\\n<li>Otherwise, the gang can consist of any mix of Palanite &amp; Subjugator fighters.</li>\\n<li>Must have at least 1 Ganger for each Leader and Champion in the gang.</li>\\n<li>All fighters can have multiple equipment sets.</li>\\n<li>Gangers must become Specialists to gain skills (as normal).</li>\\n</ul>\\n<h2 class=\"anchor anchorWithStickyNavbar_LWe7\" id=\"special-rules\">Special Rules<a href=\"#special-rules\" class=\"hash-link\" aria-label=\"Direct link to Special Rules\" title=\"Direct link to Special Rules\">\\u200b</a></h2>\\n<p>Follow normal rules as other gangs with the following exceptions:</p>\\n<ul>\\n<li>All fighters (except Juves) can carry any weapon types (no weapon type restrictions).</li>\\n<li>Fighters cannot be upgraded to Subjugator after recruitment.</li>\\n<li>Cannot hold territories in Dominion campaigns. See <a href=\"#palanite-enforcers-in-dominion-campaigns\">Palanite Enforcers in Dominion Campaigns</a>.</li>\\n</ul>\\n<div class=\"theme-admonition theme-admonition-danger admonition_xJq3 alert alert--danger\"><div class=\"admonitionHeading_Gvgb\"><span class=\"admonitionIcon_Rf37\"><svg viewBox=\"0 0 12 16\"><path fill-rule=\"evenodd\" d=\"M5.05.31c.81 2.17.41 3.38-.52 4.31C3.55 5.67 1.98 6.45.9 7.98c-1.45 2.05-1.7 6.53 3.53 7.7-2.2-1.16-2.67-4.52-.3-6.61-.61 2.03.53 3.33 1.94 2.86 1.39-.47 2.3.53 2.27 1.67-.02.78-.31 1.44-1.13 1.81 3.42-.59 4.78-3.42 4.78-5.56 0-2.84-2.53-3.22-1.25-5.61-1.52.13-2.03 1.13-1.89 2.75.09 1.08-1.02 1.8-1.86 1.33-.67-.41-.66-1.19-.06-1.78C8.18 5.31 8.68 2.45 5.05.32L5.03.3l.02.01z\"></path></svg></span>House Rule (A&amp;A)</div><div class=\"admonitionContent_BuS1\"><p>Dominion Campaign: Enforcers can gain boons from territories like other gangs</p></div></div>\\n<h2 class=\"anchor anchorWithStickyNavbar_LWe7\" id=\"fighters\">Fighters<a href=\"#fighters\" class=\"hash-link\" aria-label=\"Direct link to Fighters\" title=\"Direct link to Fighters\">\\u200b</a></h2>\\n<div class=\"fighterCard_eWx_\"><div class=\"cost_vIwd\"><span class=\"number_XdbT\">140</span> <span>credits</span></div><h3 class=\"anchor anchorWithStickyNavbar_LWe7\" id=\"captain-leader\">Captain (Leader)<a href=\"#captain-leader\" class=\"hash-link\" aria-label=\"Direct link to Captain (Leader)\" title=\"Direct link to Captain (Leader)\">\\u200b</a></h3><table><thead><tr><th style=\"text-align:center\">M</th><th style=\"text-align:center\">WS</th><th style=\"text-align:center\">BS</th><th style=\"text-align:center\">S</th><th style=\"text-align:center\">T</th><th style=\"text-align:center\">W</th><th style=\"text-align:center\">I</th><th style=\"text-align:center\">A</th><th style=\"text-align:center\">Ld</th><th style=\"text-align:center\">Cl</th><th style=\"text-align:center\">Wil</th><th style=\"text-align:center\">Int</th></tr></thead><tbody><tr><td style=\"text-align:center\">5”</td><td style=\"text-align:center\">3+</td><td style=\"text-align:center\">4+</td><td style=\"text-align:center\">3</td><td style=\"text-align:center\">3</td><td style=\"text-align:center\">2</td><td style=\"text-align:center\">4+</td><td style=\"text-align:center\">2</td><td style=\"text-align:center\">4+</td><td style=\"text-align:center\">6+</td><td style=\"text-align:center\">5+</td><td style=\"text-align:center\">6+</td></tr></tbody></table><p><strong>Skills:</strong> 1 Primary (custom).<br>\\n<strong>Wargear:</strong> Stub gun, flak armour, magnacles, armoured undersuit.<br>\\n<strong>Restrictions:</strong> None, except Subjugator Equipment.</p><h4 class=\"anchor anchorWithStickyNavbar_LWe7\" id=\"subjugator-upgrade\">Subjugator Upgrade<a href=\"#subjugator-upgrade\" class=\"hash-link\" aria-label=\"Direct link to Subjugator Upgrade\" title=\"Direct link to Subjugator Upgrade\">\\u200b</a></h4><p><strong>Cost:</strong> 10</p><ul>\\n<li>Replace flak with layered flak.</li>\\n<li>Gain access to Subjugator Equipment (instead of Palanite Equipment).</li>\\n</ul></div>\\n<div class=\"fighterCard_eWx_\"><div class=\"cost_vIwd\"><span class=\"number_XdbT\">100</span> <span>credits</span></div><h3 class=\"anchor anchorWithStickyNavbar_LWe7\" id=\"sergeant-champion\">Sergeant (Champion)<a href=\"#sergeant-champion\" class=\"hash-link\" aria-label=\"Direct link to Sergeant (Champion)\" title=\"Direct link to Sergeant (Champion)\">\\u200b</a></h3><table><thead><tr><th style=\"text-align:center\">M</th><th style=\"text-align:center\">WS</th><th style=\"text-align:center\">BS</th><th style=\"text-align:center\">S</th><th style=\"text-align:center\">T</th><th style=\"text-align:center\">W</th><th style=\"text-align:center\">I</th><th style=\"text-align:center\">A</th><th style=\"text-align:center\">Ld</th><th style=\"text-align:center\">Cl</th><th style=\"text-align:center\">Wil</th><th style=\"text-align:center\">Int</th></tr></thead><tbody><tr><td style=\"text-align:center\">5”</td><td style=\"text-align:center\">4+</td><td style=\"text-align:center\">4+</td><td style=\"text-align:center\">3</td><td style=\"text-align:center\">3</td><td style=\"text-align:center\">2</td><td style=\"text-align:center\">4+</td><td style=\"text-align:center\">1</td><td style=\"text-align:center\">5+</td><td style=\"text-align:center\">6+</td><td style=\"text-align:center\">6+</td><td style=\"text-align:center\">7+</td></tr></tbody></table><p><strong>Skills:</strong> 1 Primary (custom).<br>\\n<strong>Wargear:</strong> Stub gun, flak armour, magnacles, armoured undersuit.<br>\\n<strong>Restrictions:</strong> None, except Subjugator Equipment.</p><h4 class=\"anchor anchorWithStickyNavbar_LWe7\" id=\"subjugator-upgrade-1\">Subjugator Upgrade<a href=\"#subjugator-upgrade-1\" class=\"hash-link\" aria-label=\"Direct link to Subjugator Upgrade\" title=\"Direct link to Subjugator Upgrade\">\\u200b</a></h4><p><strong>Cost:</strong> 10</p><ul>\\n<li>Replace flak with layered flak.</li>\\n<li>Gain access to Subjugator Equipment (instead of Palanite Equipment).</li>\\n</ul></div>\\n<div class=\"fighterCard_eWx_\"><div class=\"cost_vIwd\"><span class=\"number_XdbT\">70</span> <span>credits</span></div><h3 class=\"anchor anchorWithStickyNavbar_LWe7\" id=\"patrolman-ganger\">Patrolman (Ganger)<a href=\"#patrolman-ganger\" class=\"hash-link\" aria-label=\"Direct link to Patrolman (Ganger)\" title=\"Direct link to Patrolman (Ganger)\">\\u200b</a></h3><table><thead><tr><th style=\"text-align:center\">M</th><th style=\"text-align:center\">WS</th><th style=\"text-align:center\">BS</th><th style=\"text-align:center\">S</th><th style=\"text-align:center\">T</th><th style=\"text-align:center\">W</th><th style=\"text-align:center\">I</th><th style=\"text-align:center\">A</th><th style=\"text-align:center\">Ld</th><th style=\"text-align:center\">Cl</th><th style=\"text-align:center\">Wil</th><th style=\"text-align:center\">Int</th></tr></thead><tbody><tr><td style=\"text-align:center\">5”</td><td style=\"text-align:center\">4+</td><td style=\"text-align:center\">4+</td><td style=\"text-align:center\">3</td><td style=\"text-align:center\">3</td><td style=\"text-align:center\">1</td><td style=\"text-align:center\">4+</td><td style=\"text-align:center\">1</td><td style=\"text-align:center\">7+</td><td style=\"text-align:center\">7+</td><td style=\"text-align:center\">7+</td><td style=\"text-align:center\">7+</td></tr></tbody></table><p><strong>Wargear:</strong> Stub gun, flak armour, magnacles, armoured undersuit.<br>\\n<strong>Restrictions:</strong> None, except Subjugator Equipment.</p><h4 class=\"anchor anchorWithStickyNavbar_LWe7\" id=\"subjugator-upgrade-2\">Subjugator Upgrade<a href=\"#subjugator-upgrade-2\" class=\"hash-link\" aria-label=\"Direct link to Subjugator Upgrade\" title=\"Direct link to Subjugator Upgrade\">\\u200b</a></h4><p><strong>Cost:</strong> 10</p><ul>\\n<li>Replace flak with layered flak.</li>\\n<li>Gain access to Subjugator Equipment (instead of Palanite Equipment).</li>\\n</ul></div>\\n<div class=\"fighterCard_eWx_\"><div class=\"cost_vIwd\"><span class=\"number_XdbT\">0*</span> <span>credits</span></div><h3 class=\"anchor anchorWithStickyNavbar_LWe7\" id=\"rookie-juve\">Rookie (Juve)<a href=\"#rookie-juve\" class=\"hash-link\" aria-label=\"Direct link to Rookie (Juve)\" title=\"Direct link to Rookie (Juve)\">\\u200b</a></h3><table><thead><tr><th style=\"text-align:center\">M</th><th style=\"text-align:center\">WS</th><th style=\"text-align:center\">BS</th><th style=\"text-align:center\">S</th><th style=\"text-align:center\">T</th><th style=\"text-align:center\">W</th><th style=\"text-align:center\">I</th><th style=\"text-align:center\">A</th><th style=\"text-align:center\">Ld</th><th style=\"text-align:center\">Cl</th><th style=\"text-align:center\">Wil</th><th style=\"text-align:center\">Int</th></tr></thead><tbody><tr><td style=\"text-align:center\">5”</td><td style=\"text-align:center\">5+</td><td style=\"text-align:center\">5+</td><td style=\"text-align:center\">3</td><td style=\"text-align:center\">3</td><td style=\"text-align:center\">1</td><td style=\"text-align:center\">4+</td><td style=\"text-align:center\">1</td><td style=\"text-align:center\">8+</td><td style=\"text-align:center\">8+</td><td style=\"text-align:center\">8+</td><td style=\"text-align:center\">8+</td></tr></tbody></table><p><strong>Wargear:</strong> Stub gun, flak armour, magnacles, armoured undersuit.<br>\\n<strong>Restrictions:</strong> Pistols, Basic and Close Combat, except Subjugator Equipment.</p><h4 class=\"anchor anchorWithStickyNavbar_LWe7\" id=\"fresh-from-the-academy\">*Fresh From the Academy<a href=\"#fresh-from-the-academy\" class=\"hash-link\" aria-label=\"Direct link to *Fresh From the Academy\" title=\"Direct link to *Fresh From the Academy\">\\u200b</a></h4><p>When an Enforcer is dead or retired, a single Rookie may be recruited for free in the post-battle sequence.</p><p>Rookies can&#x27;t be purchased, they only replace dead/retired fighters.</p></div>\\n<div class=\"fighterCard_eWx_\"><div class=\"cost_vIwd\"><span class=\"number_XdbT\">30</span> <span>credits</span></div><h3 class=\"anchor anchorWithStickyNavbar_LWe7\" id=\"palanite-ranger-crew\">Palanite Ranger (Crew)<a href=\"#palanite-ranger-crew\" class=\"hash-link\" aria-label=\"Direct link to Palanite Ranger (Crew)\" title=\"Direct link to Palanite Ranger (Crew)\">\\u200b</a></h3><table><thead><tr><th>BS</th><th>Ld</th><th>Cl</th><th>Wil</th><th>Int</th></tr></thead><tbody><tr><td>4+</td><td>7+</td><td>7+</td><td>7+</td><td>7+</td></tr></tbody></table><h4 class=\"anchor anchorWithStickyNavbar_LWe7\" id=\"palanite-specialist\">Palanite Specialist<a href=\"#palanite-specialist\" class=\"hash-link\" aria-label=\"Direct link to Palanite Specialist\" title=\"Direct link to Palanite Specialist\">\\u200b</a></h4><p>The total number of Gangers and Crew in a Palanite Enforcers gang must always be equal to, or higher than, the total number of other fighters (Leaders and Champions) in the gang, not counting Hangers-on or Rookies.</p><h4 class=\"anchor anchorWithStickyNavbar_LWe7\" id=\"vehicle-crew\">Vehicle Crew<a href=\"#vehicle-crew\" class=\"hash-link\" aria-label=\"Direct link to Vehicle Crew\" title=\"Direct link to Vehicle Crew\">\\u200b</a></h4><p>A Palanite Ranger must always be equipped with a vehicle.</p><h4 class=\"anchor anchorWithStickyNavbar_LWe7\" id=\"equipment\">Equipment<a href=\"#equipment\" class=\"hash-link\" aria-label=\"Direct link to Equipment\" title=\"Direct link to Equipment\">\\u200b</a></h4><p>A Palanite Ranger must be equipped with a vehicle and they may purchase Wargear and weapons from the\\r\\nPalanite Ranger equipment list.</p><ul>\\n<li>During the course of a campaign, a Palanite Ranger may be given additional Wargear from this list and the Trading Post.</li>\\n<li>During the course of a campaign, a Palanite Ranger may be given additional weapons from this list and the Pistols section of the Trading Post.</li>\\n<li>A Palanite Ranger may be given a replacement vehicle from either this list or the Trading Post, in which case their existing vehicle (if present) is placed into the gang’s Stash.</li>\\n</ul><p><em>Source: The Aranthian Succession: Ruins of Jardlan</em></p></div>\\n<div class=\"fighterCard_eWx_ undefined\"><div class=\"cost_vIwd\"><span class=\"number_XdbT\">130</span> <span>credits</span></div><h3 class=\"anchor anchorWithStickyNavbar_LWe7\" id=\"enforcer-tauros-venator-vehicle\">Enforcer Tauros Venator (Vehicle)<a href=\"#enforcer-tauros-venator-vehicle\" class=\"hash-link\" aria-label=\"Direct link to Enforcer Tauros Venator (Vehicle)\" title=\"Direct link to Enforcer Tauros Venator (Vehicle)\">\\u200b</a></h3><div class=\"stats\"><table><thead><tr><th>M</th><th>Front</th><th>Side</th><th>Rear</th><th>HP</th><th>Hnd</th><th>Sv</th></tr></thead><tbody><tr><td>7&quot;</td><td>5</td><td>5</td><td>4</td><td>3</td><td>5+</td><td>4+</td></tr></tbody></table></div><p><strong>Locomotion:</strong> Wheeled.<br>\\n<strong>Upgrade Slots:</strong> 2 Body, 3 Drive, 3 Engine.<br>\\n<strong>Weapon Hardpoints:</strong> 1. Crew Operated, Arc (All Round).</p><h4 class=\"anchor anchorWithStickyNavbar_LWe7\" id=\"dedicated-gunner\">Dedicated Gunner<a href=\"#dedicated-gunner\" class=\"hash-link\" aria-label=\"Direct link to Dedicated Gunner\" title=\"Direct link to Dedicated Gunner\">\\u200b</a></h4><p>When performing a Move &amp; Shoot (Basic) action, this vehicle may move up to its full Movement characteristic instead of half.</p><h4 class=\"anchor anchorWithStickyNavbar_LWe7\" id=\"equipment-1\">Equipment<a href=\"#equipment-1\" class=\"hash-link\" aria-label=\"Direct link to Equipment\" title=\"Direct link to Equipment\">\\u200b</a></h4><p>An Enforcer Tauros Venator may be equipped with vehicle Upgrades, vehicle Wargear and a weapon from the\\r\\nEnforcer Tauros Venator equipment list.</p><ul>\\n<li>During the course of a campaign, an Enforcer Tauros Venator may be equipped with additional vehicle Wargear from the Enforcer Tauros Venator equipment list and the Trading Post.</li>\\n<li>During the course of a campaign, an Enforcer Tauros Venator may be fitted with additional vehicle Upgrades from the Enforcer Tauros Venator equipment list.</li>\\n<li>During the course of a campaign, an Enforcer Tauros Venator can be equipped with a weapon from this list or the Basic, Special or Heavy sections of the Trading Post.</li>\\n</ul><p><em>Source: The Aranthian Succession: Ruins of Jardlan</em></p></div>\\n<div class=\"fighterCard_eWx_\"><div class=\"cost_vIwd\"><span class=\"number_XdbT\">130</span> <span>credits</span></div><h3 class=\"anchor anchorWithStickyNavbar_LWe7\" id=\"0-2-hardcase-cyber-mastiff-exotic-beast\">0-2 Hardcase Cyber-Mastiff (Exotic Beast)<a href=\"#0-2-hardcase-cyber-mastiff-exotic-beast\" class=\"hash-link\" aria-label=\"Direct link to 0-2 Hardcase Cyber-Mastiff (Exotic Beast)\" title=\"Direct link to 0-2 Hardcase Cyber-Mastiff (Exotic Beast)\">\\u200b</a></h3><table><thead><tr><th style=\"text-align:center\">M</th><th style=\"text-align:center\">WS</th><th style=\"text-align:center\">BS</th><th style=\"text-align:center\">S</th><th style=\"text-align:center\">T</th><th style=\"text-align:center\">W</th><th style=\"text-align:center\">I</th><th style=\"text-align:center\">A</th><th style=\"text-align:center\">Ld</th><th style=\"text-align:center\">Cl</th><th style=\"text-align:center\">Wil</th><th style=\"text-align:center\">Int</th></tr></thead><tbody><tr><td style=\"text-align:center\">5”</td><td style=\"text-align:center\">3+</td><td style=\"text-align:center\">-</td><td style=\"text-align:center\">3</td><td style=\"text-align:center\">4</td><td style=\"text-align:center\">1</td><td style=\"text-align:center\">4+</td><td style=\"text-align:center\">2</td><td style=\"text-align:center\">8+</td><td style=\"text-align:center\">6+</td><td style=\"text-align:center\">7+</td><td style=\"text-align:center\">8+</td></tr></tbody></table><div class=\"weaponStats_wRX3\"><table><thead><tr><th style=\"text-align:left\">Weapon</th><th style=\"text-align:center\">Rg S</th><th style=\"text-align:center\">Rg L</th><th style=\"text-align:center\">Acc S</th><th style=\"text-align:center\">Acc L</th><th style=\"text-align:center\">Str</th><th style=\"text-align:center\">Ap</th><th style=\"text-align:center\">D</th><th style=\"text-align:center\">Ammo</th><th style=\"text-align:left\">Traits</th></tr></thead><tbody><tr><td style=\"text-align:left\">Shock Bite</td><td style=\"text-align:center\">-</td><td style=\"text-align:center\">E</td><td style=\"text-align:center\">-</td><td style=\"text-align:center\">-</td><td style=\"text-align:center\">S</td><td style=\"text-align:center\">-1</td><td style=\"text-align:center\">1</td><td style=\"text-align:center\">-</td><td style=\"text-align:left\"><span class=\"tooltip-link\">Melee</span>, <span class=\"tooltip-link\">Rending</span>, <span class=\"tooltip-link\">Shock</span></td></tr></tbody></table></div><p><strong>Weapons:</strong> Shock bite.<br>\\n<strong>Wargear:</strong> Hardcase: <a href=\"/docs/armoury/armour#carapace\">light carapace (4+)</a> &amp; <a href=\"/docs/armoury/personal-equipment#respirator\">respirator</a>.<br>\\n<strong>Special Rules:</strong> Tenacious, Hardcase, Faithful Protector.</p><h4 class=\"anchor anchorWithStickyNavbar_LWe7\" id=\"tenacious\">Tenacious<a href=\"#tenacious\" class=\"hash-link\" aria-label=\"Direct link to Tenacious\" title=\"Direct link to Tenacious\">\\u200b</a></h4><p>If taken Out of Action while not yet activated this round, this fighter is not removed from the battlefield until after completing its activation.</p><h4 class=\"anchor anchorWithStickyNavbar_LWe7\" id=\"hardcase\">Hardcase<a href=\"#hardcase\" class=\"hash-link\" aria-label=\"Direct link to Hardcase\" title=\"Direct link to Hardcase\">\\u200b</a></h4><p>Hardcase Cyber-mastiffs are completely cybernetic and thus very hard to kill. A Hardcase Cyber-mastiff\\r\\ncounts as being equipped with <a href=\"/docs/armoury/armour#carapace\">light carapace armour</a> and a <a href=\"/docs/armoury/personal-equipment#respirator\">respirator</a>.</p><h4 class=\"anchor anchorWithStickyNavbar_LWe7\" id=\"faithful-protector\">Faithful Protector<a href=\"#faithful-protector\" class=\"hash-link\" aria-label=\"Direct link to Faithful Protector\" title=\"Direct link to Faithful Protector\">\\u200b</a></h4><p>While Standing (Active or Engaged) and within 3” of its owner, enemy fighters may not make a Coup de Grace against the owner.</p><p>In addition, if the owner is Standing and Engaged when activated, and the Hardcase Cyber-mastiff is within 6&quot; of them, the Hardcase Cyber-mastiff may immediately be moved into base contact with one or more of the fighters Engaging the owner. Thismove counts as a free action.</p><p><em>For as long as Mankind has utilised canines for hunting and companionship, it has used them to guard and to protect. In enforcing the laws of Lord Helmawr, canines are an invaluable tool, one that cannot be corrupted by the temptation of power or bribed by the lure of wealth. Their loyalty lies entirely with their masters and their dedication is unswerving.</em></p><p><em>As a matter of course, the canines that serve alongside the Palanite Enforcers of Necromunda are heavily-modified brutes, routinely fitted with armour to protect their vital organs and upgraded with bionics to enhance their performance. The nature of such enhancements varies, from advanced sensory arrays that can be tailored to the role of watchdog or hunting hound, to combat upgrades such as iron jaws and razor-edged fangs. It is these combat modifications that are seen most widely in the underhive and the gangs of Necromunda have rightly learned to fear the deployment of Hardcase Cyber-mastiffs on their turf.</em></p></div>\\n<div class=\"fighterCard_eWx_\"><div class=\"cost_vIwd\"><span class=\"number_XdbT\">205</span> <span>credits</span></div><h3 class=\"anchor anchorWithStickyNavbar_LWe7\" id=\"0-2-enforcer-sanctioner-pattern-automata-brute\">0-2 Enforcer ‘Sanctioner’ Pattern Automata (Brute)<a href=\"#0-2-enforcer-sanctioner-pattern-automata-brute\" class=\"hash-link\" aria-label=\"Direct link to 0-2 Enforcer ‘Sanctioner’ Pattern Automata (Brute)\" title=\"Direct link to 0-2 Enforcer ‘Sanctioner’ Pattern Automata (Brute)\">\\u200b</a></h3><table><thead><tr><th style=\"text-align:center\">M</th><th style=\"text-align:center\">WS</th><th style=\"text-align:center\">BS</th><th style=\"text-align:center\">S</th><th style=\"text-align:center\">T</th><th style=\"text-align:center\">W</th><th style=\"text-align:center\">I</th><th style=\"text-align:center\">A</th><th style=\"text-align:center\">Ld</th><th style=\"text-align:center\">Cl</th><th style=\"text-align:center\">Wil</th><th style=\"text-align:center\">Int</th></tr></thead><tbody><tr><td style=\"text-align:center\">5”</td><td style=\"text-align:center\">4+</td><td style=\"text-align:center\">4+</td><td style=\"text-align:center\">4</td><td style=\"text-align:center\">5</td><td style=\"text-align:center\">3</td><td style=\"text-align:center\">5+</td><td style=\"text-align:center\">2</td><td style=\"text-align:center\">8+</td><td style=\"text-align:center\">7+</td><td style=\"text-align:center\">6+</td><td style=\"text-align:center\">9+</td></tr></tbody></table><div class=\"weaponStats_wRX3\"><table><thead><tr><th style=\"text-align:left\">Weapon</th><th style=\"text-align:center\">Rg S</th><th style=\"text-align:center\">Rg L</th><th style=\"text-align:center\">Ac S</th><th style=\"text-align:center\">Ac L</th><th style=\"text-align:center\">S</th><th style=\"text-align:center\">AP</th><th style=\"text-align:center\">D</th><th style=\"text-align:center\">Am</th><th style=\"text-align:left\">Traits</th></tr></thead><tbody><tr><td style=\"text-align:left\">Pacifier assault claw</td><td style=\"text-align:center\">-</td><td style=\"text-align:center\">E</td><td style=\"text-align:center\">-</td><td style=\"text-align:center\">-</td><td style=\"text-align:center\">S</td><td style=\"text-align:center\">-1</td><td style=\"text-align:center\">2</td><td style=\"text-align:center\">-</td><td style=\"text-align:left\"><span class=\"tooltip-link\">Melee</span>, <span class=\"tooltip-link\">Pulverise</span></td></tr><tr><td style=\"text-align:left\">Heavy shock baton</td><td style=\"text-align:center\">-</td><td style=\"text-align:center\">E</td><td style=\"text-align:center\">-</td><td style=\"text-align:center\">-</td><td style=\"text-align:center\">S+1</td><td style=\"text-align:center\">-</td><td style=\"text-align:center\">2</td><td style=\"text-align:center\">-</td><td style=\"text-align:left\"><span class=\"tooltip-link\">Concussion</span>, <span class=\"tooltip-link\">Melee</span>, <span class=\"tooltip-link\">Parry</span>, <span class=\"tooltip-link\">Shock</span></td></tr><tr><td style=\"text-align:left\">Grenade launcher array<br>- photon flash grenades</td><td style=\"text-align:center\">6&quot;</td><td style=\"text-align:center\">18&quot;</td><td style=\"text-align:center\">-</td><td style=\"text-align:center\">-</td><td style=\"text-align:center\">-</td><td style=\"text-align:center\">-</td><td style=\"text-align:center\">-</td><td style=\"text-align:center\">5+</td><td style=\"text-align:left\"><span class=\"tooltip-link\">Blast (5&quot;)</span>, <span class=\"tooltip-link\">Flash</span></td></tr></tbody></table></div><p><strong>Skills:</strong> <a href=\"/docs/gang-fighters-and-their-weaponry/skills/gang-specific-skills#1-got-your-six\">Got Your Six</a>.<br>\\n<strong>Weapons:</strong> Pacifier assault claw, heavy shock baton, grenade launcher array with photon flash grenades.<br>\\n<strong>Wargear:</strong> <a href=\"/docs/armoury/armour#carapace\">Light carapace armour</a>.<br>\\n<strong>Special Rules:</strong> Automated Repair Systems, Mobile Bulwark.</p><h4 class=\"anchor anchorWithStickyNavbar_LWe7\" id=\"automated-repair-systems\">Automated Repair Systems<a href=\"#automated-repair-systems\" class=\"hash-link\" aria-label=\"Direct link to Automated Repair Systems\" title=\"Direct link to Automated Repair Systems\">\\u200b</a></h4><p>During the Recovery and Restart step of the End phase, do not roll if this fighter recovers from being Seriously Injured − it automatically recovers as if a Flesh Wound had been rolled on the Injury dice.</p><h4 class=\"anchor anchorWithStickyNavbar_LWe7\" id=\"mobile-bulwark\">Mobile Bulwark<a href=\"#mobile-bulwark\" class=\"hash-link\" aria-label=\"Direct link to Mobile Bulwark\" title=\"Direct link to Mobile Bulwark\">\\u200b</a></h4><p>If a friendly fighter is in partial cover due to being obscured by a Sanctioner Automata, they instead count as being in full cover.</p><h4 class=\"anchor anchorWithStickyNavbar_LWe7\" id=\"options\">Options<a href=\"#options\" class=\"hash-link\" aria-label=\"Direct link to Options\" title=\"Direct link to Options\">\\u200b</a></h4><p>An Enforcer ‘Sanctioner’ Pattern Automata can replace their pacifier assault claw and/or heavy shock baton with one of the following:</p><table><thead><tr><th>Upgrade</th><th>Cost</th></tr></thead><tbody><tr><td>Concussion cannon</td><td>+80</td></tr><tr><td>Sanction pattern mancatcher</td><td>+100</td></tr><tr><td>SLHG pattern assault ram ‘Sledge hammer’</td><td>+40</td></tr></tbody></table><p>An Enforcer ‘Sanctioner’ Pattern Automata can take the following additional grenades types for their grenade launcher array: •</p><table><thead><tr><th>Upgrade</th><th>Cost</th></tr></thead><tbody><tr><td>Choke gas grenades</td><td>+35</td></tr><tr><td>Scare gas grenades</td><td>+45</td></tr><tr><td>Smoke grenades</td><td>+15</td></tr><tr><td>Stun grenades</td><td>+25</td></tr></tbody></table><p>An Enforcer ‘Sanctioner’ Pattern Automata can upgrade its\\r\\nlight carapace armour to heavy carapace armour:</p><table><thead><tr><th>Upgrade</th><th>Cost</th></tr></thead><tbody><tr><td>Heavy carapace armour</td><td>+20</td></tr></tbody></table><p><em>To keep Helmawr’s peace, Enforcers employ semi-sentient servo-automata designated ‘Sanctioners’. These hulking machines are driven by the cranial remains of a Palanite Enforcer whose personality profile matches those prescribed for ‘Sanctioner’ use − the subject given extensive psycho-conditioning before their brain is removed, dissected and placed within the confines of the automata. Unlike the ‘ambot’, which is driven by the animal instincts and nervous system of an Ambul, the Sanctioner has a human mind controlling its actions− albeit one devoid of emotion and dedicated utterly to the letter of the law. For this reason, gangs often call these machines ‘Lawtomata’, saying you’d find more mercy at the hands of a Corpse Grinder Cult than under the gaze of a Sanctioner.</em></p><p><em>A Sanctioner is armed and armoured for the pacification tasks it is so often required to undertake. Heavy carapace plates protect the already robust inner workings of the Sanctioner, making them largely immune to small arms fire or the crude melee weapons often employed in uprisings or by outlaw gangers. Some Enforcer units, such as the Subjugators, often uparmour their automata further, to deal with more heavily armed resistance. Even discounting all their armour, Sanctioners have a reputation for being notoriously difficult to kill, the massive cybernetica rising again and again after taking punishing amounts of weapons fire as their internal repair systems keep them going.</em></p><p><em>The hulking automata’s arms incorporate weapons for both crowd control and gang warfare − one arm ending in a pacifier assault claw, known to criminals and gangs as the ‘Fist of Dread’ for the brutal damage it can inflict. Alternatively, it can replace the fist with a concussion cannon, an ideal weapon for stunning foes before hauling them off to the local Precinct-Fortress. Its other arm is equipped with a sanction pattern mancatcher to restrain and detain any who get in its way.</em></p><p><em>A Sanctioner is able to engage targets at longer range using an integrated grenade launcher. Grenades are a favoured tool of the Enforcers because of the variety of situations they can deal with − and the Sanctioner is no different. Flash, choke, scare and stun grenades are all useful to break up crowds or take the fight out of criminals, while smoke grenades provide cover for advancing Enforcers.</em></p><p><em>Sanctioners are usually only released from their storage chambers within a Precinct-Fortress in the case of large scale hive uprisings, though occasionally patrol sergeants might find themselves using them to bring law and order to especially wild regions of the underhive. In the wake of the Great Darkness, with loyalties divided and general unrest across all of Necromunda, more and more Sanctioners have been activated, while the number of ‘volunteers’ chosen to donate their brains to bolster the robot’s ranks has increased tenfold.</em></p></div>\\n<h2 class=\"anchor anchorWithStickyNavbar_LWe7\" id=\"skill-access\">Skill Access<a href=\"#skill-access\" class=\"hash-link\" aria-label=\"Direct link to Skill Access\" title=\"Direct link to Skill Access\">\\u200b</a></h2>\\n<table><thead><tr><th style=\"text-align:left\"></th><th><a href=\"/docs/gang-fighters-and-their-weaponry/skills/#agility\">Agility</a></th><th><a href=\"/docs/gang-fighters-and-their-weaponry/skills/#brawn\">Brawn</a></th><th><a href=\"/docs/gang-fighters-and-their-weaponry/skills/#combat\">Combat</a></th><th><a href=\"/docs/gang-fighters-and-their-weaponry/skills/#cunning\">Cunning</a></th><th><a href=\"/docs/gang-fighters-and-their-weaponry/skills/#ferocity\">Ferocity</a></th><th><a href=\"/docs/gang-fighters-and-their-weaponry/skills/#leadership\">Leadership</a></th><th><a href=\"/docs/gang-fighters-and-their-weaponry/skills/#shooting\">Shooting</a></th><th><a href=\"/docs/gang-fighters-and-their-weaponry/skills/gang-specific-skills#palanite-enforcers-palanite-drill\">Palanite Drill</a></th><th><a href=\"/docs/gang-fighters-and-their-weaponry/skills/#savant\">Savant</a></th><th><a href=\"/docs/gang-fighters-and-their-weaponry/skills/#driving\">Driving</a></th></tr></thead><tbody><tr><td style=\"text-align:left\">Captain (Leader)</td><td>-</td><td>Primary</td><td>-</td><td>-</td><td>Secondary</td><td>Secondary</td><td>Primary</td><td>Primary</td><td>-</td><td>-</td></tr><tr><td style=\"text-align:left\">Sergeant (Champion)</td><td>-</td><td>Secondary</td><td>-</td><td>Primary</td><td>Secondary</td><td>Secondary</td><td>Primary</td><td>Primary</td><td>-</td><td>-</td></tr><tr><td style=\"text-align:left\">Patrolman Specialist</td><td>-</td><td>Secondary</td><td>-</td><td>-</td><td>Secondary</td><td>-</td><td>Primary</td><td>Primary</td><td>-</td><td>-</td></tr><tr><td style=\"text-align:left\">Rookie (Juve)</td><td>Secondary</td><td>-</td><td>-</td><td>-</td><td>-</td><td>-</td><td>Secondary</td><td>Primary</td><td>-</td><td>-</td></tr><tr><td style=\"text-align:left\">Hardcase</td><td>-</td><td>-</td><td>Primary</td><td>-</td><td>Secondary</td><td>-</td><td>-</td><td>-</td><td>-</td><td>-</td></tr><tr><td style=\"text-align:left\">‘Sanctioner’ Pattern Automata</td><td>-</td><td>-</td><td>Secondary</td><td>-</td><td>Primary</td><td>-</td><td>-</td><td>-</td><td>-</td><td>-</td></tr><tr><td style=\"text-align:left\">Palanite Ranger (Crew)</td><td>-</td><td>-</td><td>-</td><td>-</td><td>-</td><td>Secondary</td><td>Secondary</td><td>-</td><td>Primary</td><td>Primary</td></tr></tbody></table>\\n<h2 class=\"anchor anchorWithStickyNavbar_LWe7\" id=\"palanite-enforcers-in-dominion-campaigns\">Palanite Enforcers In Dominion Campaigns<a href=\"#palanite-enforcers-in-dominion-campaigns\" class=\"hash-link\" aria-label=\"Direct link to Palanite Enforcers In Dominion Campaigns\" title=\"Direct link to Palanite Enforcers In Dominion Campaigns\">\\u200b</a></h2>\\n<p>An Enforcer Patrol can be fielded in a Dominion\\r\\nCampaign if players wish (see the Necromunda\\r\\nRulebook), but due to their nature will function\\r\\ndifferently to other gangs in a few important ways.</p>\\n<h3 class=\"anchor anchorWithStickyNavbar_LWe7\" id=\"territories-and-campaign-phases\">Territories And Campaign Phases<a href=\"#territories-and-campaign-phases\" class=\"hash-link\" aria-label=\"Direct link to Territories And Campaign Phases\" title=\"Direct link to Territories And Campaign Phases\">\\u200b</a></h3>\\n<p>Enforcers cannot occupy and control Territories\\r\\nlike other gangs can. Instead, they start the\\r\\ncampaign in control of a single Territory unique to\\r\\nthem – the Palanite Precinct Territory.</p>\\n<p><strong>Occupation Phase:</strong> During the Occupation\\r\\nphase, Enforcers may challenge another gang\\r\\nfor a nominated unoccupied Territory as normal.\\r\\nSimilarly, another gang may challenge the Enforcers\\r\\nto fight for a nominated unoccupied Territory as\\r\\nnormal. If the Enforcers win, rather than take control\\r\\nof the Territory, they must perform either a Police\\r\\nTerritory or Grant Territory action (as follows).</p>\\n<p><strong>Takeover Phase:</strong> During the Takeover phase, the\\r\\nEnforcers may challenge any gang for a Territory\\r\\nthat gang controls. If the Enforcers win, they must\\r\\nperform either a Police Territory or Grant Territory\\r\\naction (as follows).</p>\\n<p>If, however, another gang challenges the\\r\\nEnforcers during the Takeover phase then the\\r\\ngang is assumed to be launching a bold assault\\r\\nagainst the Enforcers’ Palanite Precinct Territory\\r\\n(as follows). The challenger cannot gain control\\r\\nof the Palanite Precinct, but will gain the benefits\\r\\nof a successful assault should they win. The\\r\\nEnforcers cannot lose the Palanite Precinct, but\\r\\ncan suffer the negative effects associated with it\\r\\nbeing successfully assaulted.</p>\\n<h3 class=\"anchor anchorWithStickyNavbar_LWe7\" id=\"territory-actions\">Territory Actions<a href=\"#territory-actions\" class=\"hash-link\" aria-label=\"Direct link to Territory Actions\" title=\"Direct link to Territory Actions\">\\u200b</a></h3>\\n<p>If the Enforcers win control of an unoccupied or\\r\\nenemy-held Territory, they must perform one of\\r\\nthe following actions during the Wrap-up:</p>\\n<p><strong>Police Territory:</strong> The Enforcers clear up the\\r\\nTerritory. In a series of shock assaults and raids,\\r\\nthey shut down criminal enterprises and flush\\r\\nout troublemakers:</p>\\n<ul>\\n<li>The Enforcers gain control of the Territory, but they gain no Boons from it.</li>\\n<li>Immediately after taking control of the Territory and after every successful defence of the Territory, the Enforcers gain D3+1 Reputation for purging the Territory of crime.</li>\\n</ul>\\n<p><strong>Grant Territory:</strong> The Enforcer player chooses another gang taking part in the campaign.\\r\\nThat gang gains control of the Territory andanyCriminal Enterprises associated with it.</p>\\n<h3 class=\"anchor anchorWithStickyNavbar_LWe7\" id=\"triumphs\">Triumphs<a href=\"#triumphs\" class=\"hash-link\" aria-label=\"Direct link to Triumphs\" title=\"Direct link to Triumphs\">\\u200b</a></h3>\\n<p>Players of Palanite Enforcers may not be awarded the Dominator Triumph. Instead they have a unique Peacemaker Triumph to reach for:</p>\\n<p><strong>Peacemaker:</strong> If none of the players can be awarded the Dominator Triumph – because two or more players hold the same number\\r\\nof Territories – the Enforcer is awarded the Peacemaker Triumph.</p>\\n<h3 class=\"anchor anchorWithStickyNavbar_LWe7\" id=\"unique-territory--palanite-precinct\">Unique Territory – Palanite Precinct<a href=\"#unique-territory--palanite-precinct\" class=\"hash-link\" aria-label=\"Direct link to Unique Territory – Palanite Precinct\" title=\"Direct link to Unique Territory – Palanite Precinct\">\\u200b</a></h3>\\n<p>Fortress, gaol, and place of execution, a Palanite Precinct is the authority of Lord Helmwar stamped boldly into the very structure of the underhive in rockcrete and plasteel for all to see.</p>\\n<h3 class=\"anchor anchorWithStickyNavbar_LWe7\" id=\"homeground\">Homeground<a href=\"#homeground\" class=\"hash-link\" aria-label=\"Direct link to Homeground\" title=\"Direct link to Homeground\">\\u200b</a></h3>\\n<p>If challenged in the Takeover phase, the ensuing battle will automatically take place within the Palanite Precinct, representing a bold gang assaulting the Precinct:</p>\\n<ul>\\n<li>When the Palanite Precinct is assaulted, the battle will automatically be fought using Zone Mortalis terrain.</li>\\n<li>The player that controls the Enforcers sets upall of the tiles, doors, barricades and any other terrain features. They also can decide if any of\\r\\nthe doors are locked. The player who controls the Enforcers treats all doors as unlocked, and can relock any door.</li>\\n<li>The player who controls the Enforcers automatically has the Home Turf Advantage when the Palanite Precinct is assaulted.</li>\\n</ul>\\n<h3 class=\"anchor anchorWithStickyNavbar_LWe7\" id=\"territory-boon\">Territory Boon<a href=\"#territory-boon\" class=\"hash-link\" aria-label=\"Direct link to Territory Boon\" title=\"Direct link to Territory Boon\">\\u200b</a></h3>\\n<p><strong>Income:</strong> The gang earns D6x10 credits from this Territory when collecting income.</p>\\n<p><strong>Gang Assault:</strong> A gang can never take control of a Palanite Precinct. If, however, a gang should assault the Palanite Precinct and win the ensuing battle, that gang will gain +5 Reputation.</p></div><footer class=\"theme-doc-footer docusaurus-mt-lg\"><div class=\"theme-doc-footer-edit-meta-row row\"><div class=\"col\"></div><div class=\"col lastUpdated_vwxv\"><span class=\"theme-last-updated\">Last updated<!-- --> on <b><time datetime=\"2023-11-30T01:52:13.000Z\">Nov 30, 2023</time></b></span></div></div></footer></article><nav class=\"pagination-nav docusaurus-mt-lg\" aria-label=\"Docs pages\"><a class=\"pagination-nav__link pagination-nav__link--prev\" href=\"/docs/gangs/gang-lists/venators\"><div class=\"pagination-nav__sublabel\">Previous</div><div class=\"pagination-nav__label\">Venators (Bounty Hunters)</div></a><a class=\"pagination-nav__link pagination-nav__link--next\" href=\"/docs/gangs/gang-lists/palanite-enforcers/equipment-list\"><div class=\"pagination-nav__sublabel\">Next</div><div class=\"pagination-nav__label\">Palanite Enforcers Equipment List</div></a></nav></div></div><div class=\"col col--3\"><div class=\"tableOfContents_bqdL thin-scrollbar theme-doc-toc-desktop\"><ul class=\"table-of-contents table-of-contents__left-border\"><li><a href=\"#gang-composition\" class=\"table-of-contents__link toc-highlight\">Gang Composition</a></li><li><a href=\"#special-rules\" class=\"table-of-contents__link toc-highlight\">Special Rules</a></li><li><a href=\"#fighters\" class=\"table-of-contents__link toc-highlight\">Fighters</a><ul><li><a href=\"#captain-leader\" class=\"table-of-contents__link toc-highlight\">Captain (Leader)</a></li><li><a href=\"#sergeant-champion\" class=\"table-of-contents__link toc-highlight\">Sergeant (Champion)</a></li><li><a href=\"#patrolman-ganger\" class=\"table-of-contents__link toc-highlight\">Patrolman (Ganger)</a></li><li><a href=\"#rookie-juve\" class=\"table-of-contents__link toc-highlight\">Rookie (Juve)</a></li><li><a href=\"#palanite-ranger-crew\" class=\"table-of-contents__link toc-highlight\">Palanite Ranger (Crew)</a></li><li><a href=\"#enforcer-tauros-venator-vehicle\" class=\"table-of-contents__link toc-highlight\">Enforcer Tauros Venator (Vehicle)</a></li><li><a href=\"#0-2-hardcase-cyber-mastiff-exotic-beast\" class=\"table-of-contents__link toc-highlight\">0-2 Hardcase Cyber-Mastiff (Exotic Beast)</a></li><li><a href=\"#0-2-enforcer-sanctioner-pattern-automata-brute\" class=\"table-of-contents__link toc-highlight\">0-2 Enforcer ‘Sanctioner’ Pattern Automata (Brute)</a></li></ul></li><li><a href=\"#skill-access\" class=\"table-of-contents__link toc-highlight\">Skill Access</a></li><li><a href=\"#palanite-enforcers-in-dominion-campaigns\" class=\"table-of-contents__link toc-highlight\">Palanite Enforcers In Dominion Campaigns</a><ul><li><a href=\"#territories-and-campaign-phases\" class=\"table-of-contents__link toc-highlight\">Territories And Campaign Phases</a></li><li><a href=\"#territory-actions\" class=\"table-of-contents__link toc-highlight\">Territory Actions</a></li><li><a href=\"#triumphs\" class=\"table-of-contents__link toc-highlight\">Triumphs</a></li><li><a href=\"#unique-territory--palanite-precinct\" class=\"table-of-contents__link toc-highlight\">Unique Territory – Palanite Precinct</a></li><li><a href=\"#homeground\" class=\"table-of-contents__link toc-highlight\">Homeground</a></li><li><a href=\"#territory-boon\" class=\"table-of-contents__link toc-highlight\">Territory Boon</a></li></ul></li></ul></div></div></div></div></main></div></div></div><footer class=\"footer footer--dark\"><div class=\"container container-fluid\"><div class=\"row footer__links\"><div class=\"col footer__col\"><div class=\"footer__title\">Contact</div><ul class=\"footer__items clean-list\"><li class=\"footer__item\"><a href=\"mailto:servo_scribe@proton.me\" target=\"_blank\" rel=\"noopener noreferrer\" class=\"footer__link-item\">servo_scribe@proton.me<svg width=\"13.5\" height=\"13.5\" aria-hidden=\"true\" viewBox=\"0 0 24 24\" class=\"iconExternalLink_nPIU\"><path fill=\"currentColor\" d=\"M21 13v10h-21v-19h12v2h-10v15h17v-8h2zm3-12h-10.988l4.035 4-6.977 7.07 2.828 2.828 6.977-7.07 4.125 4.172v-11z\"></path></svg></a></li><li class=\"footer__item\"><a href=\"https://www.buymeacoffee.com/servoscribe\" target=\"_blank\" rel=\"noopener noreferrer\" class=\"footer__link-item\">Buy me a coffee<svg width=\"13.5\" height=\"13.5\" aria-hidden=\"true\" viewBox=\"0 0 24 24\" class=\"iconExternalLink_nPIU\"><path fill=\"currentColor\" d=\"M21 13v10h-21v-19h12v2h-10v15h17v-8h2zm3-12h-10.988l4.035 4-6.977 7.07 2.828 2.828 6.977-7.07 4.125 4.172v-11z\"></path></svg></a></li><li class=\"footer__item\"><a href=\"https://discord.gg/UepSaKA6cx\" target=\"_blank\" rel=\"noopener noreferrer\" class=\"footer__link-item\">Feedback discord<svg width=\"13.5\" height=\"13.5\" aria-hidden=\"true\" viewBox=\"0 0 24 24\" class=\"iconExternalLink_nPIU\"><path fill=\"currentColor\" d=\"M21 13v10h-21v-19h12v2h-10v15h17v-8h2zm3-12h-10.988l4.035 4-6.977 7.07 2.828 2.828 6.977-7.07 4.125 4.172v-11z\"></path></svg></a></li></ul></div><div class=\"col footer__col\"><div class=\"footer__title\">Community</div><ul class=\"footer__items clean-list\"><li class=\"footer__item\"><a href=\"https://yaktribe.games/\" target=\"_blank\" rel=\"noopener noreferrer\" class=\"footer__link-item\">Yaktribe<svg width=\"13.5\" height=\"13.5\" aria-hidden=\"true\" viewBox=\"0 0 24 24\" class=\"iconExternalLink_nPIU\"><path fill=\"currentColor\" d=\"M21 13v10h-21v-19h12v2h-10v15h17v-8h2zm3-12h-10.988l4.035 4-6.977 7.07 2.828 2.828 6.977-7.07 4.125 4.172v-11z\"></path></svg></a></li></ul></div><div class=\"col footer__col\"><div class=\"footer__title\">Servo_scribe Projects</div><ul class=\"footer__items clean-list\"><li class=\"footer__item\"><a href=\"https://necrovox.org\" target=\"_blank\" rel=\"noopener noreferrer\" class=\"footer__link-item\">Necro-vox</a></li><li class=\"footer__item\"><a href=\"https://mordheimer.net\" target=\"_blank\" rel=\"noopener noreferrer\" class=\"footer__link-item\">The New Mordheimer<svg width=\"13.5\" height=\"13.5\" aria-hidden=\"true\" viewBox=\"0 0 24 24\" class=\"iconExternalLink_nPIU\"><path fill=\"currentColor\" d=\"M21 13v10h-21v-19h12v2h-10v15h17v-8h2zm3-12h-10.988l4.035 4-6.977 7.07 2.828 2.828 6.977-7.07 4.125 4.172v-11z\"></path></svg></a></li><li class=\"footer__item\"><a href=\"https://warcrier.net\" target=\"_blank\" rel=\"noopener noreferrer\" class=\"footer__link-item\">Warcrier<svg width=\"13.5\" height=\"13.5\" aria-hidden=\"true\" viewBox=\"0 0 24 24\" class=\"iconExternalLink_nPIU\"><path fill=\"currentColor\" d=\"M21 13v10h-21v-19h12v2h-10v15h17v-8h2zm3-12h-10.988l4.035 4-6.977 7.07 2.828 2.828 6.977-7.07 4.125 4.172v-11z\"></path></svg></a></li></ul></div><div class=\"col footer__col\"><div class=\"footer__title\">Friendly Resources</div><ul class=\"footer__items clean-list\"><li class=\"footer__item\"><a href=\"https://wahapedia.ru\" target=\"_blank\" rel=\"noopener noreferrer\" class=\"footer__link-item\">Wahapedia<svg width=\"13.5\" height=\"13.5\" aria-hidden=\"true\" viewBox=\"0 0 24 24\" class=\"iconExternalLink_nPIU\"><path fill=\"currentColor\" d=\"M21 13v10h-21v-19h12v2h-10v15h17v-8h2zm3-12h-10.988l4.035 4-6.977 7.07 2.828 2.828 6.977-7.07 4.125 4.172v-11z\"></path></svg></a></li><li class=\"footer__item\"><a href=\"https://mega.nz/folder/bipQASbT#dBEw4HEbYuR3RjFKl1HbsQ\" target=\"_blank\" rel=\"noopener noreferrer\" class=\"footer__link-item\">Necrodamus.pdf<svg width=\"13.5\" height=\"13.5\" aria-hidden=\"true\" viewBox=\"0 0 24 24\" class=\"iconExternalLink_nPIU\"><path fill=\"currentColor\" d=\"M21 13v10h-21v-19h12v2h-10v15h17v-8h2zm3-12h-10.988l4.035 4-6.977 7.07 2.828 2.828 6.977-7.07 4.125 4.172v-11z\"></path></svg></a></li></ul></div></div><div class=\"footer__bottom text--center\"><div class=\"footer__copyright\">This site is a free community project not associated with Games Workshop. All original content is Copyright © 2024 Games Workshop.</div></div></div></footer></div>\\n</body>\\n</html>'"
      ]
     },
     "execution_count": 88,
     "metadata": {},
     "output_type": "execute_result"
    }
   ],
   "source": [
    "requests.get(\"https://necrovox.org/docs/gangs/gang-lists/palanite-enforcers/\")"
   ]
  },
  {
   "cell_type": "markdown",
   "metadata": {},
   "source": []
  },
  {
   "cell_type": "code",
   "execution_count": null,
   "metadata": {},
   "outputs": [],
   "source": [
    "\n",
    "\n",
    "\n",
    "\n",
    "tools = [TavilySearchResults(max_results=1)]\n",
    "\n",
    "# Get the prompt to use - you can modify this!\n",
    "prompt = hub.pull(\"hwchase17/openai-functions-agent\")\n",
    "\n",
    "# Choose the LLM that will drive the agent\n",
    "llm = ChatOpenAI(model=\"gpt-3.5-turbo-1106\")\n",
    "\n",
    "# Construct the OpenAI Functions agent\n",
    "agent_runnable = create_openai_functions_agent(llm, tools, prompt)"
   ]
  },
  {
   "cell_type": "code",
   "execution_count": null,
   "metadata": {},
   "outputs": [],
   "source": [
    "# import\n",
    "from langchain.text_splitter import CharacterTextSplitter\n",
    "from langchain_community.document_loaders import TextLoader\n",
    "from langchain_community.embeddings.sentence_transformer import (\n",
    "    SentenceTransformerEmbeddings,\n",
    ")\n",
    "from langchain_community.vectorstores import Chroma"
   ]
  },
  {
   "cell_type": "code",
   "execution_count": null,
   "metadata": {},
   "outputs": [],
   "source": []
  },
  {
   "cell_type": "code",
   "execution_count": null,
   "metadata": {},
   "outputs": [],
   "source": [
    "from langchain_core.runnables import RunnablePassthrough\n",
    "from langchain_core.agents import AgentFinish\n",
    "\n",
    "\n",
    "# Define the agent\n",
    "# Note that here, we are using `.assign` to add the output of the agent to the dictionary\n",
    "# This dictionary will be returned from the node\n",
    "# The reason we don't want to return just the result of `agent_runnable` from this node is\n",
    "# that we want to continue passing around all the other inputs\n",
    "agent = RunnablePassthrough.assign(\n",
    "    agent_outcome = agent_runnable\n",
    ")\n",
    "\n",
    "# Define the function to execute tools\n",
    "def execute_tools(data):\n",
    "    # Get the most recent agent_outcome - this is the key added in the `agent` above\n",
    "    agent_action = data.pop('agent_outcome')\n",
    "    # Get the tool to use\n",
    "    tool_to_use = {t.name: t for t in tools}[agent_action.tool]\n",
    "    # Call that tool on the input\n",
    "    observation = tool_to_use.invoke(agent_action.tool_input)\n",
    "    # We now add in the action and the observation to the `intermediate_steps` list\n",
    "    # This is the list of all previous actions taken and their output\n",
    "    data['intermediate_steps'].append((agent_action, observation))\n",
    "    return data\n",
    "\n",
    "# Define logic that will be used to determine which conditional edge to go down\n",
    "def should_continue(data):\n",
    "    # If the agent outcome is an AgentFinish, then we return `exit` string\n",
    "    # This will be used when setting up the graph to define the flow\n",
    "    if isinstance(data['agent_outcome'], AgentFinish):\n",
    "        return \"exit\"\n",
    "    # Otherwise, an AgentAction is returned\n",
    "    # Here we return `continue` string\n",
    "    # This will be used when setting up the graph to define the flow\n",
    "    else:\n",
    "        return \"continue\""
   ]
  },
  {
   "cell_type": "code",
   "execution_count": null,
   "metadata": {},
   "outputs": [],
   "source": [
    "from langgraph.graph import END, Graph\n",
    "\n",
    "workflow = Graph()\n",
    "\n",
    "# Add the agent node, we give it name `agent` which we will use later\n",
    "workflow.add_node(\"agent\", agent)\n",
    "# Add the tools node, we give it name `tools` which we will use later\n",
    "workflow.add_node(\"tools\", execute_tools)\n",
    "\n",
    "# Set the entrypoint as `agent`\n",
    "# This means that this node is the first one called\n",
    "workflow.set_entry_point(\"agent\")\n",
    "\n",
    "# We now add a conditional edge\n",
    "workflow.add_conditional_edges(\n",
    "    # First, we define the start node. We use `agent`.\n",
    "    # This means these are the edges taken after the `agent` node is called.\n",
    "    \"agent\",\n",
    "    # Next, we pass in the function that will determine which node is called next.\n",
    "    should_continue,\n",
    "    # Finally we pass in a mapping.\n",
    "    # The keys are strings, and the values are other nodes.\n",
    "    # END is a special node marking that the graph should finish.\n",
    "    # What will happen is we will call `should_continue`, and then the output of that\n",
    "    # will be matched against the keys in this mapping.\n",
    "    # Based on which one it matches, that node will then be called.\n",
    "    {\n",
    "        # If `tools`, then we call the tool node.\n",
    "        \"continue\": \"tools\",\n",
    "        # Otherwise we finish.\n",
    "        \"exit\": END\n",
    "    }\n",
    ")\n",
    "\n",
    "# We now add a normal edge from `tools` to `agent`.\n",
    "# This means that after `tools` is called, `agent` node is called next.\n",
    "workflow.add_edge('tools', 'agent')\n",
    "\n",
    "# Finally, we compile it!\n",
    "# This compiles it into a LangChain Runnable,\n",
    "# meaning you can use it as you would any other runnable\n",
    "chain = workflow.compile()"
   ]
  },
  {
   "cell_type": "code",
   "execution_count": null,
   "metadata": {},
   "outputs": [],
   "source": [
    "chain.invoke({\"input\": \"what is the weather in sf\", \"intermediate_steps\": []})"
   ]
  },
  {
   "cell_type": "code",
   "execution_count": null,
   "metadata": {},
   "outputs": [],
   "source": [
    "%pip install unstructured markdown langgraph"
   ]
  },
  {
   "cell_type": "code",
   "execution_count": null,
   "metadata": {},
   "outputs": [],
   "source": [
    "from langchain_community.document_loaders import UnstructuredMarkdownLoader\n",
    "import markdown\n",
    "markdown_path = \".\\\\necrovox_docs\\\\rules.md\"\n",
    "loader = UnstructuredMarkdownLoader(markdown_path, mode=\"elements\")\n",
    "data = loader.load()"
   ]
  },
  {
   "cell_type": "code",
   "execution_count": null,
   "metadata": {},
   "outputs": [],
   "source": [
    "data"
   ]
  },
  {
   "cell_type": "code",
   "execution_count": null,
   "metadata": {},
   "outputs": [],
   "source": [
    "embedding_function = OpenAIEmbeddings()"
   ]
  },
  {
   "cell_type": "code",
   "execution_count": null,
   "metadata": {},
   "outputs": [],
   "source": [
    "import chromadb\n",
    "\n",
    "#  = chromadb.PersistentClient()\n",
    "persistent_client = chromadb.PersistentClient(path=\"./necromunda_db/\")\n",
    "collection = persistent_client.get_or_create_collection(\"necromunda\")\n",
    "vector_store = Chroma(\n",
    "    client=persistent_client,\n",
    "    collection_name=\"necromunda\",\n",
    "    embedding_function=embedding_function,\n",
    ")\n",
    "# docs = db2.similarity_search(query)"
   ]
  },
  {
   "cell_type": "code",
   "execution_count": null,
   "metadata": {},
   "outputs": [],
   "source": [
    "\n",
    "\n",
    "print(\"There are\", vector_store._collection.count(), \"in the collection\")"
   ]
  },
  {
   "cell_type": "code",
   "execution_count": null,
   "metadata": {},
   "outputs": [],
   "source": [
    "retriever = vector_store.as_retriever(search_type=\"mmr\")"
   ]
  },
  {
   "cell_type": "code",
   "execution_count": null,
   "metadata": {},
   "outputs": [],
   "source": [
    "from "
   ]
  },
  {
   "cell_type": "code",
   "execution_count": null,
   "metadata": {},
   "outputs": [],
   "source": [
    "query = \"How can I make an injury roll in Necromunda?\""
   ]
  },
  {
   "cell_type": "code",
   "execution_count": null,
   "metadata": {},
   "outputs": [],
   "source": [
    "from langchain.storage import LocalFileStore\n",
    "from langchain.embeddings import CacheBackedEmbeddings\n",
    "local_store = LocalFileStore(\"./cache/\")\n",
    "\n",
    "\n",
    "cached_embedder = CacheBackedEmbeddings.from_bytes_store(\n",
    "    embedding_function, local_store, namespace=embedding_function.model\n",
    ")"
   ]
  },
  {
   "cell_type": "code",
   "execution_count": null,
   "metadata": {},
   "outputs": [],
   "source": [
    "list(local_store.yield_keys())"
   ]
  },
  {
   "cell_type": "code",
   "execution_count": null,
   "metadata": {},
   "outputs": [],
   "source": [
    "\n",
    "vector_store.similarity_search_with_score(query)"
   ]
  },
  {
   "cell_type": "code",
   "execution_count": null,
   "metadata": {},
   "outputs": [],
   "source": [
    "retriever.get_relevant_documents(query)[0]"
   ]
  },
  {
   "cell_type": "code",
   "execution_count": null,
   "metadata": {},
   "outputs": [],
   "source": [
    "\n",
    "from langchain.retrievers import SelfQueryRetriever\n",
    "# from langchain.chain import Chain\n",
    "retriever2 = SelfQueryRetriever(langchain_chroma)"
   ]
  },
  {
   "cell_type": "code",
   "execution_count": null,
   "metadata": {},
   "outputs": [],
   "source": [
    "retriever = langchain_chroma.as_retriever()\n",
    "from langchain_core.prompts import ChatPromptTemplate\n",
    "template = \"\"\"Answer the question based only on the following context:\n",
    "{context}\n",
    "\n",
    "Question: {question}\n",
    "\"\"\"\n",
    "prompt = ChatPromptTemplate.from_template(template)\n",
    "\n",
    "model = ChatOpenAI()"
   ]
  },
  {
   "cell_type": "code",
   "execution_count": null,
   "metadata": {},
   "outputs": [],
   "source": [
    "from operator import itemgetter\n",
    "\n",
    "# from langchain_community.vectorstores import FAISS\n",
    "from langchain_core.output_parsers import StrOutputParser\n",
    "from langchain_core.prompts import ChatPromptTemplate\n",
    "from langchain_core.runnables import RunnableLambda, RunnablePassthrough\n",
    "from langchain_openai import ChatOpenAI, OpenAIEmbeddings"
   ]
  },
  {
   "cell_type": "code",
   "execution_count": null,
   "metadata": {},
   "outputs": [],
   "source": [
    "from langchain_core.output_parsers import StrOutputParser\n",
    "from langchain_core.prompts import ChatPromptTemplate\n",
    "from langchain_core.runnables import RunnableLambda, RunnablePassthrough\n",
    "chain = (\n",
    "    {\"context\": retriever, \"question\": RunnablePassthrough()}\n",
    "    | prompt\n",
    "    | model\n",
    "    | StrOutputParser()\n",
    ")"
   ]
  },
  {
   "cell_type": "code",
   "execution_count": null,
   "metadata": {},
   "outputs": [],
   "source": [
    "chain.get_prompts()"
   ]
  },
  {
   "cell_type": "code",
   "execution_count": null,
   "metadata": {},
   "outputs": [],
   "source": [
    "# Reduce the length of the messages\n",
    "chain = chain | RunnableLambda(lambda x: x[:200])\n",
    "\n",
    "chain.invoke(query)"
   ]
  },
  {
   "cell_type": "code",
   "execution_count": null,
   "metadata": {},
   "outputs": [],
   "source": []
  }
 ],
 "metadata": {
  "kernelspec": {
   "display_name": "Python 3",
   "language": "python",
   "name": "python3"
  },
  "language_info": {
   "codemirror_mode": {
    "name": "ipython",
    "version": 3
   },
   "file_extension": ".py",
   "mimetype": "text/x-python",
   "name": "python",
   "nbconvert_exporter": "python",
   "pygments_lexer": "ipython3",
   "version": "3.11.1"
  }
 },
 "nbformat": 4,
 "nbformat_minor": 2
}
