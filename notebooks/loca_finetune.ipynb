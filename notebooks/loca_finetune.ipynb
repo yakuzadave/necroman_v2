{
 "cells": [
  {
   "cell_type": "code",
   "execution_count": null,
   "metadata": {},
   "outputs": [],
   "source": [
    "# import\n",
    "import logging\n",
    "import os\n",
    "import sys\n",
    "\n",
    "import chromadb\n",
    "import chromadb.utils.embedding_functions as embedding_functions\n",
    "import nest_asyncio\n",
    "import openai\n",
    "from dotenv import load_dotenv\n",
    "from IPython.display import Markdown, display\n",
    "from langchain_openai import OpenAIEmbeddings\n",
    "from langchain.embeddings import HuggingFaceEmbeddings\n",
    "from llama_index import (\n",
    "    ServiceContext,\n",
    "    SimpleDirectoryReader,\n",
    "    SimpleKeywordTableIndex,\n",
    "    SummaryIndex,\n",
    "    VectorStoreIndex,\n",
    "    set_global_service_context,\n",
    ")\n",
    "from llama_index.composability import ComposableGraph\n",
    "from llama_index.embeddings import HuggingFaceEmbedding, OpenAIEmbedding\n",
    "from llama_index.llms import OpenAI\n",
    "from llama_index.node_parser import SentenceSplitter\n",
    "from llama_index.storage.docstore import SimpleDocumentStore\n",
    "from llama_index.storage.storage_context import StorageContext\n",
    "from llama_index.vector_stores import ChromaVectorStore\n",
    "\n",
    "# ChromaDB client \n",
    "chroma_client = chromadb.Client()\n",
    "\n",
    "\n",
    "\n",
    "\n",
    "\n",
    "\n",
    "\n",
    "\n",
    "# OpenAI API key\n",
    "load_dotenv()\n",
    "OPENAI_API_KEY = os.getenv(\"OPENAI_API_KEY\")\n",
    "HUGGINGFACE_API_KEY = os.getenv(\"HUGGINGFACE_API_KEY\")\n",
    "openai.api_key = OPENAI_API_KEY\n",
    "\n",
    "openai_ef = embedding_functions.OpenAIEmbeddingFunction(\n",
    "                api_key=OPENAI_API_KEY,\n",
    "                model_name=\"text-embedding-ada-002\"\n",
    "            )\n",
    "\n",
    "\n",
    "hf_ef = embedding_functions.HuggingFaceEmbeddingFunction(\n",
    "                api_key=HUGGINGFACE_API_KEY,\n",
    "                model_name=\"sentence-transformers/all-mpnet-base-v2\"\n",
    "            )\n",
    "\n",
    "embed_model = OpenAIEmbeddings(model=\"text-embedding-ada-002\")\n",
    "# embed_model = OpenAIEmbedding(embed_batch_size=10)\n",
    "\n",
    "hf_embed_model = HuggingFaceEmbeddings(\n",
    "    model_name=\"sentence-transformers/all-mpnet-base-v2\"\n",
    ")\n",
    "\n",
    "\n",
    "\n",
    "service_context = ServiceContext.from_defaults(embed_model=embed_model)\n",
    "\n",
    "# optionally set a global service context\n",
    "set_global_service_context(service_context)\n",
    "\n",
    "\n",
    "\n",
    "\n",
    "nest_asyncio.apply()\n",
    "logging.basicConfig(stream=sys.stdout, level=logging.INFO)\n",
    "logging.getLogger().addHandler(logging.StreamHandler(stream=sys.stdout))\n",
    "reader = SimpleDirectoryReader(\"../necrovox_docs/\")\n",
    "documents = reader.load_data()\n",
    "\n",
    "\n",
    "nodes = SentenceSplitter().get_nodes_from_documents(documents)"
   ]
  },
  {
   "cell_type": "code",
   "execution_count": null,
   "metadata": {},
   "outputs": [],
   "source": [
    "collection = chroma_client.get_or_create_collection(\n",
    "    name=\"necromunda_hf\",\n",
    "    embedding_function=hf_ef,\n",
    ")"
   ]
  },
  {
   "cell_type": "code",
   "execution_count": null,
   "metadata": {},
   "outputs": [],
   "source": [
    "nodes = SentenceSplitter().get_nodes_from_documents(documents)"
   ]
  },
  {
   "cell_type": "code",
   "execution_count": null,
   "metadata": {},
   "outputs": [],
   "source": [
    "# set up ChromaVectorStore and load in data\n",
    "vector_store = ChromaVectorStore(chroma_collection=collection)\n",
    "storage_context = StorageContext.from_defaults(vector_store=vector_store)\n",
    "service_context = ServiceContext.from_defaults(embed_model=hf_embed_model)\n",
    "index = VectorStoreIndex.from_documents(\n",
    "    documents,\n",
    "    storage_context=storage_context,\n",
    "    service_context=service_context\n",
    ")\n",
    "\n",
    "# Query Data\n",
    "query_engine = index.as_query_engine()\n",
    "response = query_engine.query(\"How do you make an injury roll?\")\n",
    "display(Markdown(f\"<b>{response}</b>\"))"
   ]
  },
  {
   "cell_type": "code",
   "execution_count": null,
   "metadata": {},
   "outputs": [],
   "source": [
    "from huggingface_hub import notebook_login\n",
    "notebook_login()"
   ]
  },
  {
   "cell_type": "code",
   "execution_count": null,
   "metadata": {},
   "outputs": [],
   "source": []
  },
  {
   "cell_type": "code",
   "execution_count": null,
   "metadata": {},
   "outputs": [],
   "source": [
    "def load_corpus(files, verbose=False):\n",
    "    if verbose:\n",
    "        print(f\"Loading files {files}\")\n",
    "\n",
    "    reader = SimpleDirectoryReader(input_files=files)\n",
    "    docs = reader.load_data()\n",
    "    if verbose:\n",
    "        print(f\"Loaded {len(docs)} docs\")\n",
    "\n",
    "    parser = SentenceSplitter()\n",
    "    nodes = parser.get_nodes_from_documents(docs, show_progress=verbose)\n",
    "\n",
    "    if verbose:\n",
    "        print(f\"Parsed {len(nodes)} nodes\")\n",
    "\n",
    "    return nodes"
   ]
  },
  {
   "cell_type": "code",
   "execution_count": null,
   "metadata": {},
   "outputs": [],
   "source": [
    "train_nodes = load_corpus([\"..\\\\necrovox_docs\\\\rules.md\", \"..\\\\necrovox_docs\\\\gangs.md\"], verbose=True)"
   ]
  },
  {
   "cell_type": "code",
   "execution_count": null,
   "metadata": {},
   "outputs": [],
   "source": [
    "train_nodes = load_corpus([\"..\\\\necrovox_docs\\\\rules.md\", \"..\\\\necrovox_docs\\\\gangs.md\"], verbose=True)"
   ]
  },
  {
   "cell_type": "code",
   "execution_count": null,
   "metadata": {},
   "outputs": [],
   "source": [
    "from llama_index.finetuning import (\n",
    "    generate_qa_embedding_pairs,\n",
    "    EmbeddingQAFinetuneDataset,\n",
    ")"
   ]
  },
  {
   "cell_type": "code",
   "execution_count": null,
   "metadata": {},
   "outputs": [],
   "source": [
    "# setup prompts - specific to StableLM\n",
    "from llama_index.prompts import PromptTemplate\n",
    "\n",
    "# This will wrap the default prompts that are internal to llama-index\n",
    "# taken from https://huggingface.co/Writer/camel-5b-hf\n",
    "query_wrapper_prompt = PromptTemplate(\n",
    "    \"Below is an instruction that describes a task. \"\n",
    "    \"Write a response that appropriately completes the request.\\n\\n\"\n",
    "    \"### Instruction:\\n{query_str}\\n\\n### Response:\"\n",
    ")"
   ]
  },
  {
   "cell_type": "code",
   "execution_count": null,
   "metadata": {},
   "outputs": [],
   "source": [
    "%pip install accelerate"
   ]
  },
  {
   "cell_type": "code",
   "execution_count": 10,
   "metadata": {},
   "outputs": [
    {
     "name": "stderr",
     "output_type": "stream",
     "text": [
      "Error while downloading from https://cdn-lfs.huggingface.co/repos/bc/f0/bcf0c3e0cd7c59f7f6ecc0d5f5f21c4e1249c257f1454bf23d6a5a6433f319ec/53acde11911aeca10bccfe0a26c001702ad812b0d2f589c4999bf81e6c9a2404?response-content-disposition=attachment%3B+filename*%3DUTF-8%27%27pytorch_model-00001-of-00003.bin%3B+filename%3D%22pytorch_model-00001-of-00003.bin%22%3B&response-content-type=application%2Foctet-stream&Expires=1705881140&Policy=eyJTdGF0ZW1lbnQiOlt7IkNvbmRpdGlvbiI6eyJEYXRlTGVzc1RoYW4iOnsiQVdTOkVwb2NoVGltZSI6MTcwNTg4MTE0MH19LCJSZXNvdXJjZSI6Imh0dHBzOi8vY2RuLWxmcy5odWdnaW5nZmFjZS5jby9yZXBvcy9iYy9mMC9iY2YwYzNlMGNkN2M1OWY3ZjZlY2MwZDVmNWYyMWM0ZTEyNDljMjU3ZjE0NTRiZjIzZDZhNWE2NDMzZjMxOWVjLzUzYWNkZTExOTExYWVjYTEwYmNjZmUwYTI2YzAwMTcwMmFkODEyYjBkMmY1ODljNDk5OWJmODFlNmM5YTI0MDQ%7EcmVzcG9uc2UtY29udGVudC1kaXNwb3NpdGlvbj0qJnJlc3BvbnNlLWNvbnRlbnQtdHlwZT0qIn1dfQ__&Signature=Wm%7EEZeYmM88MozSH68Dr0y6I6%7EFBIZbMkTmZoEIg07ou1UQW471WMGrYgaMdY5dEh1cuGS2-lYGbh4k8ZM2UNwdWi8H0b4XbFqk4Z4W1FC80yJXW%7EXz0B2Okb4O8AmJXFx4EhOP%7EGsLpJvB9M2WsxJFFXnBa0IJ5m9rdz4hkUKKPBUWnisYvuEOwnDEKS0bdcUPAGMlVcAEEx4R1a1Fz%7ETxELEA7eUcnD9Zow%7ERRgqXqGhZIVyUN7plxXPzmn0C6tWRwXU4rf6iZZy3iqeZcguOtvp7c3zkFUxJzxNTC48b3a5gABV-txbJgXu6jzYpK0kzNjCdSJsUi5tzyWGsYPg__&Key-Pair-Id=KVTP0A1DKRTAX: [SSL: DECRYPTION_FAILED_OR_BAD_RECORD_MAC] decryption failed or bad record mac (_ssl.c:2546)\n",
      "Trying to resume download...\n"
     ]
    },
    {
     "name": "stdout",
     "output_type": "stream",
     "text": [
      "WARNING:huggingface_hub.file_download:Error while downloading from https://cdn-lfs.huggingface.co/repos/bc/f0/bcf0c3e0cd7c59f7f6ecc0d5f5f21c4e1249c257f1454bf23d6a5a6433f319ec/53acde11911aeca10bccfe0a26c001702ad812b0d2f589c4999bf81e6c9a2404?response-content-disposition=attachment%3B+filename*%3DUTF-8%27%27pytorch_model-00001-of-00003.bin%3B+filename%3D%22pytorch_model-00001-of-00003.bin%22%3B&response-content-type=application%2Foctet-stream&Expires=1705881140&Policy=eyJTdGF0ZW1lbnQiOlt7IkNvbmRpdGlvbiI6eyJEYXRlTGVzc1RoYW4iOnsiQVdTOkVwb2NoVGltZSI6MTcwNTg4MTE0MH19LCJSZXNvdXJjZSI6Imh0dHBzOi8vY2RuLWxmcy5odWdnaW5nZmFjZS5jby9yZXBvcy9iYy9mMC9iY2YwYzNlMGNkN2M1OWY3ZjZlY2MwZDVmNWYyMWM0ZTEyNDljMjU3ZjE0NTRiZjIzZDZhNWE2NDMzZjMxOWVjLzUzYWNkZTExOTExYWVjYTEwYmNjZmUwYTI2YzAwMTcwMmFkODEyYjBkMmY1ODljNDk5OWJmODFlNmM5YTI0MDQ%7EcmVzcG9uc2UtY29udGVudC1kaXNwb3NpdGlvbj0qJnJlc3BvbnNlLWNvbnRlbnQtdHlwZT0qIn1dfQ__&Signature=Wm%7EEZeYmM88MozSH68Dr0y6I6%7EFBIZbMkTmZoEIg07ou1UQW471WMGrYgaMdY5dEh1cuGS2-lYGbh4k8ZM2UNwdWi8H0b4XbFqk4Z4W1FC80yJXW%7EXz0B2Okb4O8AmJXFx4EhOP%7EGsLpJvB9M2WsxJFFXnBa0IJ5m9rdz4hkUKKPBUWnisYvuEOwnDEKS0bdcUPAGMlVcAEEx4R1a1Fz%7ETxELEA7eUcnD9Zow%7ERRgqXqGhZIVyUN7plxXPzmn0C6tWRwXU4rf6iZZy3iqeZcguOtvp7c3zkFUxJzxNTC48b3a5gABV-txbJgXu6jzYpK0kzNjCdSJsUi5tzyWGsYPg__&Key-Pair-Id=KVTP0A1DKRTAX: [SSL: DECRYPTION_FAILED_OR_BAD_RECORD_MAC] decryption failed or bad record mac (_ssl.c:2546)\n",
      "Trying to resume download...\n",
      "Error while downloading from https://cdn-lfs.huggingface.co/repos/bc/f0/bcf0c3e0cd7c59f7f6ecc0d5f5f21c4e1249c257f1454bf23d6a5a6433f319ec/53acde11911aeca10bccfe0a26c001702ad812b0d2f589c4999bf81e6c9a2404?response-content-disposition=attachment%3B+filename*%3DUTF-8%27%27pytorch_model-00001-of-00003.bin%3B+filename%3D%22pytorch_model-00001-of-00003.bin%22%3B&response-content-type=application%2Foctet-stream&Expires=1705881140&Policy=eyJTdGF0ZW1lbnQiOlt7IkNvbmRpdGlvbiI6eyJEYXRlTGVzc1RoYW4iOnsiQVdTOkVwb2NoVGltZSI6MTcwNTg4MTE0MH19LCJSZXNvdXJjZSI6Imh0dHBzOi8vY2RuLWxmcy5odWdnaW5nZmFjZS5jby9yZXBvcy9iYy9mMC9iY2YwYzNlMGNkN2M1OWY3ZjZlY2MwZDVmNWYyMWM0ZTEyNDljMjU3ZjE0NTRiZjIzZDZhNWE2NDMzZjMxOWVjLzUzYWNkZTExOTExYWVjYTEwYmNjZmUwYTI2YzAwMTcwMmFkODEyYjBkMmY1ODljNDk5OWJmODFlNmM5YTI0MDQ%7EcmVzcG9uc2UtY29udGVudC1kaXNwb3NpdGlvbj0qJnJlc3BvbnNlLWNvbnRlbnQtdHlwZT0qIn1dfQ__&Signature=Wm%7EEZeYmM88MozSH68Dr0y6I6%7EFBIZbMkTmZoEIg07ou1UQW471WMGrYgaMdY5dEh1cuGS2-lYGbh4k8ZM2UNwdWi8H0b4XbFqk4Z4W1FC80yJXW%7EXz0B2Okb4O8AmJXFx4EhOP%7EGsLpJvB9M2WsxJFFXnBa0IJ5m9rdz4hkUKKPBUWnisYvuEOwnDEKS0bdcUPAGMlVcAEEx4R1a1Fz%7ETxELEA7eUcnD9Zow%7ERRgqXqGhZIVyUN7plxXPzmn0C6tWRwXU4rf6iZZy3iqeZcguOtvp7c3zkFUxJzxNTC48b3a5gABV-txbJgXu6jzYpK0kzNjCdSJsUi5tzyWGsYPg__&Key-Pair-Id=KVTP0A1DKRTAX: [SSL: DECRYPTION_FAILED_OR_BAD_RECORD_MAC] decryption failed or bad record mac (_ssl.c:2546)\n",
      "Trying to resume download...\n"
     ]
    },
    {
     "data": {
      "application/vnd.jupyter.widget-view+json": {
       "model_id": "cb88c08b7be043b483a6281020d1b7a0",
       "version_major": 2,
       "version_minor": 0
      },
      "text/plain": [
       "pytorch_model-00001-of-00003.bin:  74%|#######4  | 7.43G/10.0G [00:00<?, ?B/s]"
      ]
     },
     "metadata": {},
     "output_type": "display_data"
    },
    {
     "name": "stderr",
     "output_type": "stream",
     "text": [
      "Error while downloading from https://cdn-lfs.huggingface.co/repos/bc/f0/bcf0c3e0cd7c59f7f6ecc0d5f5f21c4e1249c257f1454bf23d6a5a6433f319ec/53acde11911aeca10bccfe0a26c001702ad812b0d2f589c4999bf81e6c9a2404?response-content-disposition=attachment%3B+filename*%3DUTF-8%27%27pytorch_model-00001-of-00003.bin%3B+filename%3D%22pytorch_model-00001-of-00003.bin%22%3B&response-content-type=application%2Foctet-stream&Expires=1705881140&Policy=eyJTdGF0ZW1lbnQiOlt7IkNvbmRpdGlvbiI6eyJEYXRlTGVzc1RoYW4iOnsiQVdTOkVwb2NoVGltZSI6MTcwNTg4MTE0MH19LCJSZXNvdXJjZSI6Imh0dHBzOi8vY2RuLWxmcy5odWdnaW5nZmFjZS5jby9yZXBvcy9iYy9mMC9iY2YwYzNlMGNkN2M1OWY3ZjZlY2MwZDVmNWYyMWM0ZTEyNDljMjU3ZjE0NTRiZjIzZDZhNWE2NDMzZjMxOWVjLzUzYWNkZTExOTExYWVjYTEwYmNjZmUwYTI2YzAwMTcwMmFkODEyYjBkMmY1ODljNDk5OWJmODFlNmM5YTI0MDQ%7EcmVzcG9uc2UtY29udGVudC1kaXNwb3NpdGlvbj0qJnJlc3BvbnNlLWNvbnRlbnQtdHlwZT0qIn1dfQ__&Signature=Wm%7EEZeYmM88MozSH68Dr0y6I6%7EFBIZbMkTmZoEIg07ou1UQW471WMGrYgaMdY5dEh1cuGS2-lYGbh4k8ZM2UNwdWi8H0b4XbFqk4Z4W1FC80yJXW%7EXz0B2Okb4O8AmJXFx4EhOP%7EGsLpJvB9M2WsxJFFXnBa0IJ5m9rdz4hkUKKPBUWnisYvuEOwnDEKS0bdcUPAGMlVcAEEx4R1a1Fz%7ETxELEA7eUcnD9Zow%7ERRgqXqGhZIVyUN7plxXPzmn0C6tWRwXU4rf6iZZy3iqeZcguOtvp7c3zkFUxJzxNTC48b3a5gABV-txbJgXu6jzYpK0kzNjCdSJsUi5tzyWGsYPg__&Key-Pair-Id=KVTP0A1DKRTAX: [SSL: DECRYPTION_FAILED_OR_BAD_RECORD_MAC] decryption failed or bad record mac (_ssl.c:2546)\n",
      "Trying to resume download...\n"
     ]
    },
    {
     "name": "stdout",
     "output_type": "stream",
     "text": [
      "WARNING:huggingface_hub.file_download:Error while downloading from https://cdn-lfs.huggingface.co/repos/bc/f0/bcf0c3e0cd7c59f7f6ecc0d5f5f21c4e1249c257f1454bf23d6a5a6433f319ec/53acde11911aeca10bccfe0a26c001702ad812b0d2f589c4999bf81e6c9a2404?response-content-disposition=attachment%3B+filename*%3DUTF-8%27%27pytorch_model-00001-of-00003.bin%3B+filename%3D%22pytorch_model-00001-of-00003.bin%22%3B&response-content-type=application%2Foctet-stream&Expires=1705881140&Policy=eyJTdGF0ZW1lbnQiOlt7IkNvbmRpdGlvbiI6eyJEYXRlTGVzc1RoYW4iOnsiQVdTOkVwb2NoVGltZSI6MTcwNTg4MTE0MH19LCJSZXNvdXJjZSI6Imh0dHBzOi8vY2RuLWxmcy5odWdnaW5nZmFjZS5jby9yZXBvcy9iYy9mMC9iY2YwYzNlMGNkN2M1OWY3ZjZlY2MwZDVmNWYyMWM0ZTEyNDljMjU3ZjE0NTRiZjIzZDZhNWE2NDMzZjMxOWVjLzUzYWNkZTExOTExYWVjYTEwYmNjZmUwYTI2YzAwMTcwMmFkODEyYjBkMmY1ODljNDk5OWJmODFlNmM5YTI0MDQ%7EcmVzcG9uc2UtY29udGVudC1kaXNwb3NpdGlvbj0qJnJlc3BvbnNlLWNvbnRlbnQtdHlwZT0qIn1dfQ__&Signature=Wm%7EEZeYmM88MozSH68Dr0y6I6%7EFBIZbMkTmZoEIg07ou1UQW471WMGrYgaMdY5dEh1cuGS2-lYGbh4k8ZM2UNwdWi8H0b4XbFqk4Z4W1FC80yJXW%7EXz0B2Okb4O8AmJXFx4EhOP%7EGsLpJvB9M2WsxJFFXnBa0IJ5m9rdz4hkUKKPBUWnisYvuEOwnDEKS0bdcUPAGMlVcAEEx4R1a1Fz%7ETxELEA7eUcnD9Zow%7ERRgqXqGhZIVyUN7plxXPzmn0C6tWRwXU4rf6iZZy3iqeZcguOtvp7c3zkFUxJzxNTC48b3a5gABV-txbJgXu6jzYpK0kzNjCdSJsUi5tzyWGsYPg__&Key-Pair-Id=KVTP0A1DKRTAX: [SSL: DECRYPTION_FAILED_OR_BAD_RECORD_MAC] decryption failed or bad record mac (_ssl.c:2546)\n",
      "Trying to resume download...\n",
      "Error while downloading from https://cdn-lfs.huggingface.co/repos/bc/f0/bcf0c3e0cd7c59f7f6ecc0d5f5f21c4e1249c257f1454bf23d6a5a6433f319ec/53acde11911aeca10bccfe0a26c001702ad812b0d2f589c4999bf81e6c9a2404?response-content-disposition=attachment%3B+filename*%3DUTF-8%27%27pytorch_model-00001-of-00003.bin%3B+filename%3D%22pytorch_model-00001-of-00003.bin%22%3B&response-content-type=application%2Foctet-stream&Expires=1705881140&Policy=eyJTdGF0ZW1lbnQiOlt7IkNvbmRpdGlvbiI6eyJEYXRlTGVzc1RoYW4iOnsiQVdTOkVwb2NoVGltZSI6MTcwNTg4MTE0MH19LCJSZXNvdXJjZSI6Imh0dHBzOi8vY2RuLWxmcy5odWdnaW5nZmFjZS5jby9yZXBvcy9iYy9mMC9iY2YwYzNlMGNkN2M1OWY3ZjZlY2MwZDVmNWYyMWM0ZTEyNDljMjU3ZjE0NTRiZjIzZDZhNWE2NDMzZjMxOWVjLzUzYWNkZTExOTExYWVjYTEwYmNjZmUwYTI2YzAwMTcwMmFkODEyYjBkMmY1ODljNDk5OWJmODFlNmM5YTI0MDQ%7EcmVzcG9uc2UtY29udGVudC1kaXNwb3NpdGlvbj0qJnJlc3BvbnNlLWNvbnRlbnQtdHlwZT0qIn1dfQ__&Signature=Wm%7EEZeYmM88MozSH68Dr0y6I6%7EFBIZbMkTmZoEIg07ou1UQW471WMGrYgaMdY5dEh1cuGS2-lYGbh4k8ZM2UNwdWi8H0b4XbFqk4Z4W1FC80yJXW%7EXz0B2Okb4O8AmJXFx4EhOP%7EGsLpJvB9M2WsxJFFXnBa0IJ5m9rdz4hkUKKPBUWnisYvuEOwnDEKS0bdcUPAGMlVcAEEx4R1a1Fz%7ETxELEA7eUcnD9Zow%7ERRgqXqGhZIVyUN7plxXPzmn0C6tWRwXU4rf6iZZy3iqeZcguOtvp7c3zkFUxJzxNTC48b3a5gABV-txbJgXu6jzYpK0kzNjCdSJsUi5tzyWGsYPg__&Key-Pair-Id=KVTP0A1DKRTAX: [SSL: DECRYPTION_FAILED_OR_BAD_RECORD_MAC] decryption failed or bad record mac (_ssl.c:2546)\n",
      "Trying to resume download...\n"
     ]
    },
    {
     "data": {
      "application/vnd.jupyter.widget-view+json": {
       "model_id": "a73ac87bd2e84ea9b221c85d03c56899",
       "version_major": 2,
       "version_minor": 0
      },
      "text/plain": [
       "pytorch_model-00001-of-00003.bin:  76%|#######5  | 7.59G/10.0G [00:00<?, ?B/s]"
      ]
     },
     "metadata": {},
     "output_type": "display_data"
    },
    {
     "data": {
      "application/vnd.jupyter.widget-view+json": {
       "model_id": "a3e6cd40fa684258bb6dae86df8676d9",
       "version_major": 2,
       "version_minor": 0
      },
      "text/plain": [
       "pytorch_model-00002-of-00003.bin:   0%|          | 0.00/9.99G [00:00<?, ?B/s]"
      ]
     },
     "metadata": {},
     "output_type": "display_data"
    },
    {
     "name": "stderr",
     "output_type": "stream",
     "text": [
      "Error while downloading from https://cdn-lfs.huggingface.co/repos/bc/f0/bcf0c3e0cd7c59f7f6ecc0d5f5f21c4e1249c257f1454bf23d6a5a6433f319ec/4a2dffb78952892cf0654fc7a8d3e5eac8cdf1f9e2b0ff061535ca5afde97264?response-content-disposition=attachment%3B+filename*%3DUTF-8%27%27pytorch_model-00002-of-00003.bin%3B+filename%3D%22pytorch_model-00002-of-00003.bin%22%3B&response-content-type=application%2Foctet-stream&Expires=1705884749&Policy=eyJTdGF0ZW1lbnQiOlt7IkNvbmRpdGlvbiI6eyJEYXRlTGVzc1RoYW4iOnsiQVdTOkVwb2NoVGltZSI6MTcwNTg4NDc0OX19LCJSZXNvdXJjZSI6Imh0dHBzOi8vY2RuLWxmcy5odWdnaW5nZmFjZS5jby9yZXBvcy9iYy9mMC9iY2YwYzNlMGNkN2M1OWY3ZjZlY2MwZDVmNWYyMWM0ZTEyNDljMjU3ZjE0NTRiZjIzZDZhNWE2NDMzZjMxOWVjLzRhMmRmZmI3ODk1Mjg5MmNmMDY1NGZjN2E4ZDNlNWVhYzhjZGYxZjllMmIwZmYwNjE1MzVjYTVhZmRlOTcyNjQ%7EcmVzcG9uc2UtY29udGVudC1kaXNwb3NpdGlvbj0qJnJlc3BvbnNlLWNvbnRlbnQtdHlwZT0qIn1dfQ__&Signature=cazn60HbF4GF56X5YLeXf5s4mXk3A7DuQvReWSND3PmdNmDiw9PU9VyiIfqn29Yn1zqb-SKEVuBXfXollQBj8uBI2d8aYcjGm4wi86QQoHw1jRSTgILSjY-P%7EI9C2md4kiN5srL0a2Bk%7EaNP-zSO65V2xyD0fldG9-rxw-N5-RB9bm5lkGcqKUR12-jioReidkKkGVU4Rdk5SWwDpOCH9tbjyGNOi8k3G27m6iDcoEtLYFOBtCmy3i1IBYepkod5vbxlZot8Ca8UdebLhY7q8p-ii81UUHT0wFs3%7E46-AOt9Egy0yFMG8K%7EHocR2tlJ68fynosjfYhJdhY5kkKIswQ__&Key-Pair-Id=KVTP0A1DKRTAX: [SSL: DECRYPTION_FAILED_OR_BAD_RECORD_MAC] decryption failed or bad record mac (_ssl.c:2546)\n",
      "Trying to resume download...\n"
     ]
    },
    {
     "name": "stdout",
     "output_type": "stream",
     "text": [
      "WARNING:huggingface_hub.file_download:Error while downloading from https://cdn-lfs.huggingface.co/repos/bc/f0/bcf0c3e0cd7c59f7f6ecc0d5f5f21c4e1249c257f1454bf23d6a5a6433f319ec/4a2dffb78952892cf0654fc7a8d3e5eac8cdf1f9e2b0ff061535ca5afde97264?response-content-disposition=attachment%3B+filename*%3DUTF-8%27%27pytorch_model-00002-of-00003.bin%3B+filename%3D%22pytorch_model-00002-of-00003.bin%22%3B&response-content-type=application%2Foctet-stream&Expires=1705884749&Policy=eyJTdGF0ZW1lbnQiOlt7IkNvbmRpdGlvbiI6eyJEYXRlTGVzc1RoYW4iOnsiQVdTOkVwb2NoVGltZSI6MTcwNTg4NDc0OX19LCJSZXNvdXJjZSI6Imh0dHBzOi8vY2RuLWxmcy5odWdnaW5nZmFjZS5jby9yZXBvcy9iYy9mMC9iY2YwYzNlMGNkN2M1OWY3ZjZlY2MwZDVmNWYyMWM0ZTEyNDljMjU3ZjE0NTRiZjIzZDZhNWE2NDMzZjMxOWVjLzRhMmRmZmI3ODk1Mjg5MmNmMDY1NGZjN2E4ZDNlNWVhYzhjZGYxZjllMmIwZmYwNjE1MzVjYTVhZmRlOTcyNjQ%7EcmVzcG9uc2UtY29udGVudC1kaXNwb3NpdGlvbj0qJnJlc3BvbnNlLWNvbnRlbnQtdHlwZT0qIn1dfQ__&Signature=cazn60HbF4GF56X5YLeXf5s4mXk3A7DuQvReWSND3PmdNmDiw9PU9VyiIfqn29Yn1zqb-SKEVuBXfXollQBj8uBI2d8aYcjGm4wi86QQoHw1jRSTgILSjY-P%7EI9C2md4kiN5srL0a2Bk%7EaNP-zSO65V2xyD0fldG9-rxw-N5-RB9bm5lkGcqKUR12-jioReidkKkGVU4Rdk5SWwDpOCH9tbjyGNOi8k3G27m6iDcoEtLYFOBtCmy3i1IBYepkod5vbxlZot8Ca8UdebLhY7q8p-ii81UUHT0wFs3%7E46-AOt9Egy0yFMG8K%7EHocR2tlJ68fynosjfYhJdhY5kkKIswQ__&Key-Pair-Id=KVTP0A1DKRTAX: [SSL: DECRYPTION_FAILED_OR_BAD_RECORD_MAC] decryption failed or bad record mac (_ssl.c:2546)\n",
      "Trying to resume download...\n",
      "Error while downloading from https://cdn-lfs.huggingface.co/repos/bc/f0/bcf0c3e0cd7c59f7f6ecc0d5f5f21c4e1249c257f1454bf23d6a5a6433f319ec/4a2dffb78952892cf0654fc7a8d3e5eac8cdf1f9e2b0ff061535ca5afde97264?response-content-disposition=attachment%3B+filename*%3DUTF-8%27%27pytorch_model-00002-of-00003.bin%3B+filename%3D%22pytorch_model-00002-of-00003.bin%22%3B&response-content-type=application%2Foctet-stream&Expires=1705884749&Policy=eyJTdGF0ZW1lbnQiOlt7IkNvbmRpdGlvbiI6eyJEYXRlTGVzc1RoYW4iOnsiQVdTOkVwb2NoVGltZSI6MTcwNTg4NDc0OX19LCJSZXNvdXJjZSI6Imh0dHBzOi8vY2RuLWxmcy5odWdnaW5nZmFjZS5jby9yZXBvcy9iYy9mMC9iY2YwYzNlMGNkN2M1OWY3ZjZlY2MwZDVmNWYyMWM0ZTEyNDljMjU3ZjE0NTRiZjIzZDZhNWE2NDMzZjMxOWVjLzRhMmRmZmI3ODk1Mjg5MmNmMDY1NGZjN2E4ZDNlNWVhYzhjZGYxZjllMmIwZmYwNjE1MzVjYTVhZmRlOTcyNjQ%7EcmVzcG9uc2UtY29udGVudC1kaXNwb3NpdGlvbj0qJnJlc3BvbnNlLWNvbnRlbnQtdHlwZT0qIn1dfQ__&Signature=cazn60HbF4GF56X5YLeXf5s4mXk3A7DuQvReWSND3PmdNmDiw9PU9VyiIfqn29Yn1zqb-SKEVuBXfXollQBj8uBI2d8aYcjGm4wi86QQoHw1jRSTgILSjY-P%7EI9C2md4kiN5srL0a2Bk%7EaNP-zSO65V2xyD0fldG9-rxw-N5-RB9bm5lkGcqKUR12-jioReidkKkGVU4Rdk5SWwDpOCH9tbjyGNOi8k3G27m6iDcoEtLYFOBtCmy3i1IBYepkod5vbxlZot8Ca8UdebLhY7q8p-ii81UUHT0wFs3%7E46-AOt9Egy0yFMG8K%7EHocR2tlJ68fynosjfYhJdhY5kkKIswQ__&Key-Pair-Id=KVTP0A1DKRTAX: [SSL: DECRYPTION_FAILED_OR_BAD_RECORD_MAC] decryption failed or bad record mac (_ssl.c:2546)\n",
      "Trying to resume download...\n"
     ]
    },
    {
     "data": {
      "application/vnd.jupyter.widget-view+json": {
       "model_id": "84546bd98d2c44da90c6ea250758a1f0",
       "version_major": 2,
       "version_minor": 0
      },
      "text/plain": [
       "pytorch_model-00002-of-00003.bin:  26%|##6       | 2.61G/9.99G [00:00<?, ?B/s]"
      ]
     },
     "metadata": {},
     "output_type": "display_data"
    }
   ],
   "source": [
    "from llama_index.llms import HuggingFaceLLM\n",
    "import torch\n",
    "\n",
    "llm = HuggingFaceLLM(\n",
    "    context_window=2048,\n",
    "    max_new_tokens=256,\n",
    "    generate_kwargs={\"temperature\": 0.25, \"do_sample\": False},\n",
    "    query_wrapper_prompt=query_wrapper_prompt,\n",
    "    tokenizer_name=\"Writer/camel-5b-hf\",\n",
    "    model_name=\"Writer/camel-5b-hf\",\n",
    "    device_map=\"auto\",\n",
    "    tokenizer_kwargs={\"max_length\": 2048},\n",
    "    # uncomment this if using CUDA to reduce memory usage\n",
    "    # model_kwargs={\"torch_dtype\": torch.float16}\n",
    ")\n",
    "service_context = ServiceContext.from_defaults(chunk_size=512, llm=llm)"
   ]
  },
  {
   "cell_type": "code",
   "execution_count": null,
   "metadata": {},
   "outputs": [],
   "source": [
    "index = VectorStoreIndex.from_documents(\n",
    "    documents, service_context=service_context\n",
    ")"
   ]
  },
  {
   "cell_type": "code",
   "execution_count": null,
   "metadata": {},
   "outputs": [],
   "source": []
  }
 ],
 "metadata": {
  "kernelspec": {
   "display_name": "Python 3",
   "language": "python",
   "name": "python3"
  },
  "language_info": {
   "codemirror_mode": {
    "name": "ipython",
    "version": 3
   },
   "file_extension": ".py",
   "mimetype": "text/x-python",
   "name": "python",
   "nbconvert_exporter": "python",
   "pygments_lexer": "ipython3",
   "version": "3.11.1"
  }
 },
 "nbformat": 4,
 "nbformat_minor": 2
}
